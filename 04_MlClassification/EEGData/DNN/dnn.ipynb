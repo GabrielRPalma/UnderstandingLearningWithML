{
 "cells": [
  {
   "cell_type": "markdown",
   "id": "1e23c4d7-91fd-4038-b7b2-8b5447cff149",
   "metadata": {},
   "source": [
    "# Deep Neural Network acrchitecture\n",
    "\n",
    "Purpose: Create DNN architecture.\n",
    "\n",
    "Author: Gabriel Rodrigues Palma and Rafael de Andrade Moral"
   ]
  },
  {
   "cell_type": "code",
   "execution_count": 89,
   "id": "10e98038-d576-4100-a384-42a23b174981",
   "metadata": {},
   "outputs": [
    {
     "name": "stdout",
     "output_type": "stream",
     "text": [
      "Num GPUs Available:  1\n"
     ]
    }
   ],
   "source": [
    "# visualisation modules\n",
    "import matplotlib.pyplot as plt\n",
    "\n",
    "# Data manipulation modules\n",
    "import numpy as np\n",
    "import pandas as pd\n",
    "\n",
    "# Machine learning modules\n",
    "from sklearn.model_selection import train_test_split\n",
    "from sklearn.preprocessing import MinMaxScaler\n",
    "\n",
    "# Deep learning modules\n",
    "import tensorflow as tf\n",
    "from tensorflow import keras\n",
    "from tensorflow.keras.layers import Dense, Dropout, BatchNormalization\n",
    "from tensorflow.keras.models import Sequential\n",
    "from tensorflow.keras import layers\n",
    "from keras.layers import LeakyReLU\n",
    "\n",
    "# Machine learning packages\n",
    "from sklearn.preprocessing import LabelEncoder\n",
    "from sklearn.preprocessing import OneHotEncoder\n",
    "import collections\n",
    "from sklearn.model_selection import train_test_split\n",
    "from sklearn.utils import shuffle\n",
    "from sklearn.model_selection import cross_val_score, RandomizedSearchCV, KFold\n",
    "from sklearn.model_selection import LeaveOneOut\n",
    "from sklearn.decomposition import PCA\n",
    "from sklearn.preprocessing import MinMaxScaler\n",
    "from sklearn import svm\n",
    "from sklearn.metrics import accuracy_score, confusion_matrix\n",
    "from sklearn.ensemble import RandomForestClassifier\n",
    "from sklearn.neighbors import KNeighborsClassifier\n",
    "from sklearn.linear_model import Lasso\n",
    "from sklearn.preprocessing import LabelBinarizer\n",
    "\n",
    "# Additional packages\n",
    "from keras.layers import Input, Dense, Conv2D, MaxPooling2D, Conv2DTranspose, UpSampling2D, Flatten, Reshape\n",
    "from keras.models import Model\n",
    "from keras.optimizers import Adam\n",
    "from keras.regularizers import L1\n",
    "#from scikeras.wrappers import KerasClassifier\n",
    "from keras import metrics\n",
    "import numpy as np\n",
    "import matplotlib.pyplot as plt\n",
    "import keras.backend as K\n",
    "import tensorflow as tf\n",
    "\n",
    "# Testing GPU from MacOs\n",
    "print(\"Num GPUs Available: \", len(tf.config.experimental.list_physical_devices('GPU')))"
   ]
  },
  {
   "cell_type": "markdown",
   "id": "5ea57e0d",
   "metadata": {},
   "source": [
    "# Functions used in the project"
   ]
  },
  {
   "cell_type": "code",
   "execution_count": 3,
   "id": "0d0f649d",
   "metadata": {},
   "outputs": [],
   "source": [
    "def create_dataset(path, response_class):\n",
    "    ''' This function reads and prepare the datasets for applying the ML and DL methods'''\n",
    "    data = pd.read_csv(path)\n",
    "    data = data.drop(columns = ['Unnamed: 0', 'Subject'])\n",
    "    explanatory_variables = data.drop(columns = response_class)\n",
    "    response_variables = data[response_class]        \n",
    "    binarizer = LabelBinarizer()\n",
    "    response_variables = binarizer.fit_transform(response_variables)\n",
    "    \n",
    "    onehot_encoder = OneHotEncoder(sparse=False)\n",
    "    hot_encode_response_variable = onehot_encoder.fit_transform(np.array(response_variables).reshape(-1, 1))          \n",
    "    \n",
    "    return(explanatory_variables, \n",
    "           hot_encode_response_variable, response_variables)"
   ]
  },
  {
   "cell_type": "markdown",
   "id": "13f48f9a-05ad-4bdf-a6ed-e1505511eafa",
   "metadata": {},
   "source": [
    "# Importing Datasets"
   ]
  },
  {
   "cell_type": "markdown",
   "id": "422d4dfe",
   "metadata": {},
   "source": [
    "Before obtaining the performance of the learning algorithms selected for this paper, we need to import the datasets related to the Hidden Markov Models features and the peak features."
   ]
  },
  {
   "cell_type": "markdown",
   "id": "797c40f6",
   "metadata": {},
   "source": [
    "## Minmax scale Midline EEG data Trial 1"
   ]
  },
  {
   "cell_type": "code",
   "execution_count": 5,
   "id": "c871c630",
   "metadata": {},
   "outputs": [],
   "source": [
    "all_Minmax_scale_explanatory_variables_t1, \\\n",
    "  all_Minmax_scale_hot_encode_response_variable_t1, all_Minmax_scale_response_variable_t1 = create_dataset(path = '../../../output_data/New_data/SplitDatasets/MinmaxscaleTrial1.csv', \n",
    "                                                                                           response_class = 'features_class')"
   ]
  },
  {
   "cell_type": "code",
   "execution_count": 6,
   "id": "fedcd58a",
   "metadata": {},
   "outputs": [
    {
     "data": {
      "text/html": [
       "<div>\n",
       "<style scoped>\n",
       "    .dataframe tbody tr th:only-of-type {\n",
       "        vertical-align: middle;\n",
       "    }\n",
       "\n",
       "    .dataframe tbody tr th {\n",
       "        vertical-align: top;\n",
       "    }\n",
       "\n",
       "    .dataframe thead th {\n",
       "        text-align: right;\n",
       "    }\n",
       "</style>\n",
       "<table border=\"1\" class=\"dataframe\">\n",
       "  <thead>\n",
       "    <tr style=\"text-align: right;\">\n",
       "      <th></th>\n",
       "      <th>MM_Intercept</th>\n",
       "      <th>MM_Hess</th>\n",
       "      <th>average_peak_magnitude</th>\n",
       "      <th>average_peak_curvature</th>\n",
       "      <th>hmm2_mean.1</th>\n",
       "      <th>hmm2_mean.2</th>\n",
       "      <th>hmm2_sd.1</th>\n",
       "      <th>hmm2_sd.2</th>\n",
       "      <th>hmm2_p1</th>\n",
       "      <th>hmm2_p2</th>\n",
       "      <th>...</th>\n",
       "      <th>hmm5_sd.1</th>\n",
       "      <th>hmm5_sd.2</th>\n",
       "      <th>hmm5_sd.3</th>\n",
       "      <th>hmm5_sd.4</th>\n",
       "      <th>hmm5_sd.5</th>\n",
       "      <th>hmm5_p1</th>\n",
       "      <th>hmm5_p2</th>\n",
       "      <th>hmm5_p3</th>\n",
       "      <th>hmm5_p4</th>\n",
       "      <th>hmm5_p5</th>\n",
       "    </tr>\n",
       "  </thead>\n",
       "  <tbody>\n",
       "    <tr>\n",
       "      <th>0</th>\n",
       "      <td>0.052283</td>\n",
       "      <td>-10.740852</td>\n",
       "      <td>0.329249</td>\n",
       "      <td>-0.000296</td>\n",
       "      <td>0.348</td>\n",
       "      <td>0.216</td>\n",
       "      <td>0.065</td>\n",
       "      <td>0.037</td>\n",
       "      <td>0.515900</td>\n",
       "      <td>0.484100</td>\n",
       "      <td>...</td>\n",
       "      <td>0.011</td>\n",
       "      <td>0.058</td>\n",
       "      <td>0.016</td>\n",
       "      <td>0.024</td>\n",
       "      <td>0.012</td>\n",
       "      <td>0.180843</td>\n",
       "      <td>0.240996</td>\n",
       "      <td>0.243103</td>\n",
       "      <td>0.144828</td>\n",
       "      <td>0.190230</td>\n",
       "    </tr>\n",
       "    <tr>\n",
       "      <th>1</th>\n",
       "      <td>0.052178</td>\n",
       "      <td>-10.722025</td>\n",
       "      <td>0.340976</td>\n",
       "      <td>-0.000324</td>\n",
       "      <td>0.209</td>\n",
       "      <td>0.364</td>\n",
       "      <td>0.048</td>\n",
       "      <td>0.092</td>\n",
       "      <td>0.530876</td>\n",
       "      <td>0.469124</td>\n",
       "      <td>...</td>\n",
       "      <td>0.112</td>\n",
       "      <td>0.016</td>\n",
       "      <td>0.023</td>\n",
       "      <td>0.026</td>\n",
       "      <td>0.015</td>\n",
       "      <td>0.156503</td>\n",
       "      <td>0.214782</td>\n",
       "      <td>0.282709</td>\n",
       "      <td>0.138557</td>\n",
       "      <td>0.207449</td>\n",
       "    </tr>\n",
       "    <tr>\n",
       "      <th>2</th>\n",
       "      <td>-0.030231</td>\n",
       "      <td>6.213944</td>\n",
       "      <td>0.230614</td>\n",
       "      <td>-0.000272</td>\n",
       "      <td>0.269</td>\n",
       "      <td>0.147</td>\n",
       "      <td>0.064</td>\n",
       "      <td>0.032</td>\n",
       "      <td>0.404959</td>\n",
       "      <td>0.595041</td>\n",
       "      <td>...</td>\n",
       "      <td>0.018</td>\n",
       "      <td>0.016</td>\n",
       "      <td>0.060</td>\n",
       "      <td>0.010</td>\n",
       "      <td>0.009</td>\n",
       "      <td>0.229291</td>\n",
       "      <td>0.181818</td>\n",
       "      <td>0.179896</td>\n",
       "      <td>0.210456</td>\n",
       "      <td>0.198539</td>\n",
       "    </tr>\n",
       "    <tr>\n",
       "      <th>3</th>\n",
       "      <td>-0.000309</td>\n",
       "      <td>0.064725</td>\n",
       "      <td>0.239325</td>\n",
       "      <td>-0.000217</td>\n",
       "      <td>0.264</td>\n",
       "      <td>0.155</td>\n",
       "      <td>0.045</td>\n",
       "      <td>0.034</td>\n",
       "      <td>0.440678</td>\n",
       "      <td>0.559322</td>\n",
       "      <td>...</td>\n",
       "      <td>0.011</td>\n",
       "      <td>0.036</td>\n",
       "      <td>0.014</td>\n",
       "      <td>0.009</td>\n",
       "      <td>0.022</td>\n",
       "      <td>0.190485</td>\n",
       "      <td>0.208398</td>\n",
       "      <td>0.214176</td>\n",
       "      <td>0.224576</td>\n",
       "      <td>0.162365</td>\n",
       "    </tr>\n",
       "    <tr>\n",
       "      <th>4</th>\n",
       "      <td>0.094943</td>\n",
       "      <td>-19.507132</td>\n",
       "      <td>0.403699</td>\n",
       "      <td>-0.000361</td>\n",
       "      <td>0.275</td>\n",
       "      <td>0.459</td>\n",
       "      <td>0.053</td>\n",
       "      <td>0.082</td>\n",
       "      <td>0.627565</td>\n",
       "      <td>0.372435</td>\n",
       "      <td>...</td>\n",
       "      <td>0.024</td>\n",
       "      <td>0.075</td>\n",
       "      <td>0.028</td>\n",
       "      <td>0.015</td>\n",
       "      <td>0.014</td>\n",
       "      <td>0.237708</td>\n",
       "      <td>0.252226</td>\n",
       "      <td>0.111692</td>\n",
       "      <td>0.255517</td>\n",
       "      <td>0.142857</td>\n",
       "    </tr>\n",
       "  </tbody>\n",
       "</table>\n",
       "<p>5 rows × 46 columns</p>\n",
       "</div>"
      ],
      "text/plain": [
       "   MM_Intercept    MM_Hess  average_peak_magnitude  average_peak_curvature  \\\n",
       "0      0.052283 -10.740852                0.329249               -0.000296   \n",
       "1      0.052178 -10.722025                0.340976               -0.000324   \n",
       "2     -0.030231   6.213944                0.230614               -0.000272   \n",
       "3     -0.000309   0.064725                0.239325               -0.000217   \n",
       "4      0.094943 -19.507132                0.403699               -0.000361   \n",
       "\n",
       "   hmm2_mean.1  hmm2_mean.2  hmm2_sd.1  hmm2_sd.2   hmm2_p1   hmm2_p2  ...  \\\n",
       "0        0.348        0.216      0.065      0.037  0.515900  0.484100  ...   \n",
       "1        0.209        0.364      0.048      0.092  0.530876  0.469124  ...   \n",
       "2        0.269        0.147      0.064      0.032  0.404959  0.595041  ...   \n",
       "3        0.264        0.155      0.045      0.034  0.440678  0.559322  ...   \n",
       "4        0.275        0.459      0.053      0.082  0.627565  0.372435  ...   \n",
       "\n",
       "   hmm5_sd.1  hmm5_sd.2  hmm5_sd.3  hmm5_sd.4  hmm5_sd.5   hmm5_p1   hmm5_p2  \\\n",
       "0      0.011      0.058      0.016      0.024      0.012  0.180843  0.240996   \n",
       "1      0.112      0.016      0.023      0.026      0.015  0.156503  0.214782   \n",
       "2      0.018      0.016      0.060      0.010      0.009  0.229291  0.181818   \n",
       "3      0.011      0.036      0.014      0.009      0.022  0.190485  0.208398   \n",
       "4      0.024      0.075      0.028      0.015      0.014  0.237708  0.252226   \n",
       "\n",
       "    hmm5_p3   hmm5_p4   hmm5_p5  \n",
       "0  0.243103  0.144828  0.190230  \n",
       "1  0.282709  0.138557  0.207449  \n",
       "2  0.179896  0.210456  0.198539  \n",
       "3  0.214176  0.224576  0.162365  \n",
       "4  0.111692  0.255517  0.142857  \n",
       "\n",
       "[5 rows x 46 columns]"
      ]
     },
     "execution_count": 6,
     "metadata": {},
     "output_type": "execute_result"
    }
   ],
   "source": [
    "all_Minmax_scale_explanatory_variables_t1.head()"
   ]
  },
  {
   "cell_type": "markdown",
   "id": "e147b4fc",
   "metadata": {},
   "source": [
    "## Minmax scale Midline EEG data Trial 12"
   ]
  },
  {
   "cell_type": "code",
   "execution_count": 76,
   "id": "5d5c204f",
   "metadata": {},
   "outputs": [],
   "source": [
    "all_Minmax_scale_explanatory_variables_t12, \\\n",
    "  all_Minmax_scale_hot_encode_response_variable_t12, all_Minmax_scale_response_variable_t12 = create_dataset(path = '../../../output_data/New_data/SplitDatasets/MinmaxscaleTrial1.csv', \n",
    "                                                                                           response_class = 'features_class')"
   ]
  },
  {
   "cell_type": "code",
   "execution_count": 9,
   "id": "c97c4a34",
   "metadata": {},
   "outputs": [
    {
     "data": {
      "text/html": [
       "<div>\n",
       "<style scoped>\n",
       "    .dataframe tbody tr th:only-of-type {\n",
       "        vertical-align: middle;\n",
       "    }\n",
       "\n",
       "    .dataframe tbody tr th {\n",
       "        vertical-align: top;\n",
       "    }\n",
       "\n",
       "    .dataframe thead th {\n",
       "        text-align: right;\n",
       "    }\n",
       "</style>\n",
       "<table border=\"1\" class=\"dataframe\">\n",
       "  <thead>\n",
       "    <tr style=\"text-align: right;\">\n",
       "      <th></th>\n",
       "      <th>MM_Intercept</th>\n",
       "      <th>MM_Hess</th>\n",
       "      <th>average_peak_magnitude</th>\n",
       "      <th>average_peak_curvature</th>\n",
       "      <th>hmm2_mean.1</th>\n",
       "      <th>hmm2_mean.2</th>\n",
       "      <th>hmm2_sd.1</th>\n",
       "      <th>hmm2_sd.2</th>\n",
       "      <th>hmm2_p1</th>\n",
       "      <th>hmm2_p2</th>\n",
       "      <th>...</th>\n",
       "      <th>hmm5_sd.1</th>\n",
       "      <th>hmm5_sd.2</th>\n",
       "      <th>hmm5_sd.3</th>\n",
       "      <th>hmm5_sd.4</th>\n",
       "      <th>hmm5_sd.5</th>\n",
       "      <th>hmm5_p1</th>\n",
       "      <th>hmm5_p2</th>\n",
       "      <th>hmm5_p3</th>\n",
       "      <th>hmm5_p4</th>\n",
       "      <th>hmm5_p5</th>\n",
       "    </tr>\n",
       "  </thead>\n",
       "  <tbody>\n",
       "    <tr>\n",
       "      <th>0</th>\n",
       "      <td>0.061130</td>\n",
       "      <td>0.705040</td>\n",
       "      <td>0.372955</td>\n",
       "      <td>-0.000386</td>\n",
       "      <td>0.394</td>\n",
       "      <td>0.253</td>\n",
       "      <td>0.073</td>\n",
       "      <td>0.048</td>\n",
       "      <td>0.315457</td>\n",
       "      <td>0.684543</td>\n",
       "      <td>...</td>\n",
       "      <td>0.017</td>\n",
       "      <td>0.008</td>\n",
       "      <td>0.028</td>\n",
       "      <td>0.014</td>\n",
       "      <td>0.067</td>\n",
       "      <td>0.194532</td>\n",
       "      <td>0.219769</td>\n",
       "      <td>0.256572</td>\n",
       "      <td>0.170347</td>\n",
       "      <td>0.158780</td>\n",
       "    </tr>\n",
       "    <tr>\n",
       "      <th>1</th>\n",
       "      <td>0.020163</td>\n",
       "      <td>-88.391867</td>\n",
       "      <td>0.351785</td>\n",
       "      <td>-0.000365</td>\n",
       "      <td>0.224</td>\n",
       "      <td>0.442</td>\n",
       "      <td>0.029</td>\n",
       "      <td>0.149</td>\n",
       "      <td>0.590447</td>\n",
       "      <td>0.409553</td>\n",
       "      <td>...</td>\n",
       "      <td>0.010</td>\n",
       "      <td>0.014</td>\n",
       "      <td>0.008</td>\n",
       "      <td>0.044</td>\n",
       "      <td>0.153</td>\n",
       "      <td>0.149390</td>\n",
       "      <td>0.257114</td>\n",
       "      <td>0.183943</td>\n",
       "      <td>0.295732</td>\n",
       "      <td>0.113821</td>\n",
       "    </tr>\n",
       "    <tr>\n",
       "      <th>2</th>\n",
       "      <td>-0.044913</td>\n",
       "      <td>-101.184206</td>\n",
       "      <td>0.212457</td>\n",
       "      <td>-0.000230</td>\n",
       "      <td>0.126</td>\n",
       "      <td>0.261</td>\n",
       "      <td>0.022</td>\n",
       "      <td>0.090</td>\n",
       "      <td>0.470644</td>\n",
       "      <td>0.529356</td>\n",
       "      <td>...</td>\n",
       "      <td>0.016</td>\n",
       "      <td>0.004</td>\n",
       "      <td>0.007</td>\n",
       "      <td>0.026</td>\n",
       "      <td>0.091</td>\n",
       "      <td>0.129735</td>\n",
       "      <td>0.188447</td>\n",
       "      <td>0.133523</td>\n",
       "      <td>0.357008</td>\n",
       "      <td>0.191288</td>\n",
       "    </tr>\n",
       "    <tr>\n",
       "      <th>3</th>\n",
       "      <td>-0.001816</td>\n",
       "      <td>-48.016730</td>\n",
       "      <td>0.266135</td>\n",
       "      <td>-0.000272</td>\n",
       "      <td>0.308</td>\n",
       "      <td>0.171</td>\n",
       "      <td>0.059</td>\n",
       "      <td>0.031</td>\n",
       "      <td>0.423729</td>\n",
       "      <td>0.576271</td>\n",
       "      <td>...</td>\n",
       "      <td>0.006</td>\n",
       "      <td>0.013</td>\n",
       "      <td>0.009</td>\n",
       "      <td>0.026</td>\n",
       "      <td>0.048</td>\n",
       "      <td>0.095450</td>\n",
       "      <td>0.329170</td>\n",
       "      <td>0.116860</td>\n",
       "      <td>0.266726</td>\n",
       "      <td>0.191793</td>\n",
       "    </tr>\n",
       "    <tr>\n",
       "      <th>4</th>\n",
       "      <td>0.037201</td>\n",
       "      <td>-95.792486</td>\n",
       "      <td>0.377899</td>\n",
       "      <td>-0.000374</td>\n",
       "      <td>0.418</td>\n",
       "      <td>0.236</td>\n",
       "      <td>0.080</td>\n",
       "      <td>0.059</td>\n",
       "      <td>0.412071</td>\n",
       "      <td>0.587929</td>\n",
       "      <td>...</td>\n",
       "      <td>0.022</td>\n",
       "      <td>0.026</td>\n",
       "      <td>0.007</td>\n",
       "      <td>0.011</td>\n",
       "      <td>0.068</td>\n",
       "      <td>0.262227</td>\n",
       "      <td>0.234131</td>\n",
       "      <td>0.123829</td>\n",
       "      <td>0.138398</td>\n",
       "      <td>0.241415</td>\n",
       "    </tr>\n",
       "  </tbody>\n",
       "</table>\n",
       "<p>5 rows × 46 columns</p>\n",
       "</div>"
      ],
      "text/plain": [
       "   MM_Intercept     MM_Hess  average_peak_magnitude  average_peak_curvature  \\\n",
       "0      0.061130    0.705040                0.372955               -0.000386   \n",
       "1      0.020163  -88.391867                0.351785               -0.000365   \n",
       "2     -0.044913 -101.184206                0.212457               -0.000230   \n",
       "3     -0.001816  -48.016730                0.266135               -0.000272   \n",
       "4      0.037201  -95.792486                0.377899               -0.000374   \n",
       "\n",
       "   hmm2_mean.1  hmm2_mean.2  hmm2_sd.1  hmm2_sd.2   hmm2_p1   hmm2_p2  ...  \\\n",
       "0        0.394        0.253      0.073      0.048  0.315457  0.684543  ...   \n",
       "1        0.224        0.442      0.029      0.149  0.590447  0.409553  ...   \n",
       "2        0.126        0.261      0.022      0.090  0.470644  0.529356  ...   \n",
       "3        0.308        0.171      0.059      0.031  0.423729  0.576271  ...   \n",
       "4        0.418        0.236      0.080      0.059  0.412071  0.587929  ...   \n",
       "\n",
       "   hmm5_sd.1  hmm5_sd.2  hmm5_sd.3  hmm5_sd.4  hmm5_sd.5   hmm5_p1   hmm5_p2  \\\n",
       "0      0.017      0.008      0.028      0.014      0.067  0.194532  0.219769   \n",
       "1      0.010      0.014      0.008      0.044      0.153  0.149390  0.257114   \n",
       "2      0.016      0.004      0.007      0.026      0.091  0.129735  0.188447   \n",
       "3      0.006      0.013      0.009      0.026      0.048  0.095450  0.329170   \n",
       "4      0.022      0.026      0.007      0.011      0.068  0.262227  0.234131   \n",
       "\n",
       "    hmm5_p3   hmm5_p4   hmm5_p5  \n",
       "0  0.256572  0.170347  0.158780  \n",
       "1  0.183943  0.295732  0.113821  \n",
       "2  0.133523  0.357008  0.191288  \n",
       "3  0.116860  0.266726  0.191793  \n",
       "4  0.123829  0.138398  0.241415  \n",
       "\n",
       "[5 rows x 46 columns]"
      ]
     },
     "execution_count": 9,
     "metadata": {},
     "output_type": "execute_result"
    }
   ],
   "source": [
    "all_Minmax_scale_explanatory_variables_t12.head()"
   ]
  },
  {
   "cell_type": "code",
   "execution_count": 25,
   "id": "65918d53",
   "metadata": {},
   "outputs": [
    {
     "data": {
      "text/plain": [
       "(47, 46)"
      ]
     },
     "execution_count": 25,
     "metadata": {},
     "output_type": "execute_result"
    }
   ],
   "source": [
    "all_Minmax_scale_explanatory_variables_t12.shape"
   ]
  },
  {
   "cell_type": "code",
   "execution_count": 82,
   "id": "291de9be-3973-43e8-86e7-9faac4bc7649",
   "metadata": {},
   "outputs": [],
   "source": [
    "X_train, X_test, y_train, y_test = train_test_split(all_Minmax_scale_explanatory_variables_t12, \n",
    "                                                    all_Minmax_scale_response_variable_t12, \n",
    "                                                    test_size = 0.5, random_state = 42)"
   ]
  },
  {
   "cell_type": "code",
   "execution_count": 56,
   "id": "635768ea",
   "metadata": {},
   "outputs": [
    {
     "data": {
      "text/plain": [
       "(23, 46)"
      ]
     },
     "execution_count": 56,
     "metadata": {},
     "output_type": "execute_result"
    }
   ],
   "source": [
    "X_train.shape"
   ]
  },
  {
   "cell_type": "markdown",
   "id": "1811b44b-b66d-425a-87aa-f60579f568b3",
   "metadata": {},
   "source": [
    "# Obtaining DNN performance with proposed data"
   ]
  },
  {
   "cell_type": "code",
   "execution_count": 86,
   "id": "58932332",
   "metadata": {},
   "outputs": [
    {
     "name": "stdout",
     "output_type": "stream",
     "text": [
      "Model: \"sequential_16\"\n",
      "_________________________________________________________________\n",
      " Layer (type)                Output Shape              Param #   \n",
      "=================================================================\n",
      " dense_100 (Dense)           (None, 100)               4700      \n",
      "                                                                 \n",
      " dense_101 (Dense)           (None, 150)               15150     \n",
      "                                                                 \n",
      " dense_102 (Dense)           (None, 200)               30200     \n",
      "                                                                 \n",
      " dense_103 (Dense)           (None, 150)               30150     \n",
      "                                                                 \n",
      " dense_104 (Dense)           (None, 46)                6946      \n",
      "                                                                 \n",
      " dense_105 (Dense)           (None, 20)                940       \n",
      "                                                                 \n",
      " dense_106 (Dense)           (None, 10)                210       \n",
      "                                                                 \n",
      " dense_107 (Dense)           (None, 1)                 11        \n",
      "                                                                 \n",
      "=================================================================\n",
      "Total params: 88,307\n",
      "Trainable params: 88,307\n",
      "Non-trainable params: 0\n",
      "_________________________________________________________________\n"
     ]
    }
   ],
   "source": [
    "model = Sequential()\n",
    "model.add(Dense(100, input_shape=(46,)))\n",
    "model.add(Dense(150, activation = LeakyReLU(alpha=0.4)))\n",
    "model.add(Dense(200, activation = LeakyReLU(alpha=0.4)))\n",
    "model.add(Dense(150, activation = LeakyReLU(alpha=0.4)))\n",
    "model.add(Dense(46, activation = LeakyReLU(alpha=0.4)))\n",
    "model.add(Dense(20, activation = LeakyReLU(alpha=0.4)))\n",
    "model.add(Dense(10, activation = LeakyReLU(alpha=0.4)))\n",
    "model.add(Dense(1, activation = 'sigmoid'))\n",
    "model.compile(optimizer = 'adam', \n",
    "              loss = 'mse', \n",
    "             metrics = ['accuracy', 'TruePositives', 'FalsePositives', 'FalseNegatives', 'TrueNegatives'])\n",
    "model.summary()"
   ]
  },
  {
   "cell_type": "code",
   "execution_count": 87,
   "id": "03f52d3a-4033-4483-8ce0-47acfbc26e26",
   "metadata": {
    "jupyter": {
     "outputs_hidden": true
    },
    "scrolled": true,
    "tags": []
   },
   "outputs": [
    {
     "name": "stderr",
     "output_type": "stream",
     "text": [
      "2023-04-03 19:30:58.909447: I tensorflow/core/grappler/optimizers/custom_graph_optimizer_registry.cc:113] Plugin optimizer for device_type GPU is enabled.\n",
      "2023-04-03 19:31:00.158052: I tensorflow/core/grappler/optimizers/custom_graph_optimizer_registry.cc:113] Plugin optimizer for device_type GPU is enabled.\n"
     ]
    },
    {
     "data": {
      "text/plain": [
       "<keras.callbacks.History at 0x328c1e820>"
      ]
     },
     "execution_count": 87,
     "metadata": {},
     "output_type": "execute_result"
    }
   ],
   "source": [
    "model.fit(X_train, y_train, batch_size = 10,\n",
    "          validation_data = (X_test, y_test), epochs=100, verbose = False)"
   ]
  },
  {
   "cell_type": "code",
   "execution_count": 88,
   "id": "9bacea6d-27c4-4efd-95f9-d38fbdba4646",
   "metadata": {},
   "outputs": [
    {
     "data": {
      "image/png": "[encoded data removed]",
      "text/plain": [
       "<Figure size 432x288 with 1 Axes>"
      ]
     },
     "metadata": {
      "needs_background": "light"
     },
     "output_type": "display_data"
    }
   ],
   "source": [
    "plt.plot(model.history.history['val_accuracy'])\n",
    "plt.plot(model.history.history['accuracy'])\n",
    "plt.grid()\n",
    "plt.show()"
   ]
  },
  {
   "cell_type": "code",
   "execution_count": 74,
   "id": "406fcab6",
   "metadata": {},
   "outputs": [
    {
     "data": {
      "image/png": "[encoded data removed]",
      "text/plain": [
       "<Figure size 432x288 with 1 Axes>"
      ]
     },
     "metadata": {
      "needs_background": "light"
     },
     "output_type": "display_data"
    }
   ],
   "source": [
    "plt.plot(model.history.history['val_accuracy'])\n",
    "plt.plot(model.history.history['accuracy'])\n",
    "plt.grid()\n",
    "plt.show()"
   ]
  },
  {
   "cell_type": "code",
   "execution_count": 33,
   "id": "3924c7c8",
   "metadata": {},
   "outputs": [],
   "source": [
    "model.save('DNN_model_params.h5')"
   ]
  },
  {
   "cell_type": "markdown",
   "id": "05d76e44",
   "metadata": {},
   "source": [
    "# Model with HMM data"
   ]
  },
  {
   "cell_type": "code",
   "execution_count": 10,
   "id": "cc43b92a",
   "metadata": {},
   "outputs": [],
   "source": [
    "explanatory_variables, hot_encode_response_variable, response_variables = create_dataset('../output_data/hmm_features.csv')"
   ]
  },
  {
   "cell_type": "code",
   "execution_count": 11,
   "id": "a53e72cc",
   "metadata": {},
   "outputs": [],
   "source": [
    "X_train, X_test, y_train, y_test = train_test_split(explanatory_variables, \n",
    "                                                    response_variables, \n",
    "                                                    test_size = 0.3, random_state = 42)"
   ]
  },
  {
   "cell_type": "code",
   "execution_count": 12,
   "id": "93c27984",
   "metadata": {},
   "outputs": [
    {
     "data": {
      "text/plain": [
       "(35, 42)"
      ]
     },
     "execution_count": 12,
     "metadata": {},
     "output_type": "execute_result"
    }
   ],
   "source": [
    "X_train.shape"
   ]
  },
  {
   "cell_type": "code",
   "execution_count": 13,
   "id": "8a86bb22",
   "metadata": {},
   "outputs": [
    {
     "name": "stderr",
     "output_type": "stream",
     "text": [
      "2022-12-07 01:39:02.600291: I tensorflow/core/common_runtime/pluggable_device/pluggable_device_factory.cc:305] Could not identify NUMA node of platform GPU ID 0, defaulting to 0. Your kernel may not have been built with NUMA support.\n",
      "2022-12-07 01:39:02.601834: I tensorflow/core/common_runtime/pluggable_device/pluggable_device_factory.cc:271] Created TensorFlow device (/job:localhost/replica:0/task:0/device:GPU:0 with 0 MB memory) -> physical PluggableDevice (device: 0, name: METAL, pci bus id: <undefined>)\n"
     ]
    },
    {
     "name": "stdout",
     "output_type": "stream",
     "text": [
      "Metal device set to: Apple M1\n",
      "Model: \"sequential\"\n",
      "_________________________________________________________________\n",
      " Layer (type)                Output Shape              Param #   \n",
      "=================================================================\n",
      " dense (Dense)               (None, 30)                1290      \n",
      "                                                                 \n",
      " dense_1 (Dense)             (None, 20)                620       \n",
      "                                                                 \n",
      " dense_2 (Dense)             (None, 15)                315       \n",
      "                                                                 \n",
      " dense_3 (Dense)             (None, 10)                160       \n",
      "                                                                 \n",
      " dense_4 (Dense)             (None, 3)                 33        \n",
      "                                                                 \n",
      " dense_5 (Dense)             (None, 1)                 4         \n",
      "                                                                 \n",
      "=================================================================\n",
      "Total params: 2,422\n",
      "Trainable params: 2,422\n",
      "Non-trainable params: 0\n",
      "_________________________________________________________________\n"
     ]
    }
   ],
   "source": [
    "model = Sequential()\n",
    "model.add(Dense(30, input_shape=(42,)))\n",
    "model.add(Dense(20, activation = 'relu'))\n",
    "model.add(Dense(15, activation = 'relu'))\n",
    "model.add(Dense(10, activation = 'relu'))\n",
    "model.add(Dense(3, activation = 'relu'))\n",
    "model.add(Dense(1, activation = 'sigmoid'))\n",
    "model.compile(optimizer = 'adam', \n",
    "              loss = 'mse', \n",
    "             metrics = ['accuracy', 'TruePositives', 'FalsePositives', 'FalseNegatives', 'TrueNegatives'])\n",
    "model.summary()"
   ]
  },
  {
   "cell_type": "code",
   "execution_count": 14,
   "id": "be4d70b3",
   "metadata": {},
   "outputs": [
    {
     "name": "stdout",
     "output_type": "stream",
     "text": [
      "Epoch 1/100\n"
     ]
    },
    {
     "name": "stderr",
     "output_type": "stream",
     "text": [
      "2022-12-07 01:39:11.131401: W tensorflow/core/platform/profile_utils/cpu_utils.cc:128] Failed to get CPU frequency: 0 Hz\n",
      "2022-12-07 01:39:11.808113: I tensorflow/core/grappler/optimizers/custom_graph_optimizer_registry.cc:113] Plugin optimizer for device_type GPU is enabled.\n"
     ]
    },
    {
     "name": "stdout",
     "output_type": "stream",
     "text": [
      "4/4 [==============================] - 3s 270ms/step - loss: 0.2488 - accuracy: 0.5143 - true_positives: 17.0000 - false_positives: 17.0000 - false_negatives: 0.0000e+00 - true_negatives: 1.0000 - val_loss: 0.2545 - val_accuracy: 0.4667 - val_true_positives: 7.0000 - val_false_positives: 7.0000 - val_false_negatives: 1.0000 - val_true_negatives: 0.0000e+00\n",
      "Epoch 2/100\n",
      "1/4 [======>.......................] - ETA: 0s - loss: 0.2423 - accuracy: 0.7000 - true_positives: 5.0000 - false_positives: 3.0000 - false_negatives: 0.0000e+00 - true_negatives: 2.0000"
     ]
    },
    {
     "name": "stderr",
     "output_type": "stream",
     "text": [
      "2022-12-07 01:39:13.780996: I tensorflow/core/grappler/optimizers/custom_graph_optimizer_registry.cc:113] Plugin optimizer for device_type GPU is enabled.\n"
     ]
    },
    {
     "name": "stdout",
     "output_type": "stream",
     "text": [
      "4/4 [==============================] - 0s 32ms/step - loss: 0.2457 - accuracy: 0.5429 - true_positives: 17.0000 - false_positives: 16.0000 - false_negatives: 0.0000e+00 - true_negatives: 2.0000 - val_loss: 0.2532 - val_accuracy: 0.4667 - val_true_positives: 7.0000 - val_false_positives: 7.0000 - val_false_negatives: 1.0000 - val_true_negatives: 0.0000e+00\n",
      "Epoch 3/100\n",
      "4/4 [==============================] - 0s 31ms/step - loss: 0.2435 - accuracy: 0.5714 - true_positives: 17.0000 - false_positives: 15.0000 - false_negatives: 0.0000e+00 - true_negatives: 3.0000 - val_loss: 0.2529 - val_accuracy: 0.4667 - val_true_positives: 7.0000 - val_false_positives: 7.0000 - val_false_negatives: 1.0000 - val_true_negatives: 0.0000e+00\n",
      "Epoch 4/100\n",
      "4/4 [==============================] - 0s 26ms/step - loss: 0.2415 - accuracy: 0.5714 - true_positives: 17.0000 - false_positives: 15.0000 - false_negatives: 0.0000e+00 - true_negatives: 3.0000 - val_loss: 0.2517 - val_accuracy: 0.6000 - val_true_positives: 8.0000 - val_false_positives: 6.0000 - val_false_negatives: 0.0000e+00 - val_true_negatives: 1.0000\n",
      "Epoch 5/100\n",
      "4/4 [==============================] - 0s 25ms/step - loss: 0.2398 - accuracy: 0.6286 - true_positives: 17.0000 - false_positives: 13.0000 - false_negatives: 0.0000e+00 - true_negatives: 5.0000 - val_loss: 0.2507 - val_accuracy: 0.6000 - val_true_positives: 8.0000 - val_false_positives: 6.0000 - val_false_negatives: 0.0000e+00 - val_true_negatives: 1.0000\n",
      "Epoch 6/100\n",
      "4/4 [==============================] - 0s 28ms/step - loss: 0.2381 - accuracy: 0.6571 - true_positives: 17.0000 - false_positives: 12.0000 - false_negatives: 0.0000e+00 - true_negatives: 6.0000 - val_loss: 0.2496 - val_accuracy: 0.6000 - val_true_positives: 8.0000 - val_false_positives: 6.0000 - val_false_negatives: 0.0000e+00 - val_true_negatives: 1.0000\n",
      "Epoch 7/100\n",
      "4/4 [==============================] - 0s 31ms/step - loss: 0.2361 - accuracy: 0.6571 - true_positives: 17.0000 - false_positives: 12.0000 - false_negatives: 0.0000e+00 - true_negatives: 6.0000 - val_loss: 0.2489 - val_accuracy: 0.6667 - val_true_positives: 8.0000 - val_false_positives: 5.0000 - val_false_negatives: 0.0000e+00 - val_true_negatives: 2.0000\n",
      "Epoch 8/100\n",
      "4/4 [==============================] - 0s 29ms/step - loss: 0.2346 - accuracy: 0.6571 - true_positives: 17.0000 - false_positives: 12.0000 - false_negatives: 0.0000e+00 - true_negatives: 6.0000 - val_loss: 0.2479 - val_accuracy: 0.6667 - val_true_positives: 8.0000 - val_false_positives: 5.0000 - val_false_negatives: 0.0000e+00 - val_true_negatives: 2.0000\n",
      "Epoch 9/100\n",
      "4/4 [==============================] - 0s 27ms/step - loss: 0.2323 - accuracy: 0.6571 - true_positives: 17.0000 - false_positives: 12.0000 - false_negatives: 0.0000e+00 - true_negatives: 6.0000 - val_loss: 0.2472 - val_accuracy: 0.6667 - val_true_positives: 8.0000 - val_false_positives: 5.0000 - val_false_negatives: 0.0000e+00 - val_true_negatives: 2.0000\n",
      "Epoch 10/100\n",
      "4/4 [==============================] - 0s 26ms/step - loss: 0.2304 - accuracy: 0.6571 - true_positives: 17.0000 - false_positives: 12.0000 - false_negatives: 0.0000e+00 - true_negatives: 6.0000 - val_loss: 0.2464 - val_accuracy: 0.6000 - val_true_positives: 8.0000 - val_false_positives: 6.0000 - val_false_negatives: 0.0000e+00 - val_true_negatives: 1.0000\n",
      "Epoch 11/100\n",
      "4/4 [==============================] - 0s 32ms/step - loss: 0.2285 - accuracy: 0.6286 - true_positives: 17.0000 - false_positives: 13.0000 - false_negatives: 0.0000e+00 - true_negatives: 5.0000 - val_loss: 0.2458 - val_accuracy: 0.6000 - val_true_positives: 8.0000 - val_false_positives: 6.0000 - val_false_negatives: 0.0000e+00 - val_true_negatives: 1.0000\n",
      "Epoch 12/100\n",
      "4/4 [==============================] - 0s 26ms/step - loss: 0.2256 - accuracy: 0.6286 - true_positives: 17.0000 - false_positives: 13.0000 - false_negatives: 0.0000e+00 - true_negatives: 5.0000 - val_loss: 0.2442 - val_accuracy: 0.6667 - val_true_positives: 8.0000 - val_false_positives: 5.0000 - val_false_negatives: 0.0000e+00 - val_true_negatives: 2.0000\n",
      "Epoch 13/100\n",
      "4/4 [==============================] - 0s 28ms/step - loss: 0.2230 - accuracy: 0.6571 - true_positives: 17.0000 - false_positives: 12.0000 - false_negatives: 0.0000e+00 - true_negatives: 6.0000 - val_loss: 0.2432 - val_accuracy: 0.6667 - val_true_positives: 8.0000 - val_false_positives: 5.0000 - val_false_negatives: 0.0000e+00 - val_true_negatives: 2.0000\n",
      "Epoch 14/100\n",
      "4/4 [==============================] - 0s 26ms/step - loss: 0.2204 - accuracy: 0.6857 - true_positives: 17.0000 - false_positives: 11.0000 - false_negatives: 0.0000e+00 - true_negatives: 7.0000 - val_loss: 0.2422 - val_accuracy: 0.6667 - val_true_positives: 7.0000 - val_false_positives: 4.0000 - val_false_negatives: 1.0000 - val_true_negatives: 3.0000\n",
      "Epoch 15/100\n",
      "4/4 [==============================] - 0s 25ms/step - loss: 0.2171 - accuracy: 0.7143 - true_positives: 17.0000 - false_positives: 10.0000 - false_negatives: 0.0000e+00 - true_negatives: 8.0000 - val_loss: 0.2408 - val_accuracy: 0.6667 - val_true_positives: 7.0000 - val_false_positives: 4.0000 - val_false_negatives: 1.0000 - val_true_negatives: 3.0000\n",
      "Epoch 16/100\n",
      "4/4 [==============================] - 0s 26ms/step - loss: 0.2150 - accuracy: 0.7143 - true_positives: 17.0000 - false_positives: 10.0000 - false_negatives: 0.0000e+00 - true_negatives: 8.0000 - val_loss: 0.2394 - val_accuracy: 0.6000 - val_true_positives: 7.0000 - val_false_positives: 5.0000 - val_false_negatives: 1.0000 - val_true_negatives: 2.0000\n",
      "Epoch 17/100\n",
      "4/4 [==============================] - 0s 25ms/step - loss: 0.2095 - accuracy: 0.7429 - true_positives: 17.0000 - false_positives: 9.0000 - false_negatives: 0.0000e+00 - true_negatives: 9.0000 - val_loss: 0.2374 - val_accuracy: 0.7333 - val_true_positives: 7.0000 - val_false_positives: 3.0000 - val_false_negatives: 1.0000 - val_true_negatives: 4.0000\n",
      "Epoch 18/100\n",
      "4/4 [==============================] - 0s 28ms/step - loss: 0.2063 - accuracy: 0.7714 - true_positives: 17.0000 - false_positives: 8.0000 - false_negatives: 0.0000e+00 - true_negatives: 10.0000 - val_loss: 0.2361 - val_accuracy: 0.7333 - val_true_positives: 7.0000 - val_false_positives: 3.0000 - val_false_negatives: 1.0000 - val_true_negatives: 4.0000\n",
      "Epoch 19/100\n",
      "4/4 [==============================] - 0s 23ms/step - loss: 0.2027 - accuracy: 0.7714 - true_positives: 17.0000 - false_positives: 8.0000 - false_negatives: 0.0000e+00 - true_negatives: 10.0000 - val_loss: 0.2349 - val_accuracy: 0.7333 - val_true_positives: 7.0000 - val_false_positives: 3.0000 - val_false_negatives: 1.0000 - val_true_negatives: 4.0000\n",
      "Epoch 20/100\n",
      "4/4 [==============================] - 0s 30ms/step - loss: 0.2001 - accuracy: 0.7143 - true_positives: 17.0000 - false_positives: 10.0000 - false_negatives: 0.0000e+00 - true_negatives: 8.0000 - val_loss: 0.2334 - val_accuracy: 0.7333 - val_true_positives: 7.0000 - val_false_positives: 3.0000 - val_false_negatives: 1.0000 - val_true_negatives: 4.0000\n",
      "Epoch 21/100\n",
      "4/4 [==============================] - 0s 24ms/step - loss: 0.1951 - accuracy: 0.8000 - true_positives: 17.0000 - false_positives: 7.0000 - false_negatives: 0.0000e+00 - true_negatives: 11.0000 - val_loss: 0.2327 - val_accuracy: 0.7333 - val_true_positives: 7.0000 - val_false_positives: 3.0000 - val_false_negatives: 1.0000 - val_true_negatives: 4.0000\n",
      "Epoch 22/100\n",
      "4/4 [==============================] - 0s 26ms/step - loss: 0.1921 - accuracy: 0.8000 - true_positives: 17.0000 - false_positives: 7.0000 - false_negatives: 0.0000e+00 - true_negatives: 11.0000 - val_loss: 0.2318 - val_accuracy: 0.7333 - val_true_positives: 7.0000 - val_false_positives: 3.0000 - val_false_negatives: 1.0000 - val_true_negatives: 4.0000\n",
      "Epoch 23/100\n",
      "4/4 [==============================] - 0s 28ms/step - loss: 0.1885 - accuracy: 0.8000 - true_positives: 17.0000 - false_positives: 7.0000 - false_negatives: 0.0000e+00 - true_negatives: 11.0000 - val_loss: 0.2307 - val_accuracy: 0.7333 - val_true_positives: 7.0000 - val_false_positives: 3.0000 - val_false_negatives: 1.0000 - val_true_negatives: 4.0000\n",
      "Epoch 24/100\n",
      "4/4 [==============================] - 0s 22ms/step - loss: 0.1846 - accuracy: 0.8000 - true_positives: 17.0000 - false_positives: 7.0000 - false_negatives: 0.0000e+00 - true_negatives: 11.0000 - val_loss: 0.2300 - val_accuracy: 0.7333 - val_true_positives: 7.0000 - val_false_positives: 3.0000 - val_false_negatives: 1.0000 - val_true_negatives: 4.0000\n",
      "Epoch 25/100\n",
      "4/4 [==============================] - 0s 30ms/step - loss: 0.1817 - accuracy: 0.8000 - true_positives: 17.0000 - false_positives: 7.0000 - false_negatives: 0.0000e+00 - true_negatives: 11.0000 - val_loss: 0.2304 - val_accuracy: 0.7333 - val_true_positives: 7.0000 - val_false_positives: 3.0000 - val_false_negatives: 1.0000 - val_true_negatives: 4.0000\n",
      "Epoch 26/100\n",
      "4/4 [==============================] - 0s 20ms/step - loss: 0.1773 - accuracy: 0.8286 - true_positives: 17.0000 - false_positives: 6.0000 - false_negatives: 0.0000e+00 - true_negatives: 12.0000 - val_loss: 0.2315 - val_accuracy: 0.8000 - val_true_positives: 7.0000 - val_false_positives: 2.0000 - val_false_negatives: 1.0000 - val_true_negatives: 5.0000\n",
      "Epoch 27/100\n",
      "4/4 [==============================] - 0s 32ms/step - loss: 0.1735 - accuracy: 0.8286 - true_positives: 17.0000 - false_positives: 6.0000 - false_negatives: 0.0000e+00 - true_negatives: 12.0000 - val_loss: 0.2326 - val_accuracy: 0.8000 - val_true_positives: 7.0000 - val_false_positives: 2.0000 - val_false_negatives: 1.0000 - val_true_negatives: 5.0000\n",
      "Epoch 28/100\n",
      "4/4 [==============================] - 0s 28ms/step - loss: 0.1705 - accuracy: 0.8571 - true_positives: 17.0000 - false_positives: 5.0000 - false_negatives: 0.0000e+00 - true_negatives: 13.0000 - val_loss: 0.2351 - val_accuracy: 0.8000 - val_true_positives: 7.0000 - val_false_positives: 2.0000 - val_false_negatives: 1.0000 - val_true_negatives: 5.0000\n",
      "Epoch 29/100\n",
      "4/4 [==============================] - 0s 24ms/step - loss: 0.1667 - accuracy: 0.8571 - true_positives: 16.0000 - false_positives: 4.0000 - false_negatives: 1.0000 - true_negatives: 14.0000 - val_loss: 0.2359 - val_accuracy: 0.7333 - val_true_positives: 6.0000 - val_false_positives: 2.0000 - val_false_negatives: 2.0000 - val_true_negatives: 5.0000\n",
      "Epoch 30/100\n",
      "4/4 [==============================] - 0s 30ms/step - loss: 0.1628 - accuracy: 0.8857 - true_positives: 17.0000 - false_positives: 4.0000 - false_negatives: 0.0000e+00 - true_negatives: 14.0000 - val_loss: 0.2343 - val_accuracy: 0.8000 - val_true_positives: 7.0000 - val_false_positives: 2.0000 - val_false_negatives: 1.0000 - val_true_negatives: 5.0000\n",
      "Epoch 31/100\n",
      "4/4 [==============================] - 0s 24ms/step - loss: 0.1567 - accuracy: 0.8857 - true_positives: 17.0000 - false_positives: 4.0000 - false_negatives: 0.0000e+00 - true_negatives: 14.0000 - val_loss: 0.2350 - val_accuracy: 0.8000 - val_true_positives: 7.0000 - val_false_positives: 2.0000 - val_false_negatives: 1.0000 - val_true_negatives: 5.0000\n",
      "Epoch 32/100\n",
      "4/4 [==============================] - 0s 28ms/step - loss: 0.1528 - accuracy: 0.8857 - true_positives: 17.0000 - false_positives: 4.0000 - false_negatives: 0.0000e+00 - true_negatives: 14.0000 - val_loss: 0.2357 - val_accuracy: 0.8000 - val_true_positives: 7.0000 - val_false_positives: 2.0000 - val_false_negatives: 1.0000 - val_true_negatives: 5.0000\n",
      "Epoch 33/100\n",
      "4/4 [==============================] - 0s 27ms/step - loss: 0.1488 - accuracy: 0.8857 - true_positives: 17.0000 - false_positives: 4.0000 - false_negatives: 0.0000e+00 - true_negatives: 14.0000 - val_loss: 0.2396 - val_accuracy: 0.7333 - val_true_positives: 6.0000 - val_false_positives: 2.0000 - val_false_negatives: 2.0000 - val_true_negatives: 5.0000\n",
      "Epoch 34/100\n",
      "4/4 [==============================] - 0s 23ms/step - loss: 0.1441 - accuracy: 0.9143 - true_positives: 17.0000 - false_positives: 3.0000 - false_negatives: 0.0000e+00 - true_negatives: 15.0000 - val_loss: 0.2411 - val_accuracy: 0.7333 - val_true_positives: 6.0000 - val_false_positives: 2.0000 - val_false_negatives: 2.0000 - val_true_negatives: 5.0000\n",
      "Epoch 35/100\n",
      "4/4 [==============================] - 0s 28ms/step - loss: 0.1397 - accuracy: 0.9143 - true_positives: 17.0000 - false_positives: 3.0000 - false_negatives: 0.0000e+00 - true_negatives: 15.0000 - val_loss: 0.2421 - val_accuracy: 0.7333 - val_true_positives: 6.0000 - val_false_positives: 2.0000 - val_false_negatives: 2.0000 - val_true_negatives: 5.0000\n",
      "Epoch 36/100\n",
      "4/4 [==============================] - 0s 26ms/step - loss: 0.1350 - accuracy: 0.9429 - true_positives: 17.0000 - false_positives: 2.0000 - false_negatives: 0.0000e+00 - true_negatives: 16.0000 - val_loss: 0.2448 - val_accuracy: 0.7333 - val_true_positives: 6.0000 - val_false_positives: 2.0000 - val_false_negatives: 2.0000 - val_true_negatives: 5.0000\n",
      "Epoch 37/100\n",
      "4/4 [==============================] - 0s 29ms/step - loss: 0.1288 - accuracy: 0.9429 - true_positives: 17.0000 - false_positives: 2.0000 - false_negatives: 0.0000e+00 - true_negatives: 16.0000 - val_loss: 0.2454 - val_accuracy: 0.7333 - val_true_positives: 6.0000 - val_false_positives: 2.0000 - val_false_negatives: 2.0000 - val_true_negatives: 5.0000\n",
      "Epoch 38/100\n",
      "4/4 [==============================] - 0s 27ms/step - loss: 0.1238 - accuracy: 0.9429 - true_positives: 17.0000 - false_positives: 2.0000 - false_negatives: 0.0000e+00 - true_negatives: 16.0000 - val_loss: 0.2471 - val_accuracy: 0.6667 - val_true_positives: 5.0000 - val_false_positives: 2.0000 - val_false_negatives: 3.0000 - val_true_negatives: 5.0000\n",
      "Epoch 39/100\n",
      "4/4 [==============================] - 0s 23ms/step - loss: 0.1171 - accuracy: 0.9714 - true_positives: 17.0000 - false_positives: 1.0000 - false_negatives: 0.0000e+00 - true_negatives: 17.0000 - val_loss: 0.2473 - val_accuracy: 0.6667 - val_true_positives: 5.0000 - val_false_positives: 2.0000 - val_false_negatives: 3.0000 - val_true_negatives: 5.0000\n",
      "Epoch 40/100\n",
      "4/4 [==============================] - 0s 31ms/step - loss: 0.1093 - accuracy: 0.9714 - true_positives: 17.0000 - false_positives: 1.0000 - false_negatives: 0.0000e+00 - true_negatives: 17.0000 - val_loss: 0.2491 - val_accuracy: 0.6667 - val_true_positives: 5.0000 - val_false_positives: 2.0000 - val_false_negatives: 3.0000 - val_true_negatives: 5.0000\n",
      "Epoch 41/100\n",
      "4/4 [==============================] - 0s 25ms/step - loss: 0.1026 - accuracy: 0.9429 - true_positives: 16.0000 - false_positives: 1.0000 - false_negatives: 1.0000 - true_negatives: 17.0000 - val_loss: 0.2497 - val_accuracy: 0.6667 - val_true_positives: 5.0000 - val_false_positives: 2.0000 - val_false_negatives: 3.0000 - val_true_negatives: 5.0000\n",
      "Epoch 42/100\n",
      "4/4 [==============================] - 0s 26ms/step - loss: 0.0935 - accuracy: 1.0000 - true_positives: 17.0000 - false_positives: 0.0000e+00 - false_negatives: 0.0000e+00 - true_negatives: 18.0000 - val_loss: 0.2474 - val_accuracy: 0.6667 - val_true_positives: 5.0000 - val_false_positives: 2.0000 - val_false_negatives: 3.0000 - val_true_negatives: 5.0000\n",
      "Epoch 43/100\n",
      "4/4 [==============================] - 0s 27ms/step - loss: 0.0852 - accuracy: 1.0000 - true_positives: 17.0000 - false_positives: 0.0000e+00 - false_negatives: 0.0000e+00 - true_negatives: 18.0000 - val_loss: 0.2503 - val_accuracy: 0.6667 - val_true_positives: 5.0000 - val_false_positives: 2.0000 - val_false_negatives: 3.0000 - val_true_negatives: 5.0000\n",
      "Epoch 44/100\n",
      "4/4 [==============================] - 0s 22ms/step - loss: 0.0763 - accuracy: 0.9714 - true_positives: 16.0000 - false_positives: 0.0000e+00 - false_negatives: 1.0000 - true_negatives: 18.0000 - val_loss: 0.2531 - val_accuracy: 0.6667 - val_true_positives: 5.0000 - val_false_positives: 2.0000 - val_false_negatives: 3.0000 - val_true_negatives: 5.0000\n",
      "Epoch 45/100\n",
      "4/4 [==============================] - 0s 29ms/step - loss: 0.0685 - accuracy: 0.9714 - true_positives: 16.0000 - false_positives: 0.0000e+00 - false_negatives: 1.0000 - true_negatives: 18.0000 - val_loss: 0.2569 - val_accuracy: 0.6667 - val_true_positives: 5.0000 - val_false_positives: 2.0000 - val_false_negatives: 3.0000 - val_true_negatives: 5.0000\n",
      "Epoch 46/100\n"
     ]
    },
    {
     "name": "stdout",
     "output_type": "stream",
     "text": [
      "4/4 [==============================] - 0s 27ms/step - loss: 0.0594 - accuracy: 0.9714 - true_positives: 16.0000 - false_positives: 0.0000e+00 - false_negatives: 1.0000 - true_negatives: 18.0000 - val_loss: 0.2743 - val_accuracy: 0.6667 - val_true_positives: 5.0000 - val_false_positives: 2.0000 - val_false_negatives: 3.0000 - val_true_negatives: 5.0000\n",
      "Epoch 47/100\n",
      "4/4 [==============================] - 0s 29ms/step - loss: 0.0534 - accuracy: 0.9714 - true_positives: 16.0000 - false_positives: 0.0000e+00 - false_negatives: 1.0000 - true_negatives: 18.0000 - val_loss: 0.2737 - val_accuracy: 0.6667 - val_true_positives: 5.0000 - val_false_positives: 2.0000 - val_false_negatives: 3.0000 - val_true_negatives: 5.0000\n",
      "Epoch 48/100\n",
      "4/4 [==============================] - 0s 22ms/step - loss: 0.0430 - accuracy: 0.9714 - true_positives: 16.0000 - false_positives: 0.0000e+00 - false_negatives: 1.0000 - true_negatives: 18.0000 - val_loss: 0.2755 - val_accuracy: 0.6667 - val_true_positives: 5.0000 - val_false_positives: 2.0000 - val_false_negatives: 3.0000 - val_true_negatives: 5.0000\n",
      "Epoch 49/100\n",
      "4/4 [==============================] - 0s 26ms/step - loss: 0.0369 - accuracy: 1.0000 - true_positives: 17.0000 - false_positives: 0.0000e+00 - false_negatives: 0.0000e+00 - true_negatives: 18.0000 - val_loss: 0.2767 - val_accuracy: 0.6667 - val_true_positives: 5.0000 - val_false_positives: 2.0000 - val_false_negatives: 3.0000 - val_true_negatives: 5.0000\n",
      "Epoch 50/100\n",
      "4/4 [==============================] - 0s 26ms/step - loss: 0.0320 - accuracy: 1.0000 - true_positives: 17.0000 - false_positives: 0.0000e+00 - false_negatives: 0.0000e+00 - true_negatives: 18.0000 - val_loss: 0.2887 - val_accuracy: 0.6667 - val_true_positives: 5.0000 - val_false_positives: 2.0000 - val_false_negatives: 3.0000 - val_true_negatives: 5.0000\n",
      "Epoch 51/100\n",
      "4/4 [==============================] - 0s 22ms/step - loss: 0.0263 - accuracy: 1.0000 - true_positives: 17.0000 - false_positives: 0.0000e+00 - false_negatives: 0.0000e+00 - true_negatives: 18.0000 - val_loss: 0.2905 - val_accuracy: 0.6667 - val_true_positives: 5.0000 - val_false_positives: 2.0000 - val_false_negatives: 3.0000 - val_true_negatives: 5.0000\n",
      "Epoch 52/100\n",
      "4/4 [==============================] - 0s 31ms/step - loss: 0.0221 - accuracy: 1.0000 - true_positives: 17.0000 - false_positives: 0.0000e+00 - false_negatives: 0.0000e+00 - true_negatives: 18.0000 - val_loss: 0.2922 - val_accuracy: 0.6667 - val_true_positives: 5.0000 - val_false_positives: 2.0000 - val_false_negatives: 3.0000 - val_true_negatives: 5.0000\n",
      "Epoch 53/100\n",
      "4/4 [==============================] - 0s 21ms/step - loss: 0.0201 - accuracy: 1.0000 - true_positives: 17.0000 - false_positives: 0.0000e+00 - false_negatives: 0.0000e+00 - true_negatives: 18.0000 - val_loss: 0.2986 - val_accuracy: 0.6667 - val_true_positives: 5.0000 - val_false_positives: 2.0000 - val_false_negatives: 3.0000 - val_true_negatives: 5.0000\n",
      "Epoch 54/100\n",
      "4/4 [==============================] - 0s 30ms/step - loss: 0.0159 - accuracy: 1.0000 - true_positives: 17.0000 - false_positives: 0.0000e+00 - false_negatives: 0.0000e+00 - true_negatives: 18.0000 - val_loss: 0.3246 - val_accuracy: 0.6000 - val_true_positives: 4.0000 - val_false_positives: 2.0000 - val_false_negatives: 4.0000 - val_true_negatives: 5.0000\n",
      "Epoch 55/100\n",
      "4/4 [==============================] - 0s 30ms/step - loss: 0.0150 - accuracy: 1.0000 - true_positives: 17.0000 - false_positives: 0.0000e+00 - false_negatives: 0.0000e+00 - true_negatives: 18.0000 - val_loss: 0.3186 - val_accuracy: 0.6000 - val_true_positives: 4.0000 - val_false_positives: 2.0000 - val_false_negatives: 4.0000 - val_true_negatives: 5.0000\n",
      "Epoch 56/100\n",
      "4/4 [==============================] - 0s 23ms/step - loss: 0.0125 - accuracy: 1.0000 - true_positives: 17.0000 - false_positives: 0.0000e+00 - false_negatives: 0.0000e+00 - true_negatives: 18.0000 - val_loss: 0.3059 - val_accuracy: 0.6667 - val_true_positives: 5.0000 - val_false_positives: 2.0000 - val_false_negatives: 3.0000 - val_true_negatives: 5.0000\n",
      "Epoch 57/100\n",
      "4/4 [==============================] - 0s 30ms/step - loss: 0.0105 - accuracy: 1.0000 - true_positives: 17.0000 - false_positives: 0.0000e+00 - false_negatives: 0.0000e+00 - true_negatives: 18.0000 - val_loss: 0.3207 - val_accuracy: 0.6667 - val_true_positives: 5.0000 - val_false_positives: 2.0000 - val_false_negatives: 3.0000 - val_true_negatives: 5.0000\n",
      "Epoch 58/100\n",
      "4/4 [==============================] - 0s 24ms/step - loss: 0.0092 - accuracy: 1.0000 - true_positives: 17.0000 - false_positives: 0.0000e+00 - false_negatives: 0.0000e+00 - true_negatives: 18.0000 - val_loss: 0.3162 - val_accuracy: 0.6667 - val_true_positives: 5.0000 - val_false_positives: 2.0000 - val_false_negatives: 3.0000 - val_true_negatives: 5.0000\n",
      "Epoch 59/100\n",
      "4/4 [==============================] - 0s 26ms/step - loss: 0.0077 - accuracy: 1.0000 - true_positives: 17.0000 - false_positives: 0.0000e+00 - false_negatives: 0.0000e+00 - true_negatives: 18.0000 - val_loss: 0.3165 - val_accuracy: 0.6667 - val_true_positives: 5.0000 - val_false_positives: 2.0000 - val_false_negatives: 3.0000 - val_true_negatives: 5.0000\n",
      "Epoch 60/100\n",
      "4/4 [==============================] - 0s 28ms/step - loss: 0.0072 - accuracy: 1.0000 - true_positives: 17.0000 - false_positives: 0.0000e+00 - false_negatives: 0.0000e+00 - true_negatives: 18.0000 - val_loss: 0.3187 - val_accuracy: 0.6667 - val_true_positives: 5.0000 - val_false_positives: 2.0000 - val_false_negatives: 3.0000 - val_true_negatives: 5.0000\n",
      "Epoch 61/100\n",
      "4/4 [==============================] - 0s 22ms/step - loss: 0.0060 - accuracy: 1.0000 - true_positives: 17.0000 - false_positives: 0.0000e+00 - false_negatives: 0.0000e+00 - true_negatives: 18.0000 - val_loss: 0.3080 - val_accuracy: 0.6667 - val_true_positives: 5.0000 - val_false_positives: 2.0000 - val_false_negatives: 3.0000 - val_true_negatives: 5.0000\n",
      "Epoch 62/100\n",
      "4/4 [==============================] - 0s 27ms/step - loss: 0.0058 - accuracy: 1.0000 - true_positives: 17.0000 - false_positives: 0.0000e+00 - false_negatives: 0.0000e+00 - true_negatives: 18.0000 - val_loss: 0.3137 - val_accuracy: 0.6667 - val_true_positives: 5.0000 - val_false_positives: 2.0000 - val_false_negatives: 3.0000 - val_true_negatives: 5.0000\n",
      "Epoch 63/100\n",
      "4/4 [==============================] - 0s 24ms/step - loss: 0.0048 - accuracy: 1.0000 - true_positives: 17.0000 - false_positives: 0.0000e+00 - false_negatives: 0.0000e+00 - true_negatives: 18.0000 - val_loss: 0.3207 - val_accuracy: 0.6667 - val_true_positives: 5.0000 - val_false_positives: 2.0000 - val_false_negatives: 3.0000 - val_true_negatives: 5.0000\n",
      "Epoch 64/100\n",
      "4/4 [==============================] - 0s 27ms/step - loss: 0.0044 - accuracy: 1.0000 - true_positives: 17.0000 - false_positives: 0.0000e+00 - false_negatives: 0.0000e+00 - true_negatives: 18.0000 - val_loss: 0.3248 - val_accuracy: 0.6667 - val_true_positives: 5.0000 - val_false_positives: 2.0000 - val_false_negatives: 3.0000 - val_true_negatives: 5.0000\n",
      "Epoch 65/100\n",
      "4/4 [==============================] - 0s 27ms/step - loss: 0.0041 - accuracy: 1.0000 - true_positives: 17.0000 - false_positives: 0.0000e+00 - false_negatives: 0.0000e+00 - true_negatives: 18.0000 - val_loss: 0.3223 - val_accuracy: 0.6667 - val_true_positives: 5.0000 - val_false_positives: 2.0000 - val_false_negatives: 3.0000 - val_true_negatives: 5.0000\n",
      "Epoch 66/100\n",
      "4/4 [==============================] - 0s 24ms/step - loss: 0.0036 - accuracy: 1.0000 - true_positives: 17.0000 - false_positives: 0.0000e+00 - false_negatives: 0.0000e+00 - true_negatives: 18.0000 - val_loss: 0.3226 - val_accuracy: 0.6667 - val_true_positives: 5.0000 - val_false_positives: 2.0000 - val_false_negatives: 3.0000 - val_true_negatives: 5.0000\n",
      "Epoch 67/100\n",
      "4/4 [==============================] - 0s 31ms/step - loss: 0.0034 - accuracy: 1.0000 - true_positives: 17.0000 - false_positives: 0.0000e+00 - false_negatives: 0.0000e+00 - true_negatives: 18.0000 - val_loss: 0.3211 - val_accuracy: 0.6667 - val_true_positives: 5.0000 - val_false_positives: 2.0000 - val_false_negatives: 3.0000 - val_true_negatives: 5.0000\n",
      "Epoch 68/100\n",
      "4/4 [==============================] - 0s 24ms/step - loss: 0.0031 - accuracy: 1.0000 - true_positives: 17.0000 - false_positives: 0.0000e+00 - false_negatives: 0.0000e+00 - true_negatives: 18.0000 - val_loss: 0.3266 - val_accuracy: 0.6667 - val_true_positives: 5.0000 - val_false_positives: 2.0000 - val_false_negatives: 3.0000 - val_true_negatives: 5.0000\n",
      "Epoch 69/100\n",
      "4/4 [==============================] - 0s 28ms/step - loss: 0.0029 - accuracy: 1.0000 - true_positives: 17.0000 - false_positives: 0.0000e+00 - false_negatives: 0.0000e+00 - true_negatives: 18.0000 - val_loss: 0.3259 - val_accuracy: 0.6667 - val_true_positives: 5.0000 - val_false_positives: 2.0000 - val_false_negatives: 3.0000 - val_true_negatives: 5.0000\n",
      "Epoch 70/100\n",
      "4/4 [==============================] - 0s 27ms/step - loss: 0.0027 - accuracy: 1.0000 - true_positives: 17.0000 - false_positives: 0.0000e+00 - false_negatives: 0.0000e+00 - true_negatives: 18.0000 - val_loss: 0.3188 - val_accuracy: 0.6667 - val_true_positives: 5.0000 - val_false_positives: 2.0000 - val_false_negatives: 3.0000 - val_true_negatives: 5.0000\n",
      "Epoch 71/100\n",
      "4/4 [==============================] - 0s 23ms/step - loss: 0.0026 - accuracy: 1.0000 - true_positives: 17.0000 - false_positives: 0.0000e+00 - false_negatives: 0.0000e+00 - true_negatives: 18.0000 - val_loss: 0.3214 - val_accuracy: 0.6667 - val_true_positives: 5.0000 - val_false_positives: 2.0000 - val_false_negatives: 3.0000 - val_true_negatives: 5.0000\n",
      "Epoch 72/100\n",
      "4/4 [==============================] - 0s 31ms/step - loss: 0.0023 - accuracy: 1.0000 - true_positives: 17.0000 - false_positives: 0.0000e+00 - false_negatives: 0.0000e+00 - true_negatives: 18.0000 - val_loss: 0.3264 - val_accuracy: 0.6667 - val_true_positives: 5.0000 - val_false_positives: 2.0000 - val_false_negatives: 3.0000 - val_true_negatives: 5.0000\n",
      "Epoch 73/100\n",
      "4/4 [==============================] - 0s 24ms/step - loss: 0.0022 - accuracy: 1.0000 - true_positives: 17.0000 - false_positives: 0.0000e+00 - false_negatives: 0.0000e+00 - true_negatives: 18.0000 - val_loss: 0.3271 - val_accuracy: 0.6667 - val_true_positives: 5.0000 - val_false_positives: 2.0000 - val_false_negatives: 3.0000 - val_true_negatives: 5.0000\n",
      "Epoch 74/100\n",
      "4/4 [==============================] - 0s 30ms/step - loss: 0.0021 - accuracy: 1.0000 - true_positives: 17.0000 - false_positives: 0.0000e+00 - false_negatives: 0.0000e+00 - true_negatives: 18.0000 - val_loss: 0.3275 - val_accuracy: 0.6667 - val_true_positives: 5.0000 - val_false_positives: 2.0000 - val_false_negatives: 3.0000 - val_true_negatives: 5.0000\n",
      "Epoch 75/100\n",
      "4/4 [==============================] - 0s 27ms/step - loss: 0.0019 - accuracy: 1.0000 - true_positives: 17.0000 - false_positives: 0.0000e+00 - false_negatives: 0.0000e+00 - true_negatives: 18.0000 - val_loss: 0.3235 - val_accuracy: 0.6667 - val_true_positives: 5.0000 - val_false_positives: 2.0000 - val_false_negatives: 3.0000 - val_true_negatives: 5.0000\n",
      "Epoch 76/100\n",
      "4/4 [==============================] - 0s 24ms/step - loss: 0.0018 - accuracy: 1.0000 - true_positives: 17.0000 - false_positives: 0.0000e+00 - false_negatives: 0.0000e+00 - true_negatives: 18.0000 - val_loss: 0.3229 - val_accuracy: 0.6667 - val_true_positives: 5.0000 - val_false_positives: 2.0000 - val_false_negatives: 3.0000 - val_true_negatives: 5.0000\n",
      "Epoch 77/100\n",
      "4/4 [==============================] - 0s 26ms/step - loss: 0.0018 - accuracy: 1.0000 - true_positives: 17.0000 - false_positives: 0.0000e+00 - false_negatives: 0.0000e+00 - true_negatives: 18.0000 - val_loss: 0.3260 - val_accuracy: 0.6667 - val_true_positives: 5.0000 - val_false_positives: 2.0000 - val_false_negatives: 3.0000 - val_true_negatives: 5.0000\n",
      "Epoch 78/100\n",
      "4/4 [==============================] - 0s 23ms/step - loss: 0.0016 - accuracy: 1.0000 - true_positives: 17.0000 - false_positives: 0.0000e+00 - false_negatives: 0.0000e+00 - true_negatives: 18.0000 - val_loss: 0.3270 - val_accuracy: 0.6667 - val_true_positives: 5.0000 - val_false_positives: 2.0000 - val_false_negatives: 3.0000 - val_true_negatives: 5.0000\n",
      "Epoch 79/100\n",
      "4/4 [==============================] - 0s 28ms/step - loss: 0.0016 - accuracy: 1.0000 - true_positives: 17.0000 - false_positives: 0.0000e+00 - false_negatives: 0.0000e+00 - true_negatives: 18.0000 - val_loss: 0.3263 - val_accuracy: 0.6667 - val_true_positives: 5.0000 - val_false_positives: 2.0000 - val_false_negatives: 3.0000 - val_true_negatives: 5.0000\n",
      "Epoch 80/100\n",
      "4/4 [==============================] - 0s 23ms/step - loss: 0.0015 - accuracy: 1.0000 - true_positives: 17.0000 - false_positives: 0.0000e+00 - false_negatives: 0.0000e+00 - true_negatives: 18.0000 - val_loss: 0.3259 - val_accuracy: 0.6667 - val_true_positives: 5.0000 - val_false_positives: 2.0000 - val_false_negatives: 3.0000 - val_true_negatives: 5.0000\n",
      "Epoch 81/100\n",
      "4/4 [==============================] - 0s 27ms/step - loss: 0.0014 - accuracy: 1.0000 - true_positives: 17.0000 - false_positives: 0.0000e+00 - false_negatives: 0.0000e+00 - true_negatives: 18.0000 - val_loss: 0.3280 - val_accuracy: 0.6667 - val_true_positives: 5.0000 - val_false_positives: 2.0000 - val_false_negatives: 3.0000 - val_true_negatives: 5.0000\n",
      "Epoch 82/100\n",
      "4/4 [==============================] - 0s 34ms/step - loss: 0.0013 - accuracy: 1.0000 - true_positives: 17.0000 - false_positives: 0.0000e+00 - false_negatives: 0.0000e+00 - true_negatives: 18.0000 - val_loss: 0.3274 - val_accuracy: 0.6667 - val_true_positives: 5.0000 - val_false_positives: 2.0000 - val_false_negatives: 3.0000 - val_true_negatives: 5.0000\n",
      "Epoch 83/100\n",
      "4/4 [==============================] - 0s 24ms/step - loss: 0.0013 - accuracy: 1.0000 - true_positives: 17.0000 - false_positives: 0.0000e+00 - false_negatives: 0.0000e+00 - true_negatives: 18.0000 - val_loss: 0.3276 - val_accuracy: 0.6667 - val_true_positives: 5.0000 - val_false_positives: 2.0000 - val_false_negatives: 3.0000 - val_true_negatives: 5.0000\n",
      "Epoch 84/100\n",
      "4/4 [==============================] - 0s 28ms/step - loss: 0.0012 - accuracy: 1.0000 - true_positives: 17.0000 - false_positives: 0.0000e+00 - false_negatives: 0.0000e+00 - true_negatives: 18.0000 - val_loss: 0.3283 - val_accuracy: 0.6667 - val_true_positives: 5.0000 - val_false_positives: 2.0000 - val_false_negatives: 3.0000 - val_true_negatives: 5.0000\n",
      "Epoch 85/100\n",
      "4/4 [==============================] - 0s 27ms/step - loss: 0.0012 - accuracy: 1.0000 - true_positives: 17.0000 - false_positives: 0.0000e+00 - false_negatives: 0.0000e+00 - true_negatives: 18.0000 - val_loss: 0.3305 - val_accuracy: 0.6667 - val_true_positives: 5.0000 - val_false_positives: 2.0000 - val_false_negatives: 3.0000 - val_true_negatives: 5.0000\n",
      "Epoch 86/100\n",
      "4/4 [==============================] - 0s 23ms/step - loss: 0.0012 - accuracy: 1.0000 - true_positives: 17.0000 - false_positives: 0.0000e+00 - false_negatives: 0.0000e+00 - true_negatives: 18.0000 - val_loss: 0.3296 - val_accuracy: 0.6667 - val_true_positives: 5.0000 - val_false_positives: 2.0000 - val_false_negatives: 3.0000 - val_true_negatives: 5.0000\n",
      "Epoch 87/100\n",
      "4/4 [==============================] - 0s 28ms/step - loss: 0.0011 - accuracy: 1.0000 - true_positives: 17.0000 - false_positives: 0.0000e+00 - false_negatives: 0.0000e+00 - true_negatives: 18.0000 - val_loss: 0.3265 - val_accuracy: 0.6667 - val_true_positives: 5.0000 - val_false_positives: 2.0000 - val_false_negatives: 3.0000 - val_true_negatives: 5.0000\n",
      "Epoch 88/100\n",
      "4/4 [==============================] - 0s 25ms/step - loss: 0.0010 - accuracy: 1.0000 - true_positives: 17.0000 - false_positives: 0.0000e+00 - false_negatives: 0.0000e+00 - true_negatives: 18.0000 - val_loss: 0.3255 - val_accuracy: 0.6667 - val_true_positives: 5.0000 - val_false_positives: 2.0000 - val_false_negatives: 3.0000 - val_true_negatives: 5.0000\n",
      "Epoch 89/100\n",
      "4/4 [==============================] - 0s 26ms/step - loss: 9.9833e-04 - accuracy: 1.0000 - true_positives: 17.0000 - false_positives: 0.0000e+00 - false_negatives: 0.0000e+00 - true_negatives: 18.0000 - val_loss: 0.3263 - val_accuracy: 0.6667 - val_true_positives: 5.0000 - val_false_positives: 2.0000 - val_false_negatives: 3.0000 - val_true_negatives: 5.0000\n",
      "Epoch 90/100\n"
     ]
    },
    {
     "name": "stdout",
     "output_type": "stream",
     "text": [
      "4/4 [==============================] - 0s 27ms/step - loss: 9.6345e-04 - accuracy: 1.0000 - true_positives: 17.0000 - false_positives: 0.0000e+00 - false_negatives: 0.0000e+00 - true_negatives: 18.0000 - val_loss: 0.3265 - val_accuracy: 0.6667 - val_true_positives: 5.0000 - val_false_positives: 2.0000 - val_false_negatives: 3.0000 - val_true_negatives: 5.0000\n",
      "Epoch 91/100\n",
      "4/4 [==============================] - 0s 23ms/step - loss: 9.2243e-04 - accuracy: 1.0000 - true_positives: 17.0000 - false_positives: 0.0000e+00 - false_negatives: 0.0000e+00 - true_negatives: 18.0000 - val_loss: 0.3273 - val_accuracy: 0.6667 - val_true_positives: 5.0000 - val_false_positives: 2.0000 - val_false_negatives: 3.0000 - val_true_negatives: 5.0000\n",
      "Epoch 92/100\n",
      "4/4 [==============================] - 0s 28ms/step - loss: 8.9349e-04 - accuracy: 1.0000 - true_positives: 17.0000 - false_positives: 0.0000e+00 - false_negatives: 0.0000e+00 - true_negatives: 18.0000 - val_loss: 0.3285 - val_accuracy: 0.6667 - val_true_positives: 5.0000 - val_false_positives: 2.0000 - val_false_negatives: 3.0000 - val_true_negatives: 5.0000\n",
      "Epoch 93/100\n",
      "4/4 [==============================] - 0s 23ms/step - loss: 8.8081e-04 - accuracy: 1.0000 - true_positives: 17.0000 - false_positives: 0.0000e+00 - false_negatives: 0.0000e+00 - true_negatives: 18.0000 - val_loss: 0.3310 - val_accuracy: 0.6667 - val_true_positives: 5.0000 - val_false_positives: 2.0000 - val_false_negatives: 3.0000 - val_true_negatives: 5.0000\n",
      "Epoch 94/100\n",
      "4/4 [==============================] - 0s 27ms/step - loss: 8.4632e-04 - accuracy: 1.0000 - true_positives: 17.0000 - false_positives: 0.0000e+00 - false_negatives: 0.0000e+00 - true_negatives: 18.0000 - val_loss: 0.3280 - val_accuracy: 0.6667 - val_true_positives: 5.0000 - val_false_positives: 2.0000 - val_false_negatives: 3.0000 - val_true_negatives: 5.0000\n",
      "Epoch 95/100\n",
      "4/4 [==============================] - 0s 27ms/step - loss: 8.0562e-04 - accuracy: 1.0000 - true_positives: 17.0000 - false_positives: 0.0000e+00 - false_negatives: 0.0000e+00 - true_negatives: 18.0000 - val_loss: 0.3269 - val_accuracy: 0.6667 - val_true_positives: 5.0000 - val_false_positives: 2.0000 - val_false_negatives: 3.0000 - val_true_negatives: 5.0000\n",
      "Epoch 96/100\n",
      "4/4 [==============================] - 0s 25ms/step - loss: 7.9625e-04 - accuracy: 1.0000 - true_positives: 17.0000 - false_positives: 0.0000e+00 - false_negatives: 0.0000e+00 - true_negatives: 18.0000 - val_loss: 0.3300 - val_accuracy: 0.6667 - val_true_positives: 5.0000 - val_false_positives: 2.0000 - val_false_negatives: 3.0000 - val_true_negatives: 5.0000\n",
      "Epoch 97/100\n",
      "4/4 [==============================] - 0s 26ms/step - loss: 7.5237e-04 - accuracy: 1.0000 - true_positives: 17.0000 - false_positives: 0.0000e+00 - false_negatives: 0.0000e+00 - true_negatives: 18.0000 - val_loss: 0.3287 - val_accuracy: 0.6667 - val_true_positives: 5.0000 - val_false_positives: 2.0000 - val_false_negatives: 3.0000 - val_true_negatives: 5.0000\n",
      "Epoch 98/100\n",
      "4/4 [==============================] - 0s 24ms/step - loss: 7.2133e-04 - accuracy: 1.0000 - true_positives: 17.0000 - false_positives: 0.0000e+00 - false_negatives: 0.0000e+00 - true_negatives: 18.0000 - val_loss: 0.3263 - val_accuracy: 0.6667 - val_true_positives: 5.0000 - val_false_positives: 2.0000 - val_false_negatives: 3.0000 - val_true_negatives: 5.0000\n",
      "Epoch 99/100\n",
      "4/4 [==============================] - 0s 26ms/step - loss: 7.0240e-04 - accuracy: 1.0000 - true_positives: 17.0000 - false_positives: 0.0000e+00 - false_negatives: 0.0000e+00 - true_negatives: 18.0000 - val_loss: 0.3253 - val_accuracy: 0.6667 - val_true_positives: 5.0000 - val_false_positives: 2.0000 - val_false_negatives: 3.0000 - val_true_negatives: 5.0000\n",
      "Epoch 100/100\n",
      "4/4 [==============================] - 0s 24ms/step - loss: 6.8495e-04 - accuracy: 1.0000 - true_positives: 17.0000 - false_positives: 0.0000e+00 - false_negatives: 0.0000e+00 - true_negatives: 18.0000 - val_loss: 0.3270 - val_accuracy: 0.6667 - val_true_positives: 5.0000 - val_false_positives: 2.0000 - val_false_negatives: 3.0000 - val_true_negatives: 5.0000\n"
     ]
    },
    {
     "data": {
      "text/plain": [
       "<keras.callbacks.History at 0x14aa685e0>"
      ]
     },
     "execution_count": 14,
     "metadata": {},
     "output_type": "execute_result"
    }
   ],
   "source": [
    "model.fit(X_train, y_train, batch_size = 10,\n",
    "          validation_data = (X_test, y_test), epochs=100)"
   ]
  },
  {
   "cell_type": "code",
   "execution_count": 15,
   "id": "1278f320",
   "metadata": {},
   "outputs": [
    {
     "data": {
      "image/png": "[encoded data removed]",
      "text/plain": [
       "<Figure size 432x288 with 1 Axes>"
      ]
     },
     "metadata": {
      "needs_background": "light"
     },
     "output_type": "display_data"
    }
   ],
   "source": [
    "plt.plot(model.history.history['val_accuracy'])\n",
    "plt.plot(model.history.history['accuracy'])\n",
    "plt.grid()\n",
    "plt.show()"
   ]
  },
  {
   "cell_type": "code",
   "execution_count": 16,
   "id": "985a87ef",
   "metadata": {},
   "outputs": [],
   "source": [
    "model.save('DNN_model_hmm.h5')"
   ]
  },
  {
   "cell_type": "markdown",
   "id": "e5b2b19b",
   "metadata": {},
   "source": [
    "# Combined data"
   ]
  },
  {
   "cell_type": "code",
   "execution_count": 17,
   "id": "278366b9",
   "metadata": {},
   "outputs": [],
   "source": [
    "explanatory_variables, hot_encode_response_variable, response_variables = create_dataset('../output_data/finaldata.csv')"
   ]
  },
  {
   "cell_type": "code",
   "execution_count": 18,
   "id": "ea2bbafa",
   "metadata": {},
   "outputs": [],
   "source": [
    "X_train, X_test, y_train, y_test = train_test_split(explanatory_variables, \n",
    "                                                    response_variables, \n",
    "                                                    test_size = 0.3, random_state = 42)"
   ]
  },
  {
   "cell_type": "code",
   "execution_count": 19,
   "id": "16ba0601",
   "metadata": {},
   "outputs": [
    {
     "data": {
      "text/plain": [
       "(29, 44)"
      ]
     },
     "execution_count": 19,
     "metadata": {},
     "output_type": "execute_result"
    }
   ],
   "source": [
    "X_train.shape"
   ]
  },
  {
   "cell_type": "code",
   "execution_count": 20,
   "id": "e4c34ebe",
   "metadata": {},
   "outputs": [
    {
     "name": "stdout",
     "output_type": "stream",
     "text": [
      "Model: \"sequential_1\"\n",
      "_________________________________________________________________\n",
      " Layer (type)                Output Shape              Param #   \n",
      "=================================================================\n",
      " dense_6 (Dense)             (None, 30)                1350      \n",
      "                                                                 \n",
      " dense_7 (Dense)             (None, 20)                620       \n",
      "                                                                 \n",
      " dense_8 (Dense)             (None, 15)                315       \n",
      "                                                                 \n",
      " dense_9 (Dense)             (None, 10)                160       \n",
      "                                                                 \n",
      " dense_10 (Dense)            (None, 3)                 33        \n",
      "                                                                 \n",
      " dense_11 (Dense)            (None, 1)                 4         \n",
      "                                                                 \n",
      "=================================================================\n",
      "Total params: 2,482\n",
      "Trainable params: 2,482\n",
      "Non-trainable params: 0\n",
      "_________________________________________________________________\n"
     ]
    }
   ],
   "source": [
    "model = Sequential()\n",
    "model.add(Dense(30, input_shape=(44,)))\n",
    "model.add(Dense(20, activation = 'relu'))\n",
    "model.add(Dense(15, activation = 'relu'))\n",
    "model.add(Dense(10, activation = 'relu'))\n",
    "model.add(Dense(3, activation = 'relu'))\n",
    "model.add(Dense(1, activation = 'sigmoid'))\n",
    "model.compile(optimizer = 'adam', \n",
    "              loss = 'mse', \n",
    "             metrics = ['accuracy', 'TruePositives', 'FalsePositives', 'FalseNegatives', 'TrueNegatives'])\n",
    "model.summary()"
   ]
  },
  {
   "cell_type": "code",
   "execution_count": 21,
   "id": "5b973ec6",
   "metadata": {},
   "outputs": [
    {
     "name": "stdout",
     "output_type": "stream",
     "text": [
      "Epoch 1/100\n"
     ]
    },
    {
     "name": "stderr",
     "output_type": "stream",
     "text": [
      "2022-12-07 01:41:24.942710: I tensorflow/core/grappler/optimizers/custom_graph_optimizer_registry.cc:113] Plugin optimizer for device_type GPU is enabled.\n"
     ]
    },
    {
     "name": "stdout",
     "output_type": "stream",
     "text": [
      "3/3 [==============================] - ETA: 0s - loss: 0.2423 - accuracy: 0.5862 - true_positives: 17.0000 - false_positives: 12.0000 - false_negatives: 0.0000e+00 - true_negatives: 0.0000e+00"
     ]
    },
    {
     "name": "stderr",
     "output_type": "stream",
     "text": [
      "2022-12-07 01:41:25.841675: I tensorflow/core/grappler/optimizers/custom_graph_optimizer_registry.cc:113] Plugin optimizer for device_type GPU is enabled.\n"
     ]
    },
    {
     "name": "stdout",
     "output_type": "stream",
     "text": [
      "3/3 [==============================] - 2s 521ms/step - loss: 0.2423 - accuracy: 0.5862 - true_positives: 17.0000 - false_positives: 12.0000 - false_negatives: 0.0000e+00 - true_negatives: 0.0000e+00 - val_loss: 0.2371 - val_accuracy: 0.6154 - val_true_positives: 8.0000 - val_false_positives: 5.0000 - val_false_negatives: 0.0000e+00 - val_true_negatives: 0.0000e+00\n",
      "Epoch 2/100\n",
      "3/3 [==============================] - 0s 39ms/step - loss: 0.2375 - accuracy: 0.5862 - true_positives: 17.0000 - false_positives: 12.0000 - false_negatives: 0.0000e+00 - true_negatives: 0.0000e+00 - val_loss: 0.2344 - val_accuracy: 0.6154 - val_true_positives: 8.0000 - val_false_positives: 5.0000 - val_false_negatives: 0.0000e+00 - val_true_negatives: 0.0000e+00\n",
      "Epoch 3/100\n",
      "3/3 [==============================] - 0s 38ms/step - loss: 0.2338 - accuracy: 0.5862 - true_positives: 17.0000 - false_positives: 12.0000 - false_negatives: 0.0000e+00 - true_negatives: 0.0000e+00 - val_loss: 0.2328 - val_accuracy: 0.6154 - val_true_positives: 8.0000 - val_false_positives: 5.0000 - val_false_negatives: 0.0000e+00 - val_true_negatives: 0.0000e+00\n",
      "Epoch 4/100\n",
      "3/3 [==============================] - 0s 39ms/step - loss: 0.2309 - accuracy: 0.5862 - true_positives: 17.0000 - false_positives: 12.0000 - false_negatives: 0.0000e+00 - true_negatives: 0.0000e+00 - val_loss: 0.2309 - val_accuracy: 0.6154 - val_true_positives: 8.0000 - val_false_positives: 5.0000 - val_false_negatives: 0.0000e+00 - val_true_negatives: 0.0000e+00\n",
      "Epoch 5/100\n",
      "3/3 [==============================] - 0s 37ms/step - loss: 0.2285 - accuracy: 0.5862 - true_positives: 17.0000 - false_positives: 12.0000 - false_negatives: 0.0000e+00 - true_negatives: 0.0000e+00 - val_loss: 0.2289 - val_accuracy: 0.6154 - val_true_positives: 8.0000 - val_false_positives: 5.0000 - val_false_negatives: 0.0000e+00 - val_true_negatives: 0.0000e+00\n",
      "Epoch 6/100\n",
      "3/3 [==============================] - 0s 36ms/step - loss: 0.2261 - accuracy: 0.5862 - true_positives: 17.0000 - false_positives: 12.0000 - false_negatives: 0.0000e+00 - true_negatives: 0.0000e+00 - val_loss: 0.2271 - val_accuracy: 0.6154 - val_true_positives: 8.0000 - val_false_positives: 5.0000 - val_false_negatives: 0.0000e+00 - val_true_negatives: 0.0000e+00\n",
      "Epoch 7/100\n",
      "3/3 [==============================] - 0s 37ms/step - loss: 0.2234 - accuracy: 0.5862 - true_positives: 17.0000 - false_positives: 12.0000 - false_negatives: 0.0000e+00 - true_negatives: 0.0000e+00 - val_loss: 0.2257 - val_accuracy: 0.6154 - val_true_positives: 8.0000 - val_false_positives: 5.0000 - val_false_negatives: 0.0000e+00 - val_true_negatives: 0.0000e+00\n",
      "Epoch 8/100\n",
      "3/3 [==============================] - 0s 40ms/step - loss: 0.2209 - accuracy: 0.5862 - true_positives: 17.0000 - false_positives: 12.0000 - false_negatives: 0.0000e+00 - true_negatives: 0.0000e+00 - val_loss: 0.2244 - val_accuracy: 0.6154 - val_true_positives: 8.0000 - val_false_positives: 5.0000 - val_false_negatives: 0.0000e+00 - val_true_negatives: 0.0000e+00\n",
      "Epoch 9/100\n",
      "3/3 [==============================] - 0s 32ms/step - loss: 0.2186 - accuracy: 0.5862 - true_positives: 17.0000 - false_positives: 12.0000 - false_negatives: 0.0000e+00 - true_negatives: 0.0000e+00 - val_loss: 0.2230 - val_accuracy: 0.6154 - val_true_positives: 8.0000 - val_false_positives: 5.0000 - val_false_negatives: 0.0000e+00 - val_true_negatives: 0.0000e+00\n",
      "Epoch 10/100\n",
      "3/3 [==============================] - 0s 42ms/step - loss: 0.2163 - accuracy: 0.5862 - true_positives: 17.0000 - false_positives: 12.0000 - false_negatives: 0.0000e+00 - true_negatives: 0.0000e+00 - val_loss: 0.2219 - val_accuracy: 0.6154 - val_true_positives: 8.0000 - val_false_positives: 5.0000 - val_false_negatives: 0.0000e+00 - val_true_negatives: 0.0000e+00\n",
      "Epoch 11/100\n",
      "3/3 [==============================] - 0s 35ms/step - loss: 0.2134 - accuracy: 0.5862 - true_positives: 17.0000 - false_positives: 12.0000 - false_negatives: 0.0000e+00 - true_negatives: 0.0000e+00 - val_loss: 0.2204 - val_accuracy: 0.6154 - val_true_positives: 8.0000 - val_false_positives: 5.0000 - val_false_negatives: 0.0000e+00 - val_true_negatives: 0.0000e+00\n",
      "Epoch 12/100\n",
      "3/3 [==============================] - 0s 39ms/step - loss: 0.2104 - accuracy: 0.5862 - true_positives: 17.0000 - false_positives: 12.0000 - false_negatives: 0.0000e+00 - true_negatives: 0.0000e+00 - val_loss: 0.2190 - val_accuracy: 0.6154 - val_true_positives: 8.0000 - val_false_positives: 5.0000 - val_false_negatives: 0.0000e+00 - val_true_negatives: 0.0000e+00\n",
      "Epoch 13/100\n",
      "3/3 [==============================] - 0s 39ms/step - loss: 0.2078 - accuracy: 0.5862 - true_positives: 17.0000 - false_positives: 12.0000 - false_negatives: 0.0000e+00 - true_negatives: 0.0000e+00 - val_loss: 0.2173 - val_accuracy: 0.6154 - val_true_positives: 8.0000 - val_false_positives: 5.0000 - val_false_negatives: 0.0000e+00 - val_true_negatives: 0.0000e+00\n",
      "Epoch 14/100\n",
      "3/3 [==============================] - 0s 33ms/step - loss: 0.2051 - accuracy: 0.5862 - true_positives: 17.0000 - false_positives: 12.0000 - false_negatives: 0.0000e+00 - true_negatives: 0.0000e+00 - val_loss: 0.2156 - val_accuracy: 0.6154 - val_true_positives: 8.0000 - val_false_positives: 5.0000 - val_false_negatives: 0.0000e+00 - val_true_negatives: 0.0000e+00\n",
      "Epoch 15/100\n",
      "3/3 [==============================] - 0s 39ms/step - loss: 0.2018 - accuracy: 0.5862 - true_positives: 17.0000 - false_positives: 12.0000 - false_negatives: 0.0000e+00 - true_negatives: 0.0000e+00 - val_loss: 0.2138 - val_accuracy: 0.6154 - val_true_positives: 8.0000 - val_false_positives: 5.0000 - val_false_negatives: 0.0000e+00 - val_true_negatives: 0.0000e+00\n",
      "Epoch 16/100\n",
      "3/3 [==============================] - 0s 32ms/step - loss: 0.1987 - accuracy: 0.5862 - true_positives: 17.0000 - false_positives: 12.0000 - false_negatives: 0.0000e+00 - true_negatives: 0.0000e+00 - val_loss: 0.2121 - val_accuracy: 0.6154 - val_true_positives: 8.0000 - val_false_positives: 5.0000 - val_false_negatives: 0.0000e+00 - val_true_negatives: 0.0000e+00\n",
      "Epoch 17/100\n",
      "3/3 [==============================] - 0s 35ms/step - loss: 0.1958 - accuracy: 0.5862 - true_positives: 17.0000 - false_positives: 12.0000 - false_negatives: 0.0000e+00 - true_negatives: 0.0000e+00 - val_loss: 0.2106 - val_accuracy: 0.6154 - val_true_positives: 8.0000 - val_false_positives: 5.0000 - val_false_negatives: 0.0000e+00 - val_true_negatives: 0.0000e+00\n",
      "Epoch 18/100\n",
      "3/3 [==============================] - 0s 32ms/step - loss: 0.1931 - accuracy: 0.5862 - true_positives: 17.0000 - false_positives: 12.0000 - false_negatives: 0.0000e+00 - true_negatives: 0.0000e+00 - val_loss: 0.2090 - val_accuracy: 0.6154 - val_true_positives: 8.0000 - val_false_positives: 5.0000 - val_false_negatives: 0.0000e+00 - val_true_negatives: 0.0000e+00\n",
      "Epoch 19/100\n",
      "3/3 [==============================] - 0s 36ms/step - loss: 0.1894 - accuracy: 0.6207 - true_positives: 17.0000 - false_positives: 11.0000 - false_negatives: 0.0000e+00 - true_negatives: 1.0000 - val_loss: 0.2073 - val_accuracy: 0.6154 - val_true_positives: 8.0000 - val_false_positives: 5.0000 - val_false_negatives: 0.0000e+00 - val_true_negatives: 0.0000e+00\n",
      "Epoch 20/100\n",
      "3/3 [==============================] - 0s 29ms/step - loss: 0.1858 - accuracy: 0.6207 - true_positives: 17.0000 - false_positives: 11.0000 - false_negatives: 0.0000e+00 - true_negatives: 1.0000 - val_loss: 0.2060 - val_accuracy: 0.6154 - val_true_positives: 8.0000 - val_false_positives: 5.0000 - val_false_negatives: 0.0000e+00 - val_true_negatives: 0.0000e+00\n",
      "Epoch 21/100\n",
      "3/3 [==============================] - 0s 35ms/step - loss: 0.1824 - accuracy: 0.6207 - true_positives: 17.0000 - false_positives: 11.0000 - false_negatives: 0.0000e+00 - true_negatives: 1.0000 - val_loss: 0.2047 - val_accuracy: 0.6154 - val_true_positives: 8.0000 - val_false_positives: 5.0000 - val_false_negatives: 0.0000e+00 - val_true_negatives: 0.0000e+00\n",
      "Epoch 22/100\n",
      "3/3 [==============================] - 0s 26ms/step - loss: 0.1792 - accuracy: 0.6207 - true_positives: 17.0000 - false_positives: 11.0000 - false_negatives: 0.0000e+00 - true_negatives: 1.0000 - val_loss: 0.2032 - val_accuracy: 0.6154 - val_true_positives: 8.0000 - val_false_positives: 5.0000 - val_false_negatives: 0.0000e+00 - val_true_negatives: 0.0000e+00\n"
     ]
    },
    {
     "name": "stdout",
     "output_type": "stream",
     "text": [
      "Epoch 23/100\n",
      "3/3 [==============================] - 0s 36ms/step - loss: 0.1763 - accuracy: 0.6207 - true_positives: 17.0000 - false_positives: 11.0000 - false_negatives: 0.0000e+00 - true_negatives: 1.0000 - val_loss: 0.2021 - val_accuracy: 0.6154 - val_true_positives: 8.0000 - val_false_positives: 5.0000 - val_false_negatives: 0.0000e+00 - val_true_negatives: 0.0000e+00\n",
      "Epoch 24/100\n",
      "3/3 [==============================] - 0s 23ms/step - loss: 0.1727 - accuracy: 0.6207 - true_positives: 17.0000 - false_positives: 11.0000 - false_negatives: 0.0000e+00 - true_negatives: 1.0000 - val_loss: 0.2006 - val_accuracy: 0.6154 - val_true_positives: 8.0000 - val_false_positives: 5.0000 - val_false_negatives: 0.0000e+00 - val_true_negatives: 0.0000e+00\n",
      "Epoch 25/100\n",
      "3/3 [==============================] - 0s 34ms/step - loss: 0.1690 - accuracy: 0.6552 - true_positives: 17.0000 - false_positives: 10.0000 - false_negatives: 0.0000e+00 - true_negatives: 2.0000 - val_loss: 0.1990 - val_accuracy: 0.6154 - val_true_positives: 8.0000 - val_false_positives: 5.0000 - val_false_negatives: 0.0000e+00 - val_true_negatives: 0.0000e+00\n",
      "Epoch 26/100\n",
      "3/3 [==============================] - 0s 29ms/step - loss: 0.1664 - accuracy: 0.7241 - true_positives: 17.0000 - false_positives: 8.0000 - false_negatives: 0.0000e+00 - true_negatives: 4.0000 - val_loss: 0.1981 - val_accuracy: 0.5385 - val_true_positives: 7.0000 - val_false_positives: 5.0000 - val_false_negatives: 1.0000 - val_true_negatives: 0.0000e+00\n",
      "Epoch 27/100\n",
      "3/3 [==============================] - 0s 35ms/step - loss: 0.1634 - accuracy: 0.7241 - true_positives: 17.0000 - false_positives: 8.0000 - false_negatives: 0.0000e+00 - true_negatives: 4.0000 - val_loss: 0.1975 - val_accuracy: 0.5385 - val_true_positives: 7.0000 - val_false_positives: 5.0000 - val_false_negatives: 1.0000 - val_true_negatives: 0.0000e+00\n",
      "Epoch 28/100\n",
      "3/3 [==============================] - 0s 27ms/step - loss: 0.1603 - accuracy: 0.7241 - true_positives: 17.0000 - false_positives: 8.0000 - false_negatives: 0.0000e+00 - true_negatives: 4.0000 - val_loss: 0.1968 - val_accuracy: 0.5385 - val_true_positives: 7.0000 - val_false_positives: 5.0000 - val_false_negatives: 1.0000 - val_true_negatives: 0.0000e+00\n",
      "Epoch 29/100\n",
      "3/3 [==============================] - 0s 34ms/step - loss: 0.1575 - accuracy: 0.7586 - true_positives: 17.0000 - false_positives: 7.0000 - false_negatives: 0.0000e+00 - true_negatives: 5.0000 - val_loss: 0.1966 - val_accuracy: 0.5385 - val_true_positives: 7.0000 - val_false_positives: 5.0000 - val_false_negatives: 1.0000 - val_true_negatives: 0.0000e+00\n",
      "Epoch 30/100\n",
      "3/3 [==============================] - 0s 24ms/step - loss: 0.1547 - accuracy: 0.7586 - true_positives: 17.0000 - false_positives: 7.0000 - false_negatives: 0.0000e+00 - true_negatives: 5.0000 - val_loss: 0.1962 - val_accuracy: 0.6154 - val_true_positives: 7.0000 - val_false_positives: 4.0000 - val_false_negatives: 1.0000 - val_true_negatives: 1.0000\n",
      "Epoch 31/100\n",
      "3/3 [==============================] - 0s 34ms/step - loss: 0.1523 - accuracy: 0.7586 - true_positives: 17.0000 - false_positives: 7.0000 - false_negatives: 0.0000e+00 - true_negatives: 5.0000 - val_loss: 0.1962 - val_accuracy: 0.6154 - val_true_positives: 7.0000 - val_false_positives: 4.0000 - val_false_negatives: 1.0000 - val_true_negatives: 1.0000\n",
      "Epoch 32/100\n",
      "3/3 [==============================] - 0s 26ms/step - loss: 0.1494 - accuracy: 0.7931 - true_positives: 17.0000 - false_positives: 6.0000 - false_negatives: 0.0000e+00 - true_negatives: 6.0000 - val_loss: 0.1941 - val_accuracy: 0.6154 - val_true_positives: 7.0000 - val_false_positives: 4.0000 - val_false_negatives: 1.0000 - val_true_negatives: 1.0000\n",
      "Epoch 33/100\n",
      "3/3 [==============================] - 0s 39ms/step - loss: 0.1467 - accuracy: 0.8276 - true_positives: 17.0000 - false_positives: 5.0000 - false_negatives: 0.0000e+00 - true_negatives: 7.0000 - val_loss: 0.1940 - val_accuracy: 0.6154 - val_true_positives: 7.0000 - val_false_positives: 4.0000 - val_false_negatives: 1.0000 - val_true_negatives: 1.0000\n",
      "Epoch 34/100\n",
      "3/3 [==============================] - 0s 24ms/step - loss: 0.1438 - accuracy: 0.8276 - true_positives: 17.0000 - false_positives: 5.0000 - false_negatives: 0.0000e+00 - true_negatives: 7.0000 - val_loss: 0.1942 - val_accuracy: 0.6154 - val_true_positives: 7.0000 - val_false_positives: 4.0000 - val_false_negatives: 1.0000 - val_true_negatives: 1.0000\n",
      "Epoch 35/100\n",
      "3/3 [==============================] - 0s 34ms/step - loss: 0.1416 - accuracy: 0.8276 - true_positives: 17.0000 - false_positives: 5.0000 - false_negatives: 0.0000e+00 - true_negatives: 7.0000 - val_loss: 0.1948 - val_accuracy: 0.6154 - val_true_positives: 7.0000 - val_false_positives: 4.0000 - val_false_negatives: 1.0000 - val_true_negatives: 1.0000\n",
      "Epoch 36/100\n",
      "3/3 [==============================] - 0s 25ms/step - loss: 0.1393 - accuracy: 0.8276 - true_positives: 17.0000 - false_positives: 5.0000 - false_negatives: 0.0000e+00 - true_negatives: 7.0000 - val_loss: 0.1945 - val_accuracy: 0.6154 - val_true_positives: 7.0000 - val_false_positives: 4.0000 - val_false_negatives: 1.0000 - val_true_negatives: 1.0000\n",
      "Epoch 37/100\n",
      "3/3 [==============================] - 0s 34ms/step - loss: 0.1368 - accuracy: 0.8621 - true_positives: 17.0000 - false_positives: 4.0000 - false_negatives: 0.0000e+00 - true_negatives: 8.0000 - val_loss: 0.1933 - val_accuracy: 0.6154 - val_true_positives: 7.0000 - val_false_positives: 4.0000 - val_false_negatives: 1.0000 - val_true_negatives: 1.0000\n",
      "Epoch 38/100\n",
      "3/3 [==============================] - 0s 25ms/step - loss: 0.1345 - accuracy: 0.8966 - true_positives: 17.0000 - false_positives: 3.0000 - false_negatives: 0.0000e+00 - true_negatives: 9.0000 - val_loss: 0.1928 - val_accuracy: 0.6154 - val_true_positives: 7.0000 - val_false_positives: 4.0000 - val_false_negatives: 1.0000 - val_true_negatives: 1.0000\n",
      "Epoch 39/100\n",
      "3/3 [==============================] - 0s 34ms/step - loss: 0.1319 - accuracy: 0.8966 - true_positives: 17.0000 - false_positives: 3.0000 - false_negatives: 0.0000e+00 - true_negatives: 9.0000 - val_loss: 0.1931 - val_accuracy: 0.6154 - val_true_positives: 7.0000 - val_false_positives: 4.0000 - val_false_negatives: 1.0000 - val_true_negatives: 1.0000\n",
      "Epoch 40/100\n",
      "3/3 [==============================] - 0s 29ms/step - loss: 0.1298 - accuracy: 0.9310 - true_positives: 17.0000 - false_positives: 2.0000 - false_negatives: 0.0000e+00 - true_negatives: 10.0000 - val_loss: 0.1920 - val_accuracy: 0.6154 - val_true_positives: 7.0000 - val_false_positives: 4.0000 - val_false_negatives: 1.0000 - val_true_negatives: 1.0000\n",
      "Epoch 41/100\n",
      "3/3 [==============================] - 0s 34ms/step - loss: 0.1272 - accuracy: 0.9310 - true_positives: 17.0000 - false_positives: 2.0000 - false_negatives: 0.0000e+00 - true_negatives: 10.0000 - val_loss: 0.1922 - val_accuracy: 0.6154 - val_true_positives: 7.0000 - val_false_positives: 4.0000 - val_false_negatives: 1.0000 - val_true_negatives: 1.0000\n",
      "Epoch 42/100\n",
      "3/3 [==============================] - 0s 31ms/step - loss: 0.1249 - accuracy: 0.9310 - true_positives: 17.0000 - false_positives: 2.0000 - false_negatives: 0.0000e+00 - true_negatives: 10.0000 - val_loss: 0.1932 - val_accuracy: 0.6154 - val_true_positives: 7.0000 - val_false_positives: 4.0000 - val_false_negatives: 1.0000 - val_true_negatives: 1.0000\n",
      "Epoch 43/100\n",
      "3/3 [==============================] - 0s 32ms/step - loss: 0.1227 - accuracy: 0.9310 - true_positives: 17.0000 - false_positives: 2.0000 - false_negatives: 0.0000e+00 - true_negatives: 10.0000 - val_loss: 0.1933 - val_accuracy: 0.6923 - val_true_positives: 7.0000 - val_false_positives: 3.0000 - val_false_negatives: 1.0000 - val_true_negatives: 2.0000\n",
      "Epoch 44/100\n",
      "3/3 [==============================] - 0s 24ms/step - loss: 0.1206 - accuracy: 0.9310 - true_positives: 17.0000 - false_positives: 2.0000 - false_negatives: 0.0000e+00 - true_negatives: 10.0000 - val_loss: 0.1950 - val_accuracy: 0.6923 - val_true_positives: 7.0000 - val_false_positives: 3.0000 - val_false_negatives: 1.0000 - val_true_negatives: 2.0000\n",
      "Epoch 45/100\n",
      "3/3 [==============================] - 0s 33ms/step - loss: 0.1189 - accuracy: 0.9310 - true_positives: 17.0000 - false_positives: 2.0000 - false_negatives: 0.0000e+00 - true_negatives: 10.0000 - val_loss: 0.1961 - val_accuracy: 0.6923 - val_true_positives: 7.0000 - val_false_positives: 3.0000 - val_false_negatives: 1.0000 - val_true_negatives: 2.0000\n",
      "Epoch 46/100\n",
      "3/3 [==============================] - 0s 26ms/step - loss: 0.1166 - accuracy: 0.9310 - true_positives: 17.0000 - false_positives: 2.0000 - false_negatives: 0.0000e+00 - true_negatives: 10.0000 - val_loss: 0.1943 - val_accuracy: 0.6923 - val_true_positives: 7.0000 - val_false_positives: 3.0000 - val_false_negatives: 1.0000 - val_true_negatives: 2.0000\n",
      "Epoch 47/100\n",
      "3/3 [==============================] - 0s 37ms/step - loss: 0.1154 - accuracy: 0.9310 - true_positives: 17.0000 - false_positives: 2.0000 - false_negatives: 0.0000e+00 - true_negatives: 10.0000 - val_loss: 0.1933 - val_accuracy: 0.6923 - val_true_positives: 7.0000 - val_false_positives: 3.0000 - val_false_negatives: 1.0000 - val_true_negatives: 2.0000\n",
      "Epoch 48/100\n",
      "3/3 [==============================] - 0s 27ms/step - loss: 0.1131 - accuracy: 0.9310 - true_positives: 17.0000 - false_positives: 2.0000 - false_negatives: 0.0000e+00 - true_negatives: 10.0000 - val_loss: 0.1944 - val_accuracy: 0.6923 - val_true_positives: 7.0000 - val_false_positives: 3.0000 - val_false_negatives: 1.0000 - val_true_negatives: 2.0000\n",
      "Epoch 49/100\n",
      "3/3 [==============================] - 0s 36ms/step - loss: 0.1112 - accuracy: 0.9655 - true_positives: 17.0000 - false_positives: 1.0000 - false_negatives: 0.0000e+00 - true_negatives: 11.0000 - val_loss: 0.1967 - val_accuracy: 0.6923 - val_true_positives: 7.0000 - val_false_positives: 3.0000 - val_false_negatives: 1.0000 - val_true_negatives: 2.0000\n",
      "Epoch 50/100\n",
      "3/3 [==============================] - 0s 32ms/step - loss: 0.1091 - accuracy: 0.9655 - true_positives: 17.0000 - false_positives: 1.0000 - false_negatives: 0.0000e+00 - true_negatives: 11.0000 - val_loss: 0.1963 - val_accuracy: 0.6923 - val_true_positives: 7.0000 - val_false_positives: 3.0000 - val_false_negatives: 1.0000 - val_true_negatives: 2.0000\n",
      "Epoch 51/100\n",
      "3/3 [==============================] - 0s 34ms/step - loss: 0.1076 - accuracy: 0.9655 - true_positives: 17.0000 - false_positives: 1.0000 - false_negatives: 0.0000e+00 - true_negatives: 11.0000 - val_loss: 0.1941 - val_accuracy: 0.6923 - val_true_positives: 7.0000 - val_false_positives: 3.0000 - val_false_negatives: 1.0000 - val_true_negatives: 2.0000\n",
      "Epoch 52/100\n",
      "3/3 [==============================] - 0s 30ms/step - loss: 0.1046 - accuracy: 0.9655 - true_positives: 17.0000 - false_positives: 1.0000 - false_negatives: 0.0000e+00 - true_negatives: 11.0000 - val_loss: 0.1958 - val_accuracy: 0.6923 - val_true_positives: 7.0000 - val_false_positives: 3.0000 - val_false_negatives: 1.0000 - val_true_negatives: 2.0000\n",
      "Epoch 53/100\n",
      "3/3 [==============================] - 0s 33ms/step - loss: 0.1024 - accuracy: 0.9655 - true_positives: 17.0000 - false_positives: 1.0000 - false_negatives: 0.0000e+00 - true_negatives: 11.0000 - val_loss: 0.1996 - val_accuracy: 0.6923 - val_true_positives: 7.0000 - val_false_positives: 3.0000 - val_false_negatives: 1.0000 - val_true_negatives: 2.0000\n",
      "Epoch 54/100\n",
      "3/3 [==============================] - 0s 33ms/step - loss: 0.1006 - accuracy: 0.9655 - true_positives: 17.0000 - false_positives: 1.0000 - false_negatives: 0.0000e+00 - true_negatives: 11.0000 - val_loss: 0.2002 - val_accuracy: 0.6923 - val_true_positives: 7.0000 - val_false_positives: 3.0000 - val_false_negatives: 1.0000 - val_true_negatives: 2.0000\n",
      "Epoch 55/100\n",
      "3/3 [==============================] - 0s 35ms/step - loss: 0.0987 - accuracy: 0.9655 - true_positives: 17.0000 - false_positives: 1.0000 - false_negatives: 0.0000e+00 - true_negatives: 11.0000 - val_loss: 0.1951 - val_accuracy: 0.6923 - val_true_positives: 7.0000 - val_false_positives: 3.0000 - val_false_negatives: 1.0000 - val_true_negatives: 2.0000\n",
      "Epoch 56/100\n",
      "3/3 [==============================] - 0s 37ms/step - loss: 0.0967 - accuracy: 0.9655 - true_positives: 17.0000 - false_positives: 1.0000 - false_negatives: 0.0000e+00 - true_negatives: 11.0000 - val_loss: 0.1939 - val_accuracy: 0.6923 - val_true_positives: 7.0000 - val_false_positives: 3.0000 - val_false_negatives: 1.0000 - val_true_negatives: 2.0000\n",
      "Epoch 57/100\n",
      "3/3 [==============================] - 0s 31ms/step - loss: 0.0940 - accuracy: 0.9655 - true_positives: 17.0000 - false_positives: 1.0000 - false_negatives: 0.0000e+00 - true_negatives: 11.0000 - val_loss: 0.1950 - val_accuracy: 0.6923 - val_true_positives: 7.0000 - val_false_positives: 3.0000 - val_false_negatives: 1.0000 - val_true_negatives: 2.0000\n",
      "Epoch 58/100\n",
      "3/3 [==============================] - 0s 35ms/step - loss: 0.0895 - accuracy: 1.0000 - true_positives: 17.0000 - false_positives: 0.0000e+00 - false_negatives: 0.0000e+00 - true_negatives: 12.0000 - val_loss: 0.1974 - val_accuracy: 0.6923 - val_true_positives: 7.0000 - val_false_positives: 3.0000 - val_false_negatives: 1.0000 - val_true_negatives: 2.0000\n",
      "Epoch 59/100\n",
      "3/3 [==============================] - 0s 30ms/step - loss: 0.0854 - accuracy: 1.0000 - true_positives: 17.0000 - false_positives: 0.0000e+00 - false_negatives: 0.0000e+00 - true_negatives: 12.0000 - val_loss: 0.2008 - val_accuracy: 0.6923 - val_true_positives: 7.0000 - val_false_positives: 3.0000 - val_false_negatives: 1.0000 - val_true_negatives: 2.0000\n",
      "Epoch 60/100\n",
      "3/3 [==============================] - 0s 34ms/step - loss: 0.0816 - accuracy: 1.0000 - true_positives: 17.0000 - false_positives: 0.0000e+00 - false_negatives: 0.0000e+00 - true_negatives: 12.0000 - val_loss: 0.2048 - val_accuracy: 0.6923 - val_true_positives: 7.0000 - val_false_positives: 3.0000 - val_false_negatives: 1.0000 - val_true_negatives: 2.0000\n",
      "Epoch 61/100\n",
      "3/3 [==============================] - 0s 29ms/step - loss: 0.0780 - accuracy: 1.0000 - true_positives: 17.0000 - false_positives: 0.0000e+00 - false_negatives: 0.0000e+00 - true_negatives: 12.0000 - val_loss: 0.2076 - val_accuracy: 0.6923 - val_true_positives: 7.0000 - val_false_positives: 3.0000 - val_false_negatives: 1.0000 - val_true_negatives: 2.0000\n",
      "Epoch 62/100\n",
      "3/3 [==============================] - 0s 35ms/step - loss: 0.0742 - accuracy: 1.0000 - true_positives: 17.0000 - false_positives: 0.0000e+00 - false_negatives: 0.0000e+00 - true_negatives: 12.0000 - val_loss: 0.2077 - val_accuracy: 0.6923 - val_true_positives: 7.0000 - val_false_positives: 3.0000 - val_false_negatives: 1.0000 - val_true_negatives: 2.0000\n",
      "Epoch 63/100\n",
      "3/3 [==============================] - 0s 30ms/step - loss: 0.0703 - accuracy: 1.0000 - true_positives: 17.0000 - false_positives: 0.0000e+00 - false_negatives: 0.0000e+00 - true_negatives: 12.0000 - val_loss: 0.2060 - val_accuracy: 0.6923 - val_true_positives: 7.0000 - val_false_positives: 3.0000 - val_false_negatives: 1.0000 - val_true_negatives: 2.0000\n",
      "Epoch 64/100\n",
      "3/3 [==============================] - 0s 34ms/step - loss: 0.0654 - accuracy: 1.0000 - true_positives: 17.0000 - false_positives: 0.0000e+00 - false_negatives: 0.0000e+00 - true_negatives: 12.0000 - val_loss: 0.2048 - val_accuracy: 0.6923 - val_true_positives: 7.0000 - val_false_positives: 3.0000 - val_false_negatives: 1.0000 - val_true_negatives: 2.0000\n",
      "Epoch 65/100\n",
      "3/3 [==============================] - 0s 29ms/step - loss: 0.0610 - accuracy: 1.0000 - true_positives: 17.0000 - false_positives: 0.0000e+00 - false_negatives: 0.0000e+00 - true_negatives: 12.0000 - val_loss: 0.2033 - val_accuracy: 0.6923 - val_true_positives: 7.0000 - val_false_positives: 3.0000 - val_false_negatives: 1.0000 - val_true_negatives: 2.0000\n",
      "Epoch 66/100\n",
      "3/3 [==============================] - 0s 35ms/step - loss: 0.0555 - accuracy: 1.0000 - true_positives: 17.0000 - false_positives: 0.0000e+00 - false_negatives: 0.0000e+00 - true_negatives: 12.0000 - val_loss: 0.2014 - val_accuracy: 0.6923 - val_true_positives: 7.0000 - val_false_positives: 3.0000 - val_false_negatives: 1.0000 - val_true_negatives: 2.0000\n",
      "Epoch 67/100\n"
     ]
    },
    {
     "name": "stdout",
     "output_type": "stream",
     "text": [
      "3/3 [==============================] - 0s 29ms/step - loss: 0.0495 - accuracy: 1.0000 - true_positives: 17.0000 - false_positives: 0.0000e+00 - false_negatives: 0.0000e+00 - true_negatives: 12.0000 - val_loss: 0.2015 - val_accuracy: 0.6923 - val_true_positives: 7.0000 - val_false_positives: 3.0000 - val_false_negatives: 1.0000 - val_true_negatives: 2.0000\n",
      "Epoch 68/100\n",
      "3/3 [==============================] - 0s 34ms/step - loss: 0.0438 - accuracy: 1.0000 - true_positives: 17.0000 - false_positives: 0.0000e+00 - false_negatives: 0.0000e+00 - true_negatives: 12.0000 - val_loss: 0.2031 - val_accuracy: 0.6154 - val_true_positives: 6.0000 - val_false_positives: 3.0000 - val_false_negatives: 2.0000 - val_true_negatives: 2.0000\n",
      "Epoch 69/100\n",
      "3/3 [==============================] - 0s 29ms/step - loss: 0.0372 - accuracy: 1.0000 - true_positives: 17.0000 - false_positives: 0.0000e+00 - false_negatives: 0.0000e+00 - true_negatives: 12.0000 - val_loss: 0.2031 - val_accuracy: 0.6923 - val_true_positives: 6.0000 - val_false_positives: 2.0000 - val_false_negatives: 2.0000 - val_true_negatives: 3.0000\n",
      "Epoch 70/100\n",
      "3/3 [==============================] - 0s 37ms/step - loss: 0.0310 - accuracy: 1.0000 - true_positives: 17.0000 - false_positives: 0.0000e+00 - false_negatives: 0.0000e+00 - true_negatives: 12.0000 - val_loss: 0.2033 - val_accuracy: 0.6923 - val_true_positives: 6.0000 - val_false_positives: 2.0000 - val_false_negatives: 2.0000 - val_true_negatives: 3.0000\n",
      "Epoch 71/100\n",
      "3/3 [==============================] - 0s 29ms/step - loss: 0.0258 - accuracy: 1.0000 - true_positives: 17.0000 - false_positives: 0.0000e+00 - false_negatives: 0.0000e+00 - true_negatives: 12.0000 - val_loss: 0.2023 - val_accuracy: 0.6923 - val_true_positives: 6.0000 - val_false_positives: 2.0000 - val_false_negatives: 2.0000 - val_true_negatives: 3.0000\n",
      "Epoch 72/100\n",
      "3/3 [==============================] - 0s 32ms/step - loss: 0.0211 - accuracy: 1.0000 - true_positives: 17.0000 - false_positives: 0.0000e+00 - false_negatives: 0.0000e+00 - true_negatives: 12.0000 - val_loss: 0.2044 - val_accuracy: 0.6923 - val_true_positives: 6.0000 - val_false_positives: 2.0000 - val_false_negatives: 2.0000 - val_true_negatives: 3.0000\n",
      "Epoch 73/100\n",
      "3/3 [==============================] - 0s 34ms/step - loss: 0.0174 - accuracy: 1.0000 - true_positives: 17.0000 - false_positives: 0.0000e+00 - false_negatives: 0.0000e+00 - true_negatives: 12.0000 - val_loss: 0.2062 - val_accuracy: 0.6923 - val_true_positives: 6.0000 - val_false_positives: 2.0000 - val_false_negatives: 2.0000 - val_true_negatives: 3.0000\n",
      "Epoch 74/100\n",
      "3/3 [==============================] - 0s 34ms/step - loss: 0.0143 - accuracy: 1.0000 - true_positives: 17.0000 - false_positives: 0.0000e+00 - false_negatives: 0.0000e+00 - true_negatives: 12.0000 - val_loss: 0.2089 - val_accuracy: 0.6923 - val_true_positives: 6.0000 - val_false_positives: 2.0000 - val_false_negatives: 2.0000 - val_true_negatives: 3.0000\n",
      "Epoch 75/100\n",
      "3/3 [==============================] - 0s 28ms/step - loss: 0.0116 - accuracy: 1.0000 - true_positives: 17.0000 - false_positives: 0.0000e+00 - false_negatives: 0.0000e+00 - true_negatives: 12.0000 - val_loss: 0.2138 - val_accuracy: 0.6923 - val_true_positives: 6.0000 - val_false_positives: 2.0000 - val_false_negatives: 2.0000 - val_true_negatives: 3.0000\n",
      "Epoch 76/100\n",
      "3/3 [==============================] - 0s 34ms/step - loss: 0.0092 - accuracy: 1.0000 - true_positives: 17.0000 - false_positives: 0.0000e+00 - false_negatives: 0.0000e+00 - true_negatives: 12.0000 - val_loss: 0.2208 - val_accuracy: 0.6923 - val_true_positives: 6.0000 - val_false_positives: 2.0000 - val_false_negatives: 2.0000 - val_true_negatives: 3.0000\n",
      "Epoch 77/100\n",
      "3/3 [==============================] - 0s 38ms/step - loss: 0.0077 - accuracy: 1.0000 - true_positives: 17.0000 - false_positives: 0.0000e+00 - false_negatives: 0.0000e+00 - true_negatives: 12.0000 - val_loss: 0.2242 - val_accuracy: 0.6923 - val_true_positives: 6.0000 - val_false_positives: 2.0000 - val_false_negatives: 2.0000 - val_true_negatives: 3.0000\n",
      "Epoch 78/100\n",
      "3/3 [==============================] - 0s 33ms/step - loss: 0.0063 - accuracy: 1.0000 - true_positives: 17.0000 - false_positives: 0.0000e+00 - false_negatives: 0.0000e+00 - true_negatives: 12.0000 - val_loss: 0.2241 - val_accuracy: 0.6923 - val_true_positives: 6.0000 - val_false_positives: 2.0000 - val_false_negatives: 2.0000 - val_true_negatives: 3.0000\n",
      "Epoch 79/100\n",
      "3/3 [==============================] - 0s 34ms/step - loss: 0.0051 - accuracy: 1.0000 - true_positives: 17.0000 - false_positives: 0.0000e+00 - false_negatives: 0.0000e+00 - true_negatives: 12.0000 - val_loss: 0.2235 - val_accuracy: 0.6923 - val_true_positives: 6.0000 - val_false_positives: 2.0000 - val_false_negatives: 2.0000 - val_true_negatives: 3.0000\n",
      "Epoch 80/100\n",
      "3/3 [==============================] - 0s 36ms/step - loss: 0.0043 - accuracy: 1.0000 - true_positives: 17.0000 - false_positives: 0.0000e+00 - false_negatives: 0.0000e+00 - true_negatives: 12.0000 - val_loss: 0.2247 - val_accuracy: 0.6923 - val_true_positives: 6.0000 - val_false_positives: 2.0000 - val_false_negatives: 2.0000 - val_true_negatives: 3.0000\n",
      "Epoch 81/100\n",
      "3/3 [==============================] - 0s 34ms/step - loss: 0.0036 - accuracy: 1.0000 - true_positives: 17.0000 - false_positives: 0.0000e+00 - false_negatives: 0.0000e+00 - true_negatives: 12.0000 - val_loss: 0.2277 - val_accuracy: 0.6923 - val_true_positives: 6.0000 - val_false_positives: 2.0000 - val_false_negatives: 2.0000 - val_true_negatives: 3.0000\n",
      "Epoch 82/100\n",
      "3/3 [==============================] - 0s 34ms/step - loss: 0.0030 - accuracy: 1.0000 - true_positives: 17.0000 - false_positives: 0.0000e+00 - false_negatives: 0.0000e+00 - true_negatives: 12.0000 - val_loss: 0.2314 - val_accuracy: 0.6923 - val_true_positives: 6.0000 - val_false_positives: 2.0000 - val_false_negatives: 2.0000 - val_true_negatives: 3.0000\n",
      "Epoch 83/100\n",
      "3/3 [==============================] - 0s 35ms/step - loss: 0.0027 - accuracy: 1.0000 - true_positives: 17.0000 - false_positives: 0.0000e+00 - false_negatives: 0.0000e+00 - true_negatives: 12.0000 - val_loss: 0.2344 - val_accuracy: 0.6923 - val_true_positives: 6.0000 - val_false_positives: 2.0000 - val_false_negatives: 2.0000 - val_true_negatives: 3.0000\n",
      "Epoch 84/100\n",
      "3/3 [==============================] - 0s 34ms/step - loss: 0.0024 - accuracy: 1.0000 - true_positives: 17.0000 - false_positives: 0.0000e+00 - false_negatives: 0.0000e+00 - true_negatives: 12.0000 - val_loss: 0.2354 - val_accuracy: 0.6923 - val_true_positives: 6.0000 - val_false_positives: 2.0000 - val_false_negatives: 2.0000 - val_true_negatives: 3.0000\n",
      "Epoch 85/100\n",
      "3/3 [==============================] - 0s 33ms/step - loss: 0.0021 - accuracy: 1.0000 - true_positives: 17.0000 - false_positives: 0.0000e+00 - false_negatives: 0.0000e+00 - true_negatives: 12.0000 - val_loss: 0.2355 - val_accuracy: 0.6923 - val_true_positives: 6.0000 - val_false_positives: 2.0000 - val_false_negatives: 2.0000 - val_true_negatives: 3.0000\n",
      "Epoch 86/100\n",
      "3/3 [==============================] - 0s 34ms/step - loss: 0.0019 - accuracy: 1.0000 - true_positives: 17.0000 - false_positives: 0.0000e+00 - false_negatives: 0.0000e+00 - true_negatives: 12.0000 - val_loss: 0.2349 - val_accuracy: 0.6923 - val_true_positives: 6.0000 - val_false_positives: 2.0000 - val_false_negatives: 2.0000 - val_true_negatives: 3.0000\n",
      "Epoch 87/100\n",
      "3/3 [==============================] - 0s 35ms/step - loss: 0.0017 - accuracy: 1.0000 - true_positives: 17.0000 - false_positives: 0.0000e+00 - false_negatives: 0.0000e+00 - true_negatives: 12.0000 - val_loss: 0.2349 - val_accuracy: 0.6923 - val_true_positives: 6.0000 - val_false_positives: 2.0000 - val_false_negatives: 2.0000 - val_true_negatives: 3.0000\n",
      "Epoch 88/100\n",
      "3/3 [==============================] - 0s 29ms/step - loss: 0.0016 - accuracy: 1.0000 - true_positives: 17.0000 - false_positives: 0.0000e+00 - false_negatives: 0.0000e+00 - true_negatives: 12.0000 - val_loss: 0.2363 - val_accuracy: 0.6923 - val_true_positives: 6.0000 - val_false_positives: 2.0000 - val_false_negatives: 2.0000 - val_true_negatives: 3.0000\n",
      "Epoch 89/100\n",
      "3/3 [==============================] - 0s 34ms/step - loss: 0.0015 - accuracy: 1.0000 - true_positives: 17.0000 - false_positives: 0.0000e+00 - false_negatives: 0.0000e+00 - true_negatives: 12.0000 - val_loss: 0.2376 - val_accuracy: 0.6923 - val_true_positives: 6.0000 - val_false_positives: 2.0000 - val_false_negatives: 2.0000 - val_true_negatives: 3.0000\n",
      "Epoch 90/100\n",
      "3/3 [==============================] - 0s 31ms/step - loss: 0.0013 - accuracy: 1.0000 - true_positives: 17.0000 - false_positives: 0.0000e+00 - false_negatives: 0.0000e+00 - true_negatives: 12.0000 - val_loss: 0.2398 - val_accuracy: 0.6923 - val_true_positives: 6.0000 - val_false_positives: 2.0000 - val_false_negatives: 2.0000 - val_true_negatives: 3.0000\n",
      "Epoch 91/100\n",
      "3/3 [==============================] - 0s 34ms/step - loss: 0.0012 - accuracy: 1.0000 - true_positives: 17.0000 - false_positives: 0.0000e+00 - false_negatives: 0.0000e+00 - true_negatives: 12.0000 - val_loss: 0.2416 - val_accuracy: 0.6923 - val_true_positives: 6.0000 - val_false_positives: 2.0000 - val_false_negatives: 2.0000 - val_true_negatives: 3.0000\n",
      "Epoch 92/100\n",
      "3/3 [==============================] - 0s 29ms/step - loss: 0.0011 - accuracy: 1.0000 - true_positives: 17.0000 - false_positives: 0.0000e+00 - false_negatives: 0.0000e+00 - true_negatives: 12.0000 - val_loss: 0.2431 - val_accuracy: 0.6923 - val_true_positives: 6.0000 - val_false_positives: 2.0000 - val_false_negatives: 2.0000 - val_true_negatives: 3.0000\n",
      "Epoch 93/100\n",
      "3/3 [==============================] - 0s 37ms/step - loss: 0.0011 - accuracy: 1.0000 - true_positives: 17.0000 - false_positives: 0.0000e+00 - false_negatives: 0.0000e+00 - true_negatives: 12.0000 - val_loss: 0.2438 - val_accuracy: 0.6923 - val_true_positives: 6.0000 - val_false_positives: 2.0000 - val_false_negatives: 2.0000 - val_true_negatives: 3.0000\n",
      "Epoch 94/100\n",
      "3/3 [==============================] - 0s 33ms/step - loss: 0.0010 - accuracy: 1.0000 - true_positives: 17.0000 - false_positives: 0.0000e+00 - false_negatives: 0.0000e+00 - true_negatives: 12.0000 - val_loss: 0.2432 - val_accuracy: 0.6923 - val_true_positives: 6.0000 - val_false_positives: 2.0000 - val_false_negatives: 2.0000 - val_true_negatives: 3.0000\n",
      "Epoch 95/100\n",
      "3/3 [==============================] - 0s 37ms/step - loss: 9.3932e-04 - accuracy: 1.0000 - true_positives: 17.0000 - false_positives: 0.0000e+00 - false_negatives: 0.0000e+00 - true_negatives: 12.0000 - val_loss: 0.2433 - val_accuracy: 0.6923 - val_true_positives: 6.0000 - val_false_positives: 2.0000 - val_false_negatives: 2.0000 - val_true_negatives: 3.0000\n",
      "Epoch 96/100\n",
      "3/3 [==============================] - 0s 28ms/step - loss: 8.8767e-04 - accuracy: 1.0000 - true_positives: 17.0000 - false_positives: 0.0000e+00 - false_negatives: 0.0000e+00 - true_negatives: 12.0000 - val_loss: 0.2436 - val_accuracy: 0.6923 - val_true_positives: 6.0000 - val_false_positives: 2.0000 - val_false_negatives: 2.0000 - val_true_negatives: 3.0000\n",
      "Epoch 97/100\n",
      "3/3 [==============================] - 0s 36ms/step - loss: 8.4124e-04 - accuracy: 1.0000 - true_positives: 17.0000 - false_positives: 0.0000e+00 - false_negatives: 0.0000e+00 - true_negatives: 12.0000 - val_loss: 0.2442 - val_accuracy: 0.6923 - val_true_positives: 6.0000 - val_false_positives: 2.0000 - val_false_negatives: 2.0000 - val_true_negatives: 3.0000\n",
      "Epoch 98/100\n",
      "3/3 [==============================] - 0s 31ms/step - loss: 7.9108e-04 - accuracy: 1.0000 - true_positives: 17.0000 - false_positives: 0.0000e+00 - false_negatives: 0.0000e+00 - true_negatives: 12.0000 - val_loss: 0.2452 - val_accuracy: 0.6923 - val_true_positives: 6.0000 - val_false_positives: 2.0000 - val_false_negatives: 2.0000 - val_true_negatives: 3.0000\n",
      "Epoch 99/100\n",
      "3/3 [==============================] - 0s 33ms/step - loss: 7.5123e-04 - accuracy: 1.0000 - true_positives: 17.0000 - false_positives: 0.0000e+00 - false_negatives: 0.0000e+00 - true_negatives: 12.0000 - val_loss: 0.2461 - val_accuracy: 0.6923 - val_true_positives: 6.0000 - val_false_positives: 2.0000 - val_false_negatives: 2.0000 - val_true_negatives: 3.0000\n",
      "Epoch 100/100\n",
      "3/3 [==============================] - 0s 27ms/step - loss: 7.1709e-04 - accuracy: 1.0000 - true_positives: 17.0000 - false_positives: 0.0000e+00 - false_negatives: 0.0000e+00 - true_negatives: 12.0000 - val_loss: 0.2464 - val_accuracy: 0.6923 - val_true_positives: 6.0000 - val_false_positives: 2.0000 - val_false_negatives: 2.0000 - val_true_negatives: 3.0000\n"
     ]
    },
    {
     "data": {
      "text/plain": [
       "<keras.callbacks.History at 0x14d7aac40>"
      ]
     },
     "execution_count": 21,
     "metadata": {},
     "output_type": "execute_result"
    }
   ],
   "source": [
    "model.fit(X_train, y_train, batch_size = 10,\n",
    "          validation_data = (X_test, y_test), epochs=100)"
   ]
  },
  {
   "cell_type": "code",
   "execution_count": 22,
   "id": "7e1e75df",
   "metadata": {},
   "outputs": [
    {
     "data": {
      "image/png": "[encoded data removed]",
      "text/plain": [
       "<Figure size 432x288 with 1 Axes>"
      ]
     },
     "metadata": {
      "needs_background": "light"
     },
     "output_type": "display_data"
    }
   ],
   "source": [
    "plt.plot(model.history.history['val_accuracy'])\n",
    "plt.plot(model.history.history['accuracy'])\n",
    "plt.grid()\n",
    "plt.show()"
   ]
  },
  {
   "cell_type": "code",
   "execution_count": 23,
   "id": "c75e3fc2",
   "metadata": {},
   "outputs": [],
   "source": [
    "model.save('DNN_model_fulldata.h5')"
   ]
  }
 ],
 "metadata": {
  "kernelspec": {
   "display_name": "Python 3 (ipykernel)",
   "language": "python",
   "name": "python3"
  },
  "language_info": {
   "codemirror_mode": {
    "name": "ipython",
    "version": 3
   },
   "file_extension": ".py",
   "mimetype": "text/x-python",
   "name": "python",
   "nbconvert_exporter": "python",
   "pygments_lexer": "ipython3",
   "version": "3.9.13"
  }
 },
 "nbformat": 4,
 "nbformat_minor": 5
}
