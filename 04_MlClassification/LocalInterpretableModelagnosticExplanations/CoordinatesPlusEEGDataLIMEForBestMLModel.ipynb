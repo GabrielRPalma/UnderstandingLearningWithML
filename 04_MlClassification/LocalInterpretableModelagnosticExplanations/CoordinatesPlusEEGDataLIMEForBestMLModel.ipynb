{
 "cells": [
  {
   "cell_type": "markdown",
   "id": "369a4a0a",
   "metadata": {},
   "source": [
    "# Machine learning and deep learning methods applied to predicting customer status\n",
    "\n",
    "Purpose: Predict active and not active clients based on the proposed data structure and naive data structure. Here, we implemented Support Vector Machines (SVM), Random Forest (RF), K-nearest Neighbours (KNN) and Lasso.\n",
    "\n",
    "Author: Gabriel Rodrigues Palma and Rafael de Andrade Moral"
   ]
  },
  {
   "cell_type": "markdown",
   "id": "7d1c8170",
   "metadata": {},
   "source": [
    "# Packages used in the project"
   ]
  },
  {
   "cell_type": "code",
   "execution_count": 1,
   "id": "43b2e789",
   "metadata": {},
   "outputs": [
    {
     "name": "stdout",
     "output_type": "stream",
     "text": [
      "Num GPUs Available:  1\n"
     ]
    }
   ],
   "source": [
    "# LIME modules\n",
    "import lime\n",
    "import lime.lime_tabular\n",
    "\n",
    "# visualisation modules\n",
    "import matplotlib.pyplot as plt\n",
    "\n",
    "# Data manipulation modules\n",
    "import numpy as np\n",
    "import pandas as pd\n",
    "\n",
    "# Machine learning modules\n",
    "from sklearn.model_selection import train_test_split\n",
    "from sklearn.preprocessing import MinMaxScaler\n",
    "\n",
    "# Deep learning modules\n",
    "import tensorflow as tf\n",
    "from tensorflow import keras\n",
    "from tensorflow.keras.layers import Dense, Dropout, BatchNormalization\n",
    "from tensorflow.keras.models import Sequential\n",
    "from tensorflow.keras import layers\n",
    "from keras.layers import LeakyReLU\n",
    "\n",
    "# Machine learning packages\n",
    "from sklearn.preprocessing import LabelEncoder\n",
    "from sklearn.preprocessing import OneHotEncoder\n",
    "import collections\n",
    "from sklearn.model_selection import train_test_split\n",
    "from sklearn.utils import shuffle\n",
    "from sklearn.model_selection import cross_val_score, RandomizedSearchCV, KFold\n",
    "from sklearn.model_selection import LeaveOneOut\n",
    "from sklearn.decomposition import PCA\n",
    "from sklearn.preprocessing import MinMaxScaler\n",
    "from sklearn import svm\n",
    "from sklearn.metrics import accuracy_score, confusion_matrix, roc_auc_score\n",
    "from sklearn.ensemble import RandomForestClassifier\n",
    "from sklearn.neighbors import KNeighborsClassifier\n",
    "from sklearn.linear_model import Lasso\n",
    "from sklearn.preprocessing import LabelBinarizer\n",
    "from sklearn.model_selection import LeaveOneOut\n",
    "\n",
    "# Additional packages\n",
    "from keras.layers import Input, Dense, Conv2D, MaxPooling2D, Conv2DTranspose, UpSampling2D, Flatten, Reshape\n",
    "from keras.models import Model\n",
    "from keras.optimizers import Adam\n",
    "from keras.regularizers import L1\n",
    "from keras import metrics\n",
    "import numpy as np\n",
    "import matplotlib.pyplot as plt\n",
    "import keras.backend as K\n",
    "import tensorflow as tf\n",
    "\n",
    "# Testing GPU from MacOs\n",
    "print(\"Num GPUs Available: \", len(tf.config.experimental.list_physical_devices('GPU')))"
   ]
  },
  {
   "cell_type": "markdown",
   "id": "ab0d6130",
   "metadata": {},
   "source": [
    "# Packages used in the project"
   ]
  },
  {
   "cell_type": "code",
   "execution_count": 2,
   "id": "36700a96",
   "metadata": {},
   "outputs": [],
   "source": [
    "def create_dataset(path, response_class):\n",
    "    ''' This function reads and prepare the datasets for applying the ML and DL methods'''\n",
    "    data = pd.read_csv(path)\n",
    "    data = data.drop(columns = ['Unnamed: 0', 'Subject'])\n",
    "    explanatory_variables = data.drop(columns = response_class)\n",
    "    response_variables = data[response_class]        \n",
    "    binarizer = LabelBinarizer()\n",
    "    response_variables = binarizer.fit_transform(response_variables)\n",
    "    \n",
    "    onehot_encoder = OneHotEncoder(sparse=False)\n",
    "    hot_encode_response_variable = onehot_encoder.fit_transform(np.array(response_variables).reshape(-1, 1))          \n",
    "    \n",
    "    return(explanatory_variables, \n",
    "           hot_encode_response_variable, response_variables)\n",
    "\n",
    "def check_zero_division_and_get_rates(cm):\n",
    "    ''' This functions checks for divisions per zeros in the computation of \n",
    "       True and false positive rate based on the confusion matrix array. Also, \n",
    "       this function returns the checked rates'''\n",
    "    \n",
    "    if any(np.sum(cm, axis = 1)==0):            \n",
    "            tpr = cm[:,1][1]/(np.sum(cm, axis = 1)[1]+1e-16)\n",
    "            fpr = cm[:,1][0]/(np.sum(cm, axis = 1)[0]+1e-16)    \n",
    "    else:           \n",
    "        rates = cm[:,1]/np.sum(cm, axis = 1)    \n",
    "        fpr = rates[0]    \n",
    "        tpr = rates[1]\n",
    "    if np.isnan(tpr):        \n",
    "        tpr=0\n",
    "        \n",
    "    return(tpr, fpr)\n",
    "\n",
    "def check_and_compute_rates(predictions, \n",
    "                            classes, \n",
    "                            cm):    \n",
    "    ''' This function returns the values of true and false positive rate for special cases\n",
    "       where the division is not possible to obtain automatically based on the confusion\n",
    "       matrix array provided by sklearn'''\n",
    "        \n",
    "    if (sum(predictions) == 0 and sum(classes) == 0):        \n",
    "        fpr = 0\n",
    "        tpr = 0\n",
    "    elif (sum(predictions) == len(predictions) and sum(classes) == len(classes)):        \n",
    "        fpr = 0\n",
    "        tpr = 1\n",
    "    else:            \n",
    "        tpr, fpr = check_zero_division_and_get_rates(cm)\n",
    "        \n",
    "    return(tpr, fpr)\n",
    "    \n",
    "def get_rates(y_pred,\n",
    "              y_true):\n",
    "    ''' This function get the true and false positive rates based on the \n",
    "       predictied'''\n",
    "            \n",
    "    cm = confusion_matrix(y_true = y_true, y_pred = y_pred)\n",
    "    tpr, fpr = check_and_compute_rates(y_pred, y_true, cm)\n",
    "        \n",
    "    return(tpr, fpr)\n",
    "\n",
    "def get_rates_by_cross_validation(raw_data):\n",
    "    ''' This function obtains the accuracy, true and false positive rates \n",
    "       based on the cross k-fold cross validation'''\n",
    "            \n",
    "    for train_index, test_index in KFold(n_splits=5, shuffle=True).split(patterns):\n",
    "        \n",
    "        x_train, x_test = patterns[train_index], patterns[test_index]\n",
    "        y_train, y_test = classes[train_index], classes[test_index]\n",
    "                \n",
    "        pbp_predictions = pbp_prediction(patterns_array=x_test, \n",
    "                                         clustered_patterns = clustered_patterns, \n",
    "                                         d_base = d_base, alpha = alpha, \n",
    "                   outbreak_p_means = prediction.obtain_p_means_with_distance,\n",
    "                   outbreak_prediction = prediction.predict_with_distance)\n",
    "        rates = get_rates(predictions = pbp_predictions, classes = y_test)\n",
    "        tpr.append(rates[0])\n",
    "        fpr.append(rates[1])\n",
    "    \n",
    "    return(np.mean(tpr[tpr!=np.nan]), np.mean(fpr[fpr!=np.nan]))\n",
    "\n",
    "def get_statistics(y_pred, y_true):\n",
    "    ''' This function obtains the following statistics: Accuracy, True positive rate and \n",
    "       False positive rate'''\n",
    "\n",
    "    auc = roc_auc_score(y_score = y_pred,\n",
    "              y_true = y_true)\n",
    "    acc = accuracy_score(y_pred = y_pred,\n",
    "                         y_true = y_true)\n",
    "    rates = get_rates(y_pred = y_pred,\n",
    "              y_true = y_true)\n",
    "    tpr = rates[0]\n",
    "    fpr = rates[1]\n",
    "    return([acc, tpr, fpr, auc])"
   ]
  },
  {
   "cell_type": "code",
   "execution_count": 40,
   "id": "fa491d97",
   "metadata": {},
   "outputs": [],
   "source": [
    "def check_class(lime_importance):\n",
    "    '''This function classify the class among control or experiment based on the LIME score\n",
    "    negative scores relates to control and positive experiment'''\n",
    "    if (lime_importance < 0):\n",
    "        return('Control')\n",
    "    else:\n",
    "        return('Experiment')\n",
    "def get_lime_importance(explanatory_variables, \n",
    "                        response_variables, \n",
    "                        trial_name, num_features, \n",
    "                        feature_names):\n",
    "    '''This function obtains the parameters importance based on the LIME method. For that the leave one out cross \n",
    "    validation approach was used in order to obtain parameter importance for each subject of the experiment'''\n",
    "    parameters = []\n",
    "    loo = LeaveOneOut()\n",
    "    loo.get_n_splits(explanatory_variables)\n",
    "    \n",
    "    \n",
    "    for train_index, test_index in loo.split(explanatory_variables):\n",
    "        X_train, X_test = explanatory_variables[train_index], explanatory_variables[test_index]\n",
    "        y_train, y_test = response_variables[train_index], response_variables[test_index]   \n",
    "        \n",
    "        dnn = Sequential()\n",
    "        dnn.add(Dense(100, input_shape=(num_features,)))\n",
    "        dnn.add(Dense(150, activation = LeakyReLU(alpha=0.4)))\n",
    "        dnn.add(Dense(200, activation = LeakyReLU(alpha=0.4)))\n",
    "        dnn.add(Dense(150, activation = LeakyReLU(alpha=0.4)))\n",
    "        dnn.add(Dense(46, activation = LeakyReLU(alpha=0.4)))\n",
    "        dnn.add(Dense(20, activation = LeakyReLU(alpha=0.4)))\n",
    "        dnn.add(Dense(10, activation = LeakyReLU(alpha=0.4)))\n",
    "        dnn.add(Dense(2, activation = 'softmax'))\n",
    "        dnn.compile(optimizer = 'adam', \n",
    "                      loss = 'mse', \n",
    "                     metrics = ['accuracy', 'TruePositives', 'FalsePositives', 'FalseNegatives', 'TrueNegatives'])\n",
    "        dnn.fit(X_train, y_train, batch_size = 10, epochs=100, verbose = False)\n",
    "        dnn_predictions = dnn.predict(X_test)\n",
    "        \n",
    "        explainer = lime.lime_tabular.LimeTabularExplainer(X_train, \n",
    "                                                           feature_names = feature_names,\n",
    "                                                           class_names=['Control', 'Experiment'], \n",
    "                                                           verbose = False, mode='classification')\n",
    "        print(np.array(X_test[0]))\n",
    "\n",
    "        exp = explainer.explain_instance(np.array(X_test[0]), dnn.predict, num_features=num_features)\n",
    "        lime_results = exp.as_list()\n",
    "        for feature_index in range(num_features):\n",
    "            lime_feature_importance = list(lime_results[feature_index])\n",
    "            lime_feature_importance.append(check_class(list(lime_results[feature_index])[1]))\n",
    "            lime_feature_importance.append(trial_name)\n",
    "            parameters.append(lime_feature_importance)\n",
    "            \n",
    "    parameters = pd.DataFrame(parameters, columns = ['Features', 'Local \\n Importance', 'Class', 'Trial'])\n",
    "        \n",
    "    return(parameters)"
   ]
  },
  {
   "cell_type": "markdown",
   "id": "9601b56e-f379-4b23-9d9f-00e7fab57c4b",
   "metadata": {},
   "source": [
    "# Importing Datasets"
   ]
  },
  {
   "cell_type": "markdown",
   "id": "c3c5a00c",
   "metadata": {},
   "source": [
    "Before obtaining the performance of the learning algorithms selected for this paper, we need to import the datasets related to the Hidden Markov Models features and the peak features."
   ]
  },
  {
   "cell_type": "markdown",
   "id": "892bc229",
   "metadata": {},
   "source": [
    "## Zscored scale Midline EEG data Trial 12"
   ]
  },
  {
   "cell_type": "code",
   "execution_count": 4,
   "id": "bafe9b43",
   "metadata": {},
   "outputs": [],
   "source": [
    "all_Zscored_scale_explanatory_variables_t1, \\\n",
    "  all_Zscored_scale_hot_encode_response_variable_t1, all_Zscored_scale_response_variable_t1 = create_dataset(path = '../../output_data/New_data/CoordinatesPlusEEGData/ZscoredScaledPlusCoordinateTrial1.csv', \n",
    "                                                                                           response_class = 'Class')"
   ]
  },
  {
   "cell_type": "code",
   "execution_count": 5,
   "id": "4f0f17a9",
   "metadata": {},
   "outputs": [
    {
     "data": {
      "text/html": [
       "<div>\n",
       "<style scoped>\n",
       "    .dataframe tbody tr th:only-of-type {\n",
       "        vertical-align: middle;\n",
       "    }\n",
       "\n",
       "    .dataframe tbody tr th {\n",
       "        vertical-align: top;\n",
       "    }\n",
       "\n",
       "    .dataframe thead th {\n",
       "        text-align: right;\n",
       "    }\n",
       "</style>\n",
       "<table border=\"1\" class=\"dataframe\">\n",
       "  <thead>\n",
       "    <tr style=\"text-align: right;\">\n",
       "      <th></th>\n",
       "      <th>MM_Intercept</th>\n",
       "      <th>MM_Hess</th>\n",
       "      <th>average_peak_magnitude</th>\n",
       "      <th>average_peak_curvature</th>\n",
       "      <th>hmm2_mean.1</th>\n",
       "      <th>hmm2_mean.2</th>\n",
       "      <th>hmm2_sd.1</th>\n",
       "      <th>hmm2_sd.2</th>\n",
       "      <th>hmm2_p1</th>\n",
       "      <th>hmm2_p2</th>\n",
       "      <th>...</th>\n",
       "      <th>hmm5_sd.5</th>\n",
       "      <th>hmm5_p1</th>\n",
       "      <th>hmm5_p2</th>\n",
       "      <th>hmm5_p3</th>\n",
       "      <th>hmm5_p4</th>\n",
       "      <th>hmm5_p5</th>\n",
       "      <th>dis_sum</th>\n",
       "      <th>angle_sum</th>\n",
       "      <th>average_speed</th>\n",
       "      <th>idle_time</th>\n",
       "    </tr>\n",
       "  </thead>\n",
       "  <tbody>\n",
       "    <tr>\n",
       "      <th>0</th>\n",
       "      <td>0.430807</td>\n",
       "      <td>-9.240701</td>\n",
       "      <td>0.899261</td>\n",
       "      <td>-0.002411</td>\n",
       "      <td>0.348</td>\n",
       "      <td>0.216</td>\n",
       "      <td>0.065</td>\n",
       "      <td>0.037</td>\n",
       "      <td>0.515900</td>\n",
       "      <td>0.484100</td>\n",
       "      <td>...</td>\n",
       "      <td>0.012</td>\n",
       "      <td>0.180843</td>\n",
       "      <td>0.240996</td>\n",
       "      <td>0.243103</td>\n",
       "      <td>0.144828</td>\n",
       "      <td>0.190230</td>\n",
       "      <td>0.033748</td>\n",
       "      <td>-1.025618</td>\n",
       "      <td>-0.778047</td>\n",
       "      <td>0.509589</td>\n",
       "    </tr>\n",
       "    <tr>\n",
       "      <th>1</th>\n",
       "      <td>0.379726</td>\n",
       "      <td>-28.295271</td>\n",
       "      <td>0.994679</td>\n",
       "      <td>-0.002637</td>\n",
       "      <td>0.209</td>\n",
       "      <td>0.364</td>\n",
       "      <td>0.048</td>\n",
       "      <td>0.092</td>\n",
       "      <td>0.530876</td>\n",
       "      <td>0.469124</td>\n",
       "      <td>...</td>\n",
       "      <td>0.015</td>\n",
       "      <td>0.156503</td>\n",
       "      <td>0.214782</td>\n",
       "      <td>0.282709</td>\n",
       "      <td>0.138557</td>\n",
       "      <td>0.207449</td>\n",
       "      <td>0.253317</td>\n",
       "      <td>-0.076674</td>\n",
       "      <td>-0.078018</td>\n",
       "      <td>-0.583368</td>\n",
       "    </tr>\n",
       "    <tr>\n",
       "      <th>2</th>\n",
       "      <td>-0.190530</td>\n",
       "      <td>30.395558</td>\n",
       "      <td>0.096708</td>\n",
       "      <td>-0.002210</td>\n",
       "      <td>0.269</td>\n",
       "      <td>0.147</td>\n",
       "      <td>0.064</td>\n",
       "      <td>0.032</td>\n",
       "      <td>0.404959</td>\n",
       "      <td>0.595041</td>\n",
       "      <td>...</td>\n",
       "      <td>0.009</td>\n",
       "      <td>0.229291</td>\n",
       "      <td>0.181818</td>\n",
       "      <td>0.179896</td>\n",
       "      <td>0.210456</td>\n",
       "      <td>0.198539</td>\n",
       "      <td>0.154093</td>\n",
       "      <td>-0.734181</td>\n",
       "      <td>-0.460115</td>\n",
       "      <td>-0.163000</td>\n",
       "    </tr>\n",
       "    <tr>\n",
       "      <th>3</th>\n",
       "      <td>0.018348</td>\n",
       "      <td>11.094229</td>\n",
       "      <td>0.167587</td>\n",
       "      <td>-0.001766</td>\n",
       "      <td>0.264</td>\n",
       "      <td>0.155</td>\n",
       "      <td>0.045</td>\n",
       "      <td>0.034</td>\n",
       "      <td>0.440678</td>\n",
       "      <td>0.559322</td>\n",
       "      <td>...</td>\n",
       "      <td>0.022</td>\n",
       "      <td>0.190485</td>\n",
       "      <td>0.208398</td>\n",
       "      <td>0.214176</td>\n",
       "      <td>0.224576</td>\n",
       "      <td>0.162365</td>\n",
       "      <td>0.158903</td>\n",
       "      <td>0.564604</td>\n",
       "      <td>-0.094401</td>\n",
       "      <td>-0.247073</td>\n",
       "    </tr>\n",
       "    <tr>\n",
       "      <th>4</th>\n",
       "      <td>0.738628</td>\n",
       "      <td>-31.642053</td>\n",
       "      <td>1.505026</td>\n",
       "      <td>-0.002939</td>\n",
       "      <td>0.275</td>\n",
       "      <td>0.459</td>\n",
       "      <td>0.053</td>\n",
       "      <td>0.082</td>\n",
       "      <td>0.627565</td>\n",
       "      <td>0.372435</td>\n",
       "      <td>...</td>\n",
       "      <td>0.014</td>\n",
       "      <td>0.237708</td>\n",
       "      <td>0.252226</td>\n",
       "      <td>0.111692</td>\n",
       "      <td>0.255517</td>\n",
       "      <td>0.142857</td>\n",
       "      <td>0.015317</td>\n",
       "      <td>0.747200</td>\n",
       "      <td>-0.304367</td>\n",
       "      <td>0.257368</td>\n",
       "    </tr>\n",
       "  </tbody>\n",
       "</table>\n",
       "<p>5 rows × 50 columns</p>\n",
       "</div>"
      ],
      "text/plain": [
       "   MM_Intercept    MM_Hess  average_peak_magnitude  average_peak_curvature  \\\n",
       "0      0.430807  -9.240701                0.899261               -0.002411   \n",
       "1      0.379726 -28.295271                0.994679               -0.002637   \n",
       "2     -0.190530  30.395558                0.096708               -0.002210   \n",
       "3      0.018348  11.094229                0.167587               -0.001766   \n",
       "4      0.738628 -31.642053                1.505026               -0.002939   \n",
       "\n",
       "   hmm2_mean.1  hmm2_mean.2  hmm2_sd.1  hmm2_sd.2   hmm2_p1   hmm2_p2  ...  \\\n",
       "0        0.348        0.216      0.065      0.037  0.515900  0.484100  ...   \n",
       "1        0.209        0.364      0.048      0.092  0.530876  0.469124  ...   \n",
       "2        0.269        0.147      0.064      0.032  0.404959  0.595041  ...   \n",
       "3        0.264        0.155      0.045      0.034  0.440678  0.559322  ...   \n",
       "4        0.275        0.459      0.053      0.082  0.627565  0.372435  ...   \n",
       "\n",
       "   hmm5_sd.5   hmm5_p1   hmm5_p2   hmm5_p3   hmm5_p4   hmm5_p5   dis_sum  \\\n",
       "0      0.012  0.180843  0.240996  0.243103  0.144828  0.190230  0.033748   \n",
       "1      0.015  0.156503  0.214782  0.282709  0.138557  0.207449  0.253317   \n",
       "2      0.009  0.229291  0.181818  0.179896  0.210456  0.198539  0.154093   \n",
       "3      0.022  0.190485  0.208398  0.214176  0.224576  0.162365  0.158903   \n",
       "4      0.014  0.237708  0.252226  0.111692  0.255517  0.142857  0.015317   \n",
       "\n",
       "   angle_sum  average_speed  idle_time  \n",
       "0  -1.025618      -0.778047   0.509589  \n",
       "1  -0.076674      -0.078018  -0.583368  \n",
       "2  -0.734181      -0.460115  -0.163000  \n",
       "3   0.564604      -0.094401  -0.247073  \n",
       "4   0.747200      -0.304367   0.257368  \n",
       "\n",
       "[5 rows x 50 columns]"
      ]
     },
     "execution_count": 5,
     "metadata": {},
     "output_type": "execute_result"
    }
   ],
   "source": [
    "all_Zscored_scale_explanatory_variables_t1.head()"
   ]
  },
  {
   "cell_type": "markdown",
   "id": "7f3d5406",
   "metadata": {},
   "source": [
    "## Zscored scale Midline EEG data Trial 12"
   ]
  },
  {
   "cell_type": "code",
   "execution_count": 6,
   "id": "14a1b224",
   "metadata": {},
   "outputs": [],
   "source": [
    "all_Zscored_scale_explanatory_variables_t12, \\\n",
    "  all_Zscored_scale_hot_encode_response_variable_t12, all_Zscored_scale_response_variable_t12 = create_dataset(path = '../../output_data/New_data/CoordinatesPlusEEGData/ZscoredScaledPlusCoordinateTrial12.csv', \n",
    "                                                                                           response_class = 'Class')"
   ]
  },
  {
   "cell_type": "code",
   "execution_count": 7,
   "id": "7d1d7246",
   "metadata": {},
   "outputs": [
    {
     "data": {
      "text/html": [
       "<div>\n",
       "<style scoped>\n",
       "    .dataframe tbody tr th:only-of-type {\n",
       "        vertical-align: middle;\n",
       "    }\n",
       "\n",
       "    .dataframe tbody tr th {\n",
       "        vertical-align: top;\n",
       "    }\n",
       "\n",
       "    .dataframe thead th {\n",
       "        text-align: right;\n",
       "    }\n",
       "</style>\n",
       "<table border=\"1\" class=\"dataframe\">\n",
       "  <thead>\n",
       "    <tr style=\"text-align: right;\">\n",
       "      <th></th>\n",
       "      <th>MM_Intercept</th>\n",
       "      <th>MM_Hess</th>\n",
       "      <th>average_peak_magnitude</th>\n",
       "      <th>average_peak_curvature</th>\n",
       "      <th>hmm2_mean.1</th>\n",
       "      <th>hmm2_mean.2</th>\n",
       "      <th>hmm2_sd.1</th>\n",
       "      <th>hmm2_sd.2</th>\n",
       "      <th>hmm2_p1</th>\n",
       "      <th>hmm2_p2</th>\n",
       "      <th>...</th>\n",
       "      <th>hmm5_sd.5</th>\n",
       "      <th>hmm5_p1</th>\n",
       "      <th>hmm5_p2</th>\n",
       "      <th>hmm5_p3</th>\n",
       "      <th>hmm5_p4</th>\n",
       "      <th>hmm5_p5</th>\n",
       "      <th>dis_sum</th>\n",
       "      <th>angle_sum</th>\n",
       "      <th>average_speed</th>\n",
       "      <th>idle_time</th>\n",
       "    </tr>\n",
       "  </thead>\n",
       "  <tbody>\n",
       "    <tr>\n",
       "      <th>0</th>\n",
       "      <td>0.505831</td>\n",
       "      <td>3.734294</td>\n",
       "      <td>1.254882</td>\n",
       "      <td>-0.003140</td>\n",
       "      <td>0.394</td>\n",
       "      <td>0.253</td>\n",
       "      <td>0.073</td>\n",
       "      <td>0.048</td>\n",
       "      <td>0.315457</td>\n",
       "      <td>0.684543</td>\n",
       "      <td>...</td>\n",
       "      <td>0.067</td>\n",
       "      <td>0.194532</td>\n",
       "      <td>0.219769</td>\n",
       "      <td>0.256572</td>\n",
       "      <td>0.170347</td>\n",
       "      <td>0.158780</td>\n",
       "      <td>-0.028934</td>\n",
       "      <td>-0.094611</td>\n",
       "      <td>0.049350</td>\n",
       "      <td>-0.523141</td>\n",
       "    </tr>\n",
       "    <tr>\n",
       "      <th>1</th>\n",
       "      <td>0.154855</td>\n",
       "      <td>-90.618525</td>\n",
       "      <td>1.082626</td>\n",
       "      <td>-0.002968</td>\n",
       "      <td>0.224</td>\n",
       "      <td>0.442</td>\n",
       "      <td>0.029</td>\n",
       "      <td>0.149</td>\n",
       "      <td>0.590447</td>\n",
       "      <td>0.409553</td>\n",
       "      <td>...</td>\n",
       "      <td>0.153</td>\n",
       "      <td>0.149390</td>\n",
       "      <td>0.257114</td>\n",
       "      <td>0.183943</td>\n",
       "      <td>0.295732</td>\n",
       "      <td>0.113821</td>\n",
       "      <td>0.702254</td>\n",
       "      <td>-0.037036</td>\n",
       "      <td>0.819298</td>\n",
       "      <td>-0.665551</td>\n",
       "    </tr>\n",
       "    <tr>\n",
       "      <th>2</th>\n",
       "      <td>-0.381763</td>\n",
       "      <td>-108.664622</td>\n",
       "      <td>-0.051024</td>\n",
       "      <td>-0.001874</td>\n",
       "      <td>0.126</td>\n",
       "      <td>0.261</td>\n",
       "      <td>0.022</td>\n",
       "      <td>0.090</td>\n",
       "      <td>0.470644</td>\n",
       "      <td>0.529356</td>\n",
       "      <td>...</td>\n",
       "      <td>0.091</td>\n",
       "      <td>0.129735</td>\n",
       "      <td>0.188447</td>\n",
       "      <td>0.133523</td>\n",
       "      <td>0.357008</td>\n",
       "      <td>0.191288</td>\n",
       "      <td>-0.607236</td>\n",
       "      <td>-0.624665</td>\n",
       "      <td>-1.338644</td>\n",
       "      <td>0.616143</td>\n",
       "    </tr>\n",
       "    <tr>\n",
       "      <th>3</th>\n",
       "      <td>-0.024115</td>\n",
       "      <td>-51.478291</td>\n",
       "      <td>0.385727</td>\n",
       "      <td>-0.002211</td>\n",
       "      <td>0.308</td>\n",
       "      <td>0.171</td>\n",
       "      <td>0.059</td>\n",
       "      <td>0.031</td>\n",
       "      <td>0.423729</td>\n",
       "      <td>0.576271</td>\n",
       "      <td>...</td>\n",
       "      <td>0.048</td>\n",
       "      <td>0.095450</td>\n",
       "      <td>0.329170</td>\n",
       "      <td>0.116860</td>\n",
       "      <td>0.266726</td>\n",
       "      <td>0.191793</td>\n",
       "      <td>-0.005279</td>\n",
       "      <td>3.196325</td>\n",
       "      <td>0.130691</td>\n",
       "      <td>-0.238320</td>\n",
       "    </tr>\n",
       "    <tr>\n",
       "      <th>4</th>\n",
       "      <td>0.289524</td>\n",
       "      <td>-99.254789</td>\n",
       "      <td>1.295104</td>\n",
       "      <td>-0.003043</td>\n",
       "      <td>0.418</td>\n",
       "      <td>0.236</td>\n",
       "      <td>0.080</td>\n",
       "      <td>0.059</td>\n",
       "      <td>0.412071</td>\n",
       "      <td>0.587929</td>\n",
       "      <td>...</td>\n",
       "      <td>0.068</td>\n",
       "      <td>0.262227</td>\n",
       "      <td>0.234131</td>\n",
       "      <td>0.123829</td>\n",
       "      <td>0.138398</td>\n",
       "      <td>0.241415</td>\n",
       "      <td>0.744721</td>\n",
       "      <td>-0.773085</td>\n",
       "      <td>0.860736</td>\n",
       "      <td>-0.665551</td>\n",
       "    </tr>\n",
       "  </tbody>\n",
       "</table>\n",
       "<p>5 rows × 50 columns</p>\n",
       "</div>"
      ],
      "text/plain": [
       "   MM_Intercept     MM_Hess  average_peak_magnitude  average_peak_curvature  \\\n",
       "0      0.505831    3.734294                1.254882               -0.003140   \n",
       "1      0.154855  -90.618525                1.082626               -0.002968   \n",
       "2     -0.381763 -108.664622               -0.051024               -0.001874   \n",
       "3     -0.024115  -51.478291                0.385727               -0.002211   \n",
       "4      0.289524  -99.254789                1.295104               -0.003043   \n",
       "\n",
       "   hmm2_mean.1  hmm2_mean.2  hmm2_sd.1  hmm2_sd.2   hmm2_p1   hmm2_p2  ...  \\\n",
       "0        0.394        0.253      0.073      0.048  0.315457  0.684543  ...   \n",
       "1        0.224        0.442      0.029      0.149  0.590447  0.409553  ...   \n",
       "2        0.126        0.261      0.022      0.090  0.470644  0.529356  ...   \n",
       "3        0.308        0.171      0.059      0.031  0.423729  0.576271  ...   \n",
       "4        0.418        0.236      0.080      0.059  0.412071  0.587929  ...   \n",
       "\n",
       "   hmm5_sd.5   hmm5_p1   hmm5_p2   hmm5_p3   hmm5_p4   hmm5_p5   dis_sum  \\\n",
       "0      0.067  0.194532  0.219769  0.256572  0.170347  0.158780 -0.028934   \n",
       "1      0.153  0.149390  0.257114  0.183943  0.295732  0.113821  0.702254   \n",
       "2      0.091  0.129735  0.188447  0.133523  0.357008  0.191288 -0.607236   \n",
       "3      0.048  0.095450  0.329170  0.116860  0.266726  0.191793 -0.005279   \n",
       "4      0.068  0.262227  0.234131  0.123829  0.138398  0.241415  0.744721   \n",
       "\n",
       "   angle_sum  average_speed  idle_time  \n",
       "0  -0.094611       0.049350  -0.523141  \n",
       "1  -0.037036       0.819298  -0.665551  \n",
       "2  -0.624665      -1.338644   0.616143  \n",
       "3   3.196325       0.130691  -0.238320  \n",
       "4  -0.773085       0.860736  -0.665551  \n",
       "\n",
       "[5 rows x 50 columns]"
      ]
     },
     "execution_count": 7,
     "metadata": {},
     "output_type": "execute_result"
    }
   ],
   "source": [
    "all_Zscored_scale_explanatory_variables_t12.head()"
   ]
  },
  {
   "cell_type": "markdown",
   "id": "6e4d3dc7",
   "metadata": {},
   "source": [
    "# Working with Coordinate data"
   ]
  },
  {
   "cell_type": "markdown",
   "id": "a0111a00",
   "metadata": {},
   "source": [
    "## Obtaining learning algorithms interpretation based on Local Interpretable agnostic Explanation (Lime) methods"
   ]
  },
  {
   "cell_type": "markdown",
   "id": "14b80d45",
   "metadata": {},
   "source": [
    "Based on the best model select using leave one out cross validation, we are going to check the local interpretation of this algorithm"
   ]
  },
  {
   "cell_type": "markdown",
   "id": "21774470",
   "metadata": {},
   "source": [
    "### Coordinate data Trial 1"
   ]
  },
  {
   "cell_type": "code",
   "execution_count": 10,
   "id": "cfdf9d53",
   "metadata": {},
   "outputs": [],
   "source": [
    "selected_columns_m5 = ['MM_Intercept', 'MM_Hess', 'average_peak_magnitude', \n",
    "                       'average_peak_curvature', 'hmm5_mean.1',\n",
    "                       'hmm5_mean.2', 'hmm5_mean.3', 'hmm5_mean.4', 'hmm5_mean.5', 'hmm5_sd.1',\n",
    "                       'hmm5_sd.2', 'hmm5_sd.3', 'hmm5_sd.4', 'hmm5_sd.5', 'hmm5_p1',\n",
    "                       'hmm5_p2', 'hmm5_p3', 'hmm5_p4', 'dis_sum', 'angle_sum', 'average_speed', 'idle_time']\n",
    "selected_columns_m5_array = [elem in selected_columns_m5 for elem in all_Zscored_scale_explanatory_variables_t1.columns]"
   ]
  },
  {
   "cell_type": "code",
   "execution_count": 11,
   "id": "23a5ba1a",
   "metadata": {},
   "outputs": [],
   "source": [
    "all_Zscored_scale_explanatory_variables_t1_m5 = all_Zscored_scale_explanatory_variables_t1[selected_columns_m5]"
   ]
  },
  {
   "cell_type": "code",
   "execution_count": 25,
   "id": "e4ab09e8",
   "metadata": {},
   "outputs": [
    {
     "data": {
      "text/plain": [
       "22"
      ]
     },
     "execution_count": 25,
     "metadata": {},
     "output_type": "execute_result"
    }
   ],
   "source": [
    "len(all_Zscored_scale_explanatory_variables_t1_m5.columns)"
   ]
  },
  {
   "cell_type": "code",
   "execution_count": 41,
   "id": "46494415",
   "metadata": {},
   "outputs": [
    {
     "name": "stderr",
     "output_type": "stream",
     "text": [
      "2023-06-19 21:16:40.532071: I tensorflow/core/grappler/optimizers/custom_graph_optimizer_registry.cc:113] Plugin optimizer for device_type GPU is enabled.\n"
     ]
    },
    {
     "name": "stdout",
     "output_type": "stream",
     "text": [
      "1/1 [==============================] - 0s 146ms/step\n"
     ]
    },
    {
     "name": "stderr",
     "output_type": "stream",
     "text": [
      "2023-06-19 21:16:48.283711: I tensorflow/core/grappler/optimizers/custom_graph_optimizer_registry.cc:113] Plugin optimizer for device_type GPU is enabled.\n"
     ]
    },
    {
     "name": "stdout",
     "output_type": "stream",
     "text": [
      "[ 4.30807440e-01 -9.24070136e+00  8.99260658e-01 -2.41101390e-03\n",
      "  2.17000000e-01  4.00000000e-01  3.05000000e-01  1.72000000e-01\n",
      "  2.58000000e-01  1.10000000e-02  5.80000000e-02  1.60000000e-02\n",
      "  2.40000000e-02  1.20000000e-02  1.80842912e-01  2.40996169e-01\n",
      "  2.43103448e-01  1.44827586e-01  3.37481092e-02 -1.02561772e+00\n",
      " -7.78047038e-01  5.09588943e-01]\n",
      "157/157 [==============================] - 1s 3ms/step\n"
     ]
    },
    {
     "name": "stderr",
     "output_type": "stream",
     "text": [
      "2023-06-19 21:16:55.610744: I tensorflow/core/grappler/optimizers/custom_graph_optimizer_registry.cc:113] Plugin optimizer for device_type GPU is enabled.\n"
     ]
    },
    {
     "name": "stdout",
     "output_type": "stream",
     "text": [
      "1/1 [==============================] - 0s 182ms/step\n"
     ]
    },
    {
     "name": "stderr",
     "output_type": "stream",
     "text": [
      "2023-06-19 21:17:02.581831: I tensorflow/core/grappler/optimizers/custom_graph_optimizer_registry.cc:113] Plugin optimizer for device_type GPU is enabled.\n"
     ]
    },
    {
     "name": "stdout",
     "output_type": "stream",
     "text": [
      "[ 3.79725694e-01 -2.82952710e+01  9.94678839e-01 -2.63676001e-03\n",
      "  4.51000000e-01  2.12000000e-01  3.24000000e-01  1.42000000e-01\n",
      "  2.60000000e-01  1.12000000e-01  1.60000000e-02  2.30000000e-02\n",
      "  2.60000000e-02  1.50000000e-02  1.56503281e-01  2.14781937e-01\n",
      "  2.82709379e-01  1.38556542e-01  2.53316852e-01 -7.66741112e-02\n",
      " -7.80177303e-02 -5.83367813e-01]\n",
      "157/157 [==============================] - 1s 4ms/step\n"
     ]
    },
    {
     "name": "stderr",
     "output_type": "stream",
     "text": [
      "2023-06-19 21:17:06.945925: I tensorflow/core/grappler/optimizers/custom_graph_optimizer_registry.cc:113] Plugin optimizer for device_type GPU is enabled.\n"
     ]
    },
    {
     "name": "stdout",
     "output_type": "stream",
     "text": [
      "1/1 [==============================] - 0s 173ms/step\n"
     ]
    },
    {
     "name": "stderr",
     "output_type": "stream",
     "text": [
      "2023-06-19 21:17:13.837693: I tensorflow/core/grappler/optimizers/custom_graph_optimizer_registry.cc:113] Plugin optimizer for device_type GPU is enabled.\n"
     ]
    },
    {
     "name": "stdout",
     "output_type": "stream",
     "text": [
      "[-1.90529915e-01  3.03955580e+01  9.67082939e-02 -2.20959557e-03\n",
      "  2.26000000e-01  1.06000000e-01  3.22000000e-01  1.79000000e-01\n",
      "  1.48000000e-01  1.80000000e-02  1.60000000e-02  6.00000000e-02\n",
      "  1.00000000e-02  9.00000000e-03  2.29290794e-01  1.81818182e-01\n",
      "  1.79896214e-01  2.10455506e-01  1.54092899e-01 -7.34181445e-01\n",
      " -4.60114835e-01 -1.62999830e-01]\n",
      "157/157 [==============================] - 1s 3ms/step\n"
     ]
    },
    {
     "name": "stderr",
     "output_type": "stream",
     "text": [
      "2023-06-19 21:17:18.090553: I tensorflow/core/grappler/optimizers/custom_graph_optimizer_registry.cc:113] Plugin optimizer for device_type GPU is enabled.\n"
     ]
    },
    {
     "name": "stdout",
     "output_type": "stream",
     "text": [
      "1/1 [==============================] - 0s 158ms/step\n"
     ]
    },
    {
     "name": "stderr",
     "output_type": "stream",
     "text": [
      "2023-06-19 21:17:24.903600: I tensorflow/core/grappler/optimizers/custom_graph_optimizer_registry.cc:113] Plugin optimizer for device_type GPU is enabled.\n"
     ]
    },
    {
     "name": "stdout",
     "output_type": "stream",
     "text": [
      "[ 1.83484386e-02  1.10942289e+01  1.67587390e-01 -1.76581767e-03\n",
      "  1.92000000e-01  3.01000000e-01  2.32000000e-01  1.58000000e-01\n",
      "  1.13000000e-01  1.10000000e-02  3.60000000e-02  1.40000000e-02\n",
      "  9.00000000e-03  2.20000000e-02  1.90485362e-01  2.08397535e-01\n",
      "  2.14175655e-01  2.24576271e-01  1.58903428e-01  5.64604055e-01\n",
      " -9.44011853e-02 -2.47073427e-01]\n",
      "157/157 [==============================] - 1s 3ms/step\n"
     ]
    },
    {
     "name": "stderr",
     "output_type": "stream",
     "text": [
      "2023-06-19 21:17:29.089500: I tensorflow/core/grappler/optimizers/custom_graph_optimizer_registry.cc:113] Plugin optimizer for device_type GPU is enabled.\n"
     ]
    },
    {
     "name": "stdout",
     "output_type": "stream",
     "text": [
      "1/1 [==============================] - 0s 153ms/step\n"
     ]
    },
    {
     "name": "stderr",
     "output_type": "stream",
     "text": [
      "2023-06-19 21:17:35.810783: I tensorflow/core/grappler/optimizers/custom_graph_optimizer_registry.cc:113] Plugin optimizer for device_type GPU is enabled.\n"
     ]
    },
    {
     "name": "stdout",
     "output_type": "stream",
     "text": [
      "[ 7.38627598e-01 -3.16420529e+01  1.50502637e+00 -2.93903201e-03\n",
      "  3.63000000e-01  4.96000000e-01  1.91000000e-01  2.97000000e-01\n",
      "  2.50000000e-01  2.40000000e-02  7.50000000e-02  2.80000000e-02\n",
      "  1.50000000e-02  1.40000000e-02  2.37708091e-01  2.52226094e-01\n",
      "  1.11691831e-01  2.55516841e-01  1.53167574e-02  7.47200191e-01\n",
      " -3.04366697e-01  2.57368153e-01]\n",
      "157/157 [==============================] - 1s 3ms/step\n"
     ]
    },
    {
     "name": "stderr",
     "output_type": "stream",
     "text": [
      "2023-06-19 21:17:40.924600: I tensorflow/core/grappler/optimizers/custom_graph_optimizer_registry.cc:113] Plugin optimizer for device_type GPU is enabled.\n"
     ]
    },
    {
     "name": "stdout",
     "output_type": "stream",
     "text": [
      "1/1 [==============================] - 0s 141ms/step\n"
     ]
    },
    {
     "name": "stderr",
     "output_type": "stream",
     "text": [
      "2023-06-19 21:17:47.539327: I tensorflow/core/grappler/optimizers/custom_graph_optimizer_registry.cc:113] Plugin optimizer for device_type GPU is enabled.\n"
     ]
    },
    {
     "name": "stdout",
     "output_type": "stream",
     "text": [
      "[-1.39688914e-01  3.10708425e+01  2.86968760e-01 -2.56743074e-03\n",
      "  3.47000000e-01  2.42000000e-01  1.93000000e-01  1.49000000e-01\n",
      "  1.04000000e-01  6.00000000e-02  1.60000000e-02  1.40000000e-02\n",
      "  1.00000000e-02  2.00000000e-02  2.13372093e-01  1.93798450e-01\n",
      "  2.22480620e-01  1.86240310e-01  2.96803272e-01  4.21285072e-01\n",
      "  1.84330657e-01 -6.67441410e-01]\n",
      "157/157 [==============================] - 1s 3ms/step\n"
     ]
    },
    {
     "name": "stderr",
     "output_type": "stream",
     "text": [
      "2023-06-19 21:17:51.739886: I tensorflow/core/grappler/optimizers/custom_graph_optimizer_registry.cc:113] Plugin optimizer for device_type GPU is enabled.\n"
     ]
    },
    {
     "name": "stdout",
     "output_type": "stream",
     "text": [
      "1/1 [==============================] - 0s 141ms/step\n"
     ]
    },
    {
     "name": "stderr",
     "output_type": "stream",
     "text": [
      "2023-06-19 21:17:58.548204: I tensorflow/core/grappler/optimizers/custom_graph_optimizer_registry.cc:113] Plugin optimizer for device_type GPU is enabled.\n"
     ]
    },
    {
     "name": "stdout",
     "output_type": "stream",
     "text": [
      "[ 1.45505238e+00 -3.80190601e+01  2.32149146e+00 -3.09322108e-03\n",
      "  4.83000000e-01  2.89000000e-01  4.27000000e-01  3.75000000e-01\n",
      "  6.21000000e-01  2.50000000e-02  3.80000000e-02  1.20000000e-02\n",
      "  1.80000000e-02  7.50000000e-02  1.73996914e-01  2.56751543e-01\n",
      "  1.71489198e-01  1.78240741e-01  3.73697883e-02 -3.94855871e-02\n",
      " -7.54007995e-01  4.25515346e-01]\n",
      "157/157 [==============================] - 1s 3ms/step\n"
     ]
    },
    {
     "name": "stderr",
     "output_type": "stream",
     "text": [
      "2023-06-19 21:18:02.743530: I tensorflow/core/grappler/optimizers/custom_graph_optimizer_registry.cc:113] Plugin optimizer for device_type GPU is enabled.\n"
     ]
    },
    {
     "name": "stdout",
     "output_type": "stream",
     "text": [
      "1/1 [==============================] - 0s 125ms/step\n"
     ]
    },
    {
     "name": "stderr",
     "output_type": "stream",
     "text": [
      "2023-06-19 21:18:09.234533: I tensorflow/core/grappler/optimizers/custom_graph_optimizer_registry.cc:113] Plugin optimizer for device_type GPU is enabled.\n"
     ]
    },
    {
     "name": "stdout",
     "output_type": "stream",
     "text": [
      "[ 1.08496982e-01 -2.44744750e+00  4.30934730e-01 -2.11562577e-03\n",
      "  1.46000000e-01  1.88000000e-01  2.40000000e-01  3.47000000e-01\n",
      "  1.04000000e-01  1.10000000e-02  1.40000000e-02  1.80000000e-02\n",
      "  5.60000000e-02  1.50000000e-02  1.89012678e-01  1.90741452e-01\n",
      "  2.57011141e-01  2.19170188e-01  2.51287338e-01 -8.50750290e-01\n",
      " -1.29712265e-01 -4.99294217e-01]\n",
      "157/157 [==============================] - 1s 3ms/step\n"
     ]
    },
    {
     "name": "stderr",
     "output_type": "stream",
     "text": [
      "2023-06-19 21:18:13.387286: I tensorflow/core/grappler/optimizers/custom_graph_optimizer_registry.cc:113] Plugin optimizer for device_type GPU is enabled.\n"
     ]
    },
    {
     "name": "stdout",
     "output_type": "stream",
     "text": [
      "1/1 [==============================] - 0s 125ms/step\n"
     ]
    },
    {
     "name": "stderr",
     "output_type": "stream",
     "text": [
      "2023-06-19 21:18:19.798019: I tensorflow/core/grappler/optimizers/custom_graph_optimizer_registry.cc:113] Plugin optimizer for device_type GPU is enabled.\n"
     ]
    },
    {
     "name": "stdout",
     "output_type": "stream",
     "text": [
      "[ 9.84727219e-02 -2.26923606e+01  4.01566090e-01 -1.97910509e-03\n",
      "  4.39000000e-01  1.70000000e-01  2.22000000e-01  1.14000000e-01\n",
      "  2.95000000e-01  1.08000000e-01  1.10000000e-02  1.80000000e-02\n",
      "  2.30000000e-02  2.50000000e-02  8.00000000e-02  2.13719807e-01\n",
      "  3.03768116e-01  1.38743961e-01  2.89618395e-01  1.50952307e-01\n",
      "  1.64623052e-01 -6.67441410e-01]\n",
      "157/157 [==============================] - 1s 3ms/step\n"
     ]
    },
    {
     "name": "stderr",
     "output_type": "stream",
     "text": [
      "2023-06-19 21:18:24.806500: I tensorflow/core/grappler/optimizers/custom_graph_optimizer_registry.cc:113] Plugin optimizer for device_type GPU is enabled.\n"
     ]
    },
    {
     "name": "stdout",
     "output_type": "stream",
     "text": [
      "1/1 [==============================] - 0s 152ms/step\n"
     ]
    },
    {
     "name": "stderr",
     "output_type": "stream",
     "text": [
      "2023-06-19 21:18:31.763312: I tensorflow/core/grappler/optimizers/custom_graph_optimizer_registry.cc:113] Plugin optimizer for device_type GPU is enabled.\n"
     ]
    },
    {
     "name": "stdout",
     "output_type": "stream",
     "text": [
      "[ 0.84660862 -2.74527461  1.71104439 -0.00336052  0.574       0.272\n",
      "  0.424       0.2         0.337       0.097       0.018       0.031\n",
      "  0.037       0.02        0.15537541  0.1835553   0.25130284  0.16348195\n",
      " -0.73092836  0.35234535  0.03379431  3.03179684]\n",
      "157/157 [==============================] - 1s 3ms/step\n"
     ]
    },
    {
     "name": "stderr",
     "output_type": "stream",
     "text": [
      "2023-06-19 21:18:35.953675: I tensorflow/core/grappler/optimizers/custom_graph_optimizer_registry.cc:113] Plugin optimizer for device_type GPU is enabled.\n"
     ]
    },
    {
     "name": "stdout",
     "output_type": "stream",
     "text": [
      "1/1 [==============================] - 0s 151ms/step\n"
     ]
    },
    {
     "name": "stderr",
     "output_type": "stream",
     "text": [
      "2023-06-19 21:18:42.507898: I tensorflow/core/grappler/optimizers/custom_graph_optimizer_registry.cc:113] Plugin optimizer for device_type GPU is enabled.\n"
     ]
    },
    {
     "name": "stdout",
     "output_type": "stream",
     "text": [
      "[-3.61397562e-01 -4.15890796e+01 -5.29867300e-02 -1.92704749e-03\n",
      "  1.47000000e-01  3.33000000e-01  1.10000000e-01  6.80000000e-02\n",
      "  1.97000000e-01  1.20000000e-02  8.90000000e-02  1.00000000e-02\n",
      "  1.80000000e-02  1.80000000e-02  2.03402939e-01  2.21771075e-01\n",
      "  1.62026295e-01  1.69760247e-01  2.30944750e-01  9.79258200e-02\n",
      " -2.63599212e-01 -4.15220620e-01]\n",
      "157/157 [==============================] - 1s 3ms/step\n"
     ]
    },
    {
     "name": "stderr",
     "output_type": "stream",
     "text": [
      "2023-06-19 21:18:46.812548: I tensorflow/core/grappler/optimizers/custom_graph_optimizer_registry.cc:113] Plugin optimizer for device_type GPU is enabled.\n"
     ]
    },
    {
     "name": "stdout",
     "output_type": "stream",
     "text": [
      "1/1 [==============================] - 0s 129ms/step\n"
     ]
    },
    {
     "name": "stderr",
     "output_type": "stream",
     "text": [
      "2023-06-19 21:18:53.357994: I tensorflow/core/grappler/optimizers/custom_graph_optimizer_registry.cc:113] Plugin optimizer for device_type GPU is enabled.\n"
     ]
    },
    {
     "name": "stdout",
     "output_type": "stream",
     "text": [
      "[-1.65063897e-01  7.23396035e+00  2.55201258e-02 -1.85655668e-03\n",
      "  3.00000000e-01  2.27000000e-01  1.79000000e-01  1.39000000e-01\n",
      "  8.90000000e-02  4.20000000e-02  1.50000000e-02  1.20000000e-02\n",
      "  1.10000000e-02  2.10000000e-02  1.86611037e-01  1.60250332e-01\n",
      "  1.97231178e-01  2.28901953e-01  2.93670337e-01  6.88556421e-01\n",
      "  1.72262378e-01 -6.67441410e-01]\n",
      "157/157 [==============================] - 1s 3ms/step\n"
     ]
    },
    {
     "name": "stderr",
     "output_type": "stream",
     "text": [
      "2023-06-19 21:18:58.197344: I tensorflow/core/grappler/optimizers/custom_graph_optimizer_registry.cc:113] Plugin optimizer for device_type GPU is enabled.\n"
     ]
    },
    {
     "name": "stdout",
     "output_type": "stream",
     "text": [
      "1/1 [==============================] - 0s 130ms/step\n"
     ]
    },
    {
     "name": "stderr",
     "output_type": "stream",
     "text": [
      "2023-06-19 21:19:04.849957: I tensorflow/core/grappler/optimizers/custom_graph_optimizer_registry.cc:113] Plugin optimizer for device_type GPU is enabled.\n"
     ]
    },
    {
     "name": "stdout",
     "output_type": "stream",
     "text": [
      "[ 5.73625297e-01 -2.00918214e+01  9.55810565e-01 -2.15505284e-03\n",
      "  4.78000000e-01  3.51000000e-01  1.74000000e-01  2.86000000e-01\n",
      "  2.37000000e-01  6.70000000e-02  2.00000000e-02  3.20000000e-02\n",
      "  1.60000000e-02  1.40000000e-02  1.41153846e-01  2.22115385e-01\n",
      "  2.00961538e-01  2.22692308e-01  1.02714691e-01 -3.86625019e-01\n",
      " -5.96243976e-01  8.92209597e-02]\n",
      "157/157 [==============================] - 1s 3ms/step\n"
     ]
    },
    {
     "name": "stderr",
     "output_type": "stream",
     "text": [
      "2023-06-19 21:19:09.102233: I tensorflow/core/grappler/optimizers/custom_graph_optimizer_registry.cc:113] Plugin optimizer for device_type GPU is enabled.\n"
     ]
    },
    {
     "name": "stdout",
     "output_type": "stream",
     "text": [
      "1/1 [==============================] - 0s 142ms/step\n"
     ]
    },
    {
     "name": "stderr",
     "output_type": "stream",
     "text": [
      "2023-06-19 21:19:15.825261: I tensorflow/core/grappler/optimizers/custom_graph_optimizer_registry.cc:113] Plugin optimizer for device_type GPU is enabled.\n"
     ]
    },
    {
     "name": "stdout",
     "output_type": "stream",
     "text": [
      "[-4.71353552e-01 -3.60404358e+00 -2.57572146e-01 -1.87594912e-03\n",
      "  1.07000000e-01  1.40000000e-01  3.32000000e-01  7.10000000e-02\n",
      "  1.88000000e-01  9.00000000e-03  1.00000000e-02  1.15000000e-01\n",
      "  1.30000000e-02  2.10000000e-02  2.60642415e-01  2.36842105e-01\n",
      "  1.19582043e-01  1.24613003e-01 -2.81231137e-02 -2.42221190e-01\n",
      " -4.21394463e-01  3.41441749e-01]\n",
      "157/157 [==============================] - 1s 3ms/step\n"
     ]
    },
    {
     "name": "stderr",
     "output_type": "stream",
     "text": [
      "2023-06-19 21:19:20.027839: I tensorflow/core/grappler/optimizers/custom_graph_optimizer_registry.cc:113] Plugin optimizer for device_type GPU is enabled.\n"
     ]
    },
    {
     "name": "stdout",
     "output_type": "stream",
     "text": [
      "1/1 [==============================] - 0s 140ms/step\n"
     ]
    },
    {
     "name": "stderr",
     "output_type": "stream",
     "text": [
      "2023-06-19 21:19:26.476334: I tensorflow/core/grappler/optimizers/custom_graph_optimizer_registry.cc:113] Plugin optimizer for device_type GPU is enabled.\n"
     ]
    },
    {
     "name": "stdout",
     "output_type": "stream",
     "text": [
      "[-5.54498577e-01  3.98080508e+01 -6.33196190e-01 -1.32033506e-03\n",
      "  1.15000000e-01  5.90000000e-02  8.80000000e-02  1.43000000e-01\n",
      "  1.95000000e-01  8.00000000e-03  1.20000000e-02  7.00000000e-03\n",
      "  8.00000000e-03  3.10000000e-02  2.46429950e-01  2.06676959e-01\n",
      "  1.96063296e-01  2.03975299e-01  2.30507873e-01  1.79166600e+00\n",
      " -2.15434038e-01 -4.15220620e-01]\n",
      "157/157 [==============================] - 1s 3ms/step\n"
     ]
    },
    {
     "name": "stderr",
     "output_type": "stream",
     "text": [
      "2023-06-19 21:19:30.623766: I tensorflow/core/grappler/optimizers/custom_graph_optimizer_registry.cc:113] Plugin optimizer for device_type GPU is enabled.\n"
     ]
    },
    {
     "name": "stdout",
     "output_type": "stream",
     "text": [
      "1/1 [==============================] - 0s 130ms/step\n"
     ]
    },
    {
     "name": "stderr",
     "output_type": "stream",
     "text": [
      "2023-06-19 21:19:37.113643: I tensorflow/core/grappler/optimizers/custom_graph_optimizer_registry.cc:113] Plugin optimizer for device_type GPU is enabled.\n"
     ]
    },
    {
     "name": "stdout",
     "output_type": "stream",
     "text": [
      "[ 4.07912703e-01 -5.67237880e+00  8.58771883e-01 -2.39160043e-03\n",
      "  3.90000000e-01  1.53000000e-01  2.05000000e-01  2.85000000e-01\n",
      "  2.44000000e-01  7.30000000e-02  2.00000000e-02  1.30000000e-02\n",
      "  1.40000000e-02  1.00000000e-02  2.96267795e-01  1.46594844e-01\n",
      "  1.52173913e-01  2.29318969e-01 -5.83989030e-01 -5.35426860e-01\n",
      " -9.64619707e-01  2.35920807e+00]\n",
      "157/157 [==============================] - 1s 3ms/step\n"
     ]
    },
    {
     "name": "stderr",
     "output_type": "stream",
     "text": [
      "2023-06-19 21:19:41.323714: I tensorflow/core/grappler/optimizers/custom_graph_optimizer_registry.cc:113] Plugin optimizer for device_type GPU is enabled.\n"
     ]
    },
    {
     "name": "stdout",
     "output_type": "stream",
     "text": [
      "1/1 [==============================] - 0s 129ms/step\n"
     ]
    },
    {
     "name": "stderr",
     "output_type": "stream",
     "text": [
      "2023-06-19 21:19:47.727598: I tensorflow/core/grappler/optimizers/custom_graph_optimizer_registry.cc:113] Plugin optimizer for device_type GPU is enabled.\n"
     ]
    },
    {
     "name": "stdout",
     "output_type": "stream",
     "text": [
      "[ 3.58527677e-01 -2.08523251e+01  9.62007746e-01 -2.65501565e-03\n",
      "  1.57000000e-01  2.55000000e-01  2.16000000e-01  3.15000000e-01\n",
      "  4.24000000e-01  2.80000000e-02  1.20000000e-02  1.20000000e-02\n",
      "  2.20000000e-02  5.40000000e-02  1.51016457e-01  2.17424976e-01\n",
      "  1.90513069e-01  2.20329138e-01  2.47610644e-01  3.57955188e-01\n",
      " -6.44157521e-02 -5.83367813e-01]\n",
      "157/157 [==============================] - 1s 3ms/step\n"
     ]
    },
    {
     "name": "stderr",
     "output_type": "stream",
     "text": [
      "2023-06-19 21:19:52.738977: I tensorflow/core/grappler/optimizers/custom_graph_optimizer_registry.cc:113] Plugin optimizer for device_type GPU is enabled.\n"
     ]
    },
    {
     "name": "stdout",
     "output_type": "stream",
     "text": [
      "1/1 [==============================] - 0s 139ms/step\n"
     ]
    },
    {
     "name": "stderr",
     "output_type": "stream",
     "text": [
      "2023-06-19 21:19:59.373289: I tensorflow/core/grappler/optimizers/custom_graph_optimizer_registry.cc:113] Plugin optimizer for device_type GPU is enabled.\n"
     ]
    },
    {
     "name": "stdout",
     "output_type": "stream",
     "text": [
      "[ 1.75789990e-01  3.39760680e+00  5.55594929e-01 -2.36199874e-03\n",
      "  1.57000000e-01  2.42000000e-01  3.26000000e-01  1.95000000e-01\n",
      "  9.20000000e-02  1.20000000e-02  1.60000000e-02  4.80000000e-02\n",
      "  1.10000000e-02  3.50000000e-02  2.19672131e-01  2.27322404e-01\n",
      "  2.57923497e-01  1.75956284e-01 -1.62997294e+00 -1.41787288e+00\n",
      "  1.74603557e+00 -5.83367813e-01]\n",
      "157/157 [==============================] - 1s 3ms/step\n"
     ]
    },
    {
     "name": "stderr",
     "output_type": "stream",
     "text": [
      "2023-06-19 21:20:03.660537: I tensorflow/core/grappler/optimizers/custom_graph_optimizer_registry.cc:113] Plugin optimizer for device_type GPU is enabled.\n"
     ]
    },
    {
     "name": "stdout",
     "output_type": "stream",
     "text": [
      "1/1 [==============================] - 0s 186ms/step\n"
     ]
    },
    {
     "name": "stderr",
     "output_type": "stream",
     "text": [
      "2023-06-19 21:20:11.396871: I tensorflow/core/grappler/optimizers/custom_graph_optimizer_registry.cc:113] Plugin optimizer for device_type GPU is enabled.\n"
     ]
    },
    {
     "name": "stdout",
     "output_type": "stream",
     "text": [
      "[ 3.83147094e-01 -8.85337139e+01  1.41738131e+00 -3.28772509e-03\n",
      "  2.03000000e-01  1.50000000e-01  3.53000000e-01  2.73000000e-01\n",
      "  4.99000000e-01  1.60000000e-02  1.90000000e-02  2.10000000e-02\n",
      "  2.30000000e-02  9.80000000e-02  1.99532953e-01  2.02906072e-01\n",
      "  1.67099118e-01  2.44940322e-01 -5.37773137e-01  5.35508393e-01\n",
      "  8.08787396e-01 -8.35588603e-01]\n",
      "157/157 [==============================] - 1s 3ms/step\n"
     ]
    },
    {
     "name": "stderr",
     "output_type": "stream",
     "text": [
      "2023-06-19 21:20:15.767723: I tensorflow/core/grappler/optimizers/custom_graph_optimizer_registry.cc:113] Plugin optimizer for device_type GPU is enabled.\n"
     ]
    },
    {
     "name": "stdout",
     "output_type": "stream",
     "text": [
      "1/1 [==============================] - 0s 139ms/step\n"
     ]
    },
    {
     "name": "stderr",
     "output_type": "stream",
     "text": [
      "2023-06-19 21:20:22.473073: I tensorflow/core/grappler/optimizers/custom_graph_optimizer_registry.cc:113] Plugin optimizer for device_type GPU is enabled.\n"
     ]
    },
    {
     "name": "stdout",
     "output_type": "stream",
     "text": [
      "[ 1.16155966e+00 -1.98028486e+01  2.15914888e+00 -3.70867501e-03\n",
      "  5.63000000e-01  2.11000000e-01  3.32000000e-01  2.82000000e-01\n",
      "  4.07000000e-01  1.08000000e-01  3.20000000e-02  1.60000000e-02\n",
      "  1.50000000e-02  2.80000000e-02  1.84741570e-01  1.86954824e-01\n",
      "  1.85522718e-01  2.01926832e-01  1.69049278e+00  2.86208649e+00\n",
      " -1.37809527e-01 -8.35588603e-01]\n",
      "157/157 [==============================] - 1s 3ms/step\n"
     ]
    },
    {
     "name": "stderr",
     "output_type": "stream",
     "text": [
      "2023-06-19 21:20:26.732751: I tensorflow/core/grappler/optimizers/custom_graph_optimizer_registry.cc:113] Plugin optimizer for device_type GPU is enabled.\n"
     ]
    },
    {
     "name": "stdout",
     "output_type": "stream",
     "text": [
      "1/1 [==============================] - 0s 132ms/step\n"
     ]
    },
    {
     "name": "stderr",
     "output_type": "stream",
     "text": [
      "2023-06-19 21:20:33.144523: I tensorflow/core/grappler/optimizers/custom_graph_optimizer_registry.cc:113] Plugin optimizer for device_type GPU is enabled.\n"
     ]
    },
    {
     "name": "stdout",
     "output_type": "stream",
     "text": [
      "[-1.45352609e-02 -2.48781838e+00  8.02515329e-02 -1.64157749e-03\n",
      "  9.50000000e-02  1.89000000e-01  2.68000000e-01  1.54000000e-01\n",
      "  1.27000000e-01  1.30000000e-02  1.30000000e-02  5.10000000e-02\n",
      "  8.00000000e-03  8.00000000e-03  1.17973856e-01  2.05555556e-01\n",
      "  2.39869281e-01  2.33333333e-01 -1.63300036e+00 -1.22337113e+00\n",
      " -1.25813369e+00  2.61142886e+00]\n",
      "157/157 [==============================] - 1s 3ms/step\n"
     ]
    },
    {
     "name": "stderr",
     "output_type": "stream",
     "text": [
      "2023-06-19 21:20:38.199636: I tensorflow/core/grappler/optimizers/custom_graph_optimizer_registry.cc:113] Plugin optimizer for device_type GPU is enabled.\n"
     ]
    },
    {
     "name": "stdout",
     "output_type": "stream",
     "text": [
      "1/1 [==============================] - 0s 132ms/step\n"
     ]
    },
    {
     "name": "stderr",
     "output_type": "stream",
     "text": [
      "2023-06-19 21:20:44.950337: I tensorflow/core/grappler/optimizers/custom_graph_optimizer_registry.cc:113] Plugin optimizer for device_type GPU is enabled.\n"
     ]
    },
    {
     "name": "stdout",
     "output_type": "stream",
     "text": [
      "[-1.64694920e-01  1.40729713e+01 -7.85402948e-02 -1.71484904e-03\n",
      "  2.25000000e-01  1.65000000e-01  1.16000000e-01  9.00000000e-02\n",
      "  1.36000000e-01  2.80000000e-02  1.00000000e-02  5.00000000e-03\n",
      "  1.30000000e-02  6.00000000e-03  2.95021512e-01  2.23110018e-01\n",
      "  1.49354640e-01  1.84388445e-01 -1.79850600e+00 -9.23189268e-01\n",
      "  1.90874999e+00 -4.99294217e-01]\n",
      "157/157 [==============================] - 1s 3ms/step\n"
     ]
    },
    {
     "name": "stderr",
     "output_type": "stream",
     "text": [
      "2023-06-19 21:20:49.131580: I tensorflow/core/grappler/optimizers/custom_graph_optimizer_registry.cc:113] Plugin optimizer for device_type GPU is enabled.\n"
     ]
    },
    {
     "name": "stdout",
     "output_type": "stream",
     "text": [
      "1/1 [==============================] - 0s 144ms/step\n"
     ]
    },
    {
     "name": "stderr",
     "output_type": "stream",
     "text": [
      "2023-06-19 21:20:55.819960: I tensorflow/core/grappler/optimizers/custom_graph_optimizer_registry.cc:113] Plugin optimizer for device_type GPU is enabled.\n"
     ]
    },
    {
     "name": "stdout",
     "output_type": "stream",
     "text": [
      "[-1.11511688e-01 -7.47351035e+00  1.27649952e-01 -2.00094785e-03\n",
      "  1.69000000e-01  2.92000000e-01  1.06000000e-01  2.20000000e-01\n",
      "  1.34000000e-01  1.30000000e-02  4.90000000e-02  1.20000000e-02\n",
      "  1.50000000e-02  8.00000000e-03  2.42034943e-01  1.78314491e-01\n",
      "  1.36176773e-01  2.24049332e-01 -1.50450319e+00 -1.11333561e+00\n",
      "  3.23421306e+00 -8.35588603e-01]\n",
      "157/157 [==============================] - 1s 3ms/step\n"
     ]
    },
    {
     "name": "stderr",
     "output_type": "stream",
     "text": [
      "2023-06-19 21:21:00.189041: I tensorflow/core/grappler/optimizers/custom_graph_optimizer_registry.cc:113] Plugin optimizer for device_type GPU is enabled.\n"
     ]
    },
    {
     "name": "stdout",
     "output_type": "stream",
     "text": [
      "1/1 [==============================] - 0s 150ms/step\n"
     ]
    },
    {
     "name": "stderr",
     "output_type": "stream",
     "text": [
      "2023-06-19 21:21:07.092746: I tensorflow/core/grappler/optimizers/custom_graph_optimizer_registry.cc:113] Plugin optimizer for device_type GPU is enabled.\n"
     ]
    },
    {
     "name": "stdout",
     "output_type": "stream",
     "text": [
      "[ 1.94742118e-01 -1.16625655e+01  3.94967515e-01 -1.78889861e-03\n",
      "  2.01000000e-01  2.93000000e-01  1.34000000e-01  1.03000000e-01\n",
      "  1.63000000e-01  1.30000000e-02  3.80000000e-02  9.00000000e-03\n",
      "  1.30000000e-02  9.00000000e-03  2.55287009e-01  3.21752266e-01\n",
      "  1.31419940e-01  1.28398792e-01  5.33255753e-01 -1.57011828e-01\n",
      " -4.37376022e-01 -7.89262336e-02]\n",
      "157/157 [==============================] - 1s 4ms/step\n"
     ]
    },
    {
     "name": "stderr",
     "output_type": "stream",
     "text": [
      "2023-06-19 21:21:12.367773: I tensorflow/core/grappler/optimizers/custom_graph_optimizer_registry.cc:113] Plugin optimizer for device_type GPU is enabled.\n"
     ]
    },
    {
     "name": "stdout",
     "output_type": "stream",
     "text": [
      "1/1 [==============================] - 0s 139ms/step\n"
     ]
    },
    {
     "name": "stderr",
     "output_type": "stream",
     "text": [
      "2023-06-19 21:21:19.451936: I tensorflow/core/grappler/optimizers/custom_graph_optimizer_registry.cc:113] Plugin optimizer for device_type GPU is enabled.\n"
     ]
    },
    {
     "name": "stdout",
     "output_type": "stream",
     "text": [
      "[-6.60738475e-01  5.12304682e+01 -8.60922062e-01 -1.06599781e-03\n",
      "  6.80000000e-02  1.39000000e-01  1.03000000e-01  5.00000000e-02\n",
      "  8.50000000e-02  5.00000000e-03  1.80000000e-02  6.00000000e-03\n",
      "  7.00000000e-03  5.00000000e-03  2.01489612e-01  1.92277538e-01\n",
      "  2.05605645e-01  1.42689142e-01  1.62840555e-02  8.69725359e-01\n",
      " -3.97942493e-01 -7.89262336e-02]\n",
      "157/157 [==============================] - 1s 4ms/step\n"
     ]
    },
    {
     "name": "stderr",
     "output_type": "stream",
     "text": [
      "2023-06-19 21:21:25.076086: I tensorflow/core/grappler/optimizers/custom_graph_optimizer_registry.cc:113] Plugin optimizer for device_type GPU is enabled.\n"
     ]
    },
    {
     "name": "stdout",
     "output_type": "stream",
     "text": [
      "1/1 [==============================] - 0s 168ms/step\n"
     ]
    },
    {
     "name": "stderr",
     "output_type": "stream",
     "text": [
      "2023-06-19 21:21:32.102314: I tensorflow/core/grappler/optimizers/custom_graph_optimizer_registry.cc:113] Plugin optimizer for device_type GPU is enabled.\n"
     ]
    },
    {
     "name": "stdout",
     "output_type": "stream",
     "text": [
      "[ 1.25564385e-01  1.32015599e+01  3.48763988e-01 -2.03748084e-03\n",
      "  1.94000000e-01  1.10000000e-01  2.23000000e-01  2.96000000e-01\n",
      "  1.62000000e-01  7.00000000e-03  2.10000000e-02  1.10000000e-02\n",
      "  4.40000000e-02  1.20000000e-02  2.15204528e-01  1.60921019e-01\n",
      "  2.17134037e-01  2.20864420e-01  1.04760241e+00  1.41589080e+00\n",
      " -1.17535976e+00  1.51847210e+00]\n",
      "157/157 [==============================] - 1s 3ms/step\n"
     ]
    },
    {
     "name": "stderr",
     "output_type": "stream",
     "text": [
      "2023-06-19 21:21:36.778446: I tensorflow/core/grappler/optimizers/custom_graph_optimizer_registry.cc:113] Plugin optimizer for device_type GPU is enabled.\n"
     ]
    },
    {
     "name": "stdout",
     "output_type": "stream",
     "text": [
      "1/1 [==============================] - 0s 140ms/step\n"
     ]
    },
    {
     "name": "stderr",
     "output_type": "stream",
     "text": [
      "2023-06-19 21:21:43.594399: I tensorflow/core/grappler/optimizers/custom_graph_optimizer_registry.cc:113] Plugin optimizer for device_type GPU is enabled.\n"
     ]
    },
    {
     "name": "stdout",
     "output_type": "stream",
     "text": [
      "[-0.5468951   0.98102416 -0.5233336  -0.00152459  0.119       0.146\n",
      "  0.071       0.1         0.24        0.005       0.011       0.012\n",
      "  0.006       0.072       0.25507337  0.22916016  0.22260381  0.2007493\n",
      " -0.90711394 -0.0058223   0.16709429 -0.24707343]\n",
      "157/157 [==============================] - 1s 3ms/step\n"
     ]
    },
    {
     "name": "stderr",
     "output_type": "stream",
     "text": [
      "2023-06-19 21:21:47.852285: I tensorflow/core/grappler/optimizers/custom_graph_optimizer_registry.cc:113] Plugin optimizer for device_type GPU is enabled.\n"
     ]
    },
    {
     "name": "stdout",
     "output_type": "stream",
     "text": [
      "1/1 [==============================] - 0s 133ms/step\n"
     ]
    },
    {
     "name": "stderr",
     "output_type": "stream",
     "text": [
      "2023-06-19 21:21:54.515474: I tensorflow/core/grappler/optimizers/custom_graph_optimizer_registry.cc:113] Plugin optimizer for device_type GPU is enabled.\n"
     ]
    },
    {
     "name": "stdout",
     "output_type": "stream",
     "text": [
      "[-3.02840872e-01  1.86176424e+01  2.52987918e-02 -2.36369498e-03\n",
      "  1.23000000e-01  1.86000000e-01  1.51000000e-01  2.74000000e-01\n",
      "  8.50000000e-02  9.00000000e-03  1.30000000e-02  8.00000000e-03\n",
      "  7.20000000e-02  1.40000000e-02  1.51245552e-01  2.67539400e-01\n",
      "  2.06278597e-01  2.31952211e-01  1.50821184e+00 -5.38290990e-02\n",
      " -8.42295460e-01 -7.89262336e-02]\n",
      "157/157 [==============================] - 1s 3ms/step\n"
     ]
    },
    {
     "name": "stderr",
     "output_type": "stream",
     "text": [
      "2023-06-19 21:21:58.750690: I tensorflow/core/grappler/optimizers/custom_graph_optimizer_registry.cc:113] Plugin optimizer for device_type GPU is enabled.\n"
     ]
    },
    {
     "name": "stdout",
     "output_type": "stream",
     "text": [
      "1/1 [==============================] - 0s 142ms/step\n"
     ]
    },
    {
     "name": "stderr",
     "output_type": "stream",
     "text": [
      "2023-06-19 21:22:05.578166: I tensorflow/core/grappler/optimizers/custom_graph_optimizer_registry.cc:113] Plugin optimizer for device_type GPU is enabled.\n"
     ]
    },
    {
     "name": "stdout",
     "output_type": "stream",
     "text": [
      "[-7.97838854e-02  2.34013024e+01  1.43240032e-01 -2.10058389e-03\n",
      "  1.36000000e-01  1.66000000e-01  9.70000000e-02  2.63000000e-01\n",
      "  1.98000000e-01  1.00000000e-02  8.00000000e-03  1.50000000e-02\n",
      "  3.40000000e-02  1.20000000e-02  2.04397606e-01  2.36533958e-01\n",
      "  1.34790528e-01  2.11163154e-01  1.30876428e+00  1.73890802e+00\n",
      " -7.11037840e-01  5.14736306e-03]\n",
      "157/157 [==============================] - 1s 3ms/step\n"
     ]
    },
    {
     "name": "stderr",
     "output_type": "stream",
     "text": [
      "2023-06-19 21:22:10.696784: I tensorflow/core/grappler/optimizers/custom_graph_optimizer_registry.cc:113] Plugin optimizer for device_type GPU is enabled.\n"
     ]
    },
    {
     "name": "stdout",
     "output_type": "stream",
     "text": [
      "1/1 [==============================] - 0s 182ms/step\n"
     ]
    },
    {
     "name": "stderr",
     "output_type": "stream",
     "text": [
      "2023-06-19 21:22:17.682195: I tensorflow/core/grappler/optimizers/custom_graph_optimizer_registry.cc:113] Plugin optimizer for device_type GPU is enabled.\n"
     ]
    },
    {
     "name": "stdout",
     "output_type": "stream",
     "text": [
      "[-8.45845896e-02 -2.21700907e+01  2.25749212e-01 -2.09937579e-03\n",
      "  2.94000000e-01  1.88000000e-01  1.12000000e-01  1.55000000e-01\n",
      "  1.32000000e-01  6.70000000e-02  1.30000000e-02  9.00000000e-03\n",
      "  7.00000000e-03  6.00000000e-03  2.60397830e-01  2.75316456e-01\n",
      "  1.46473779e-01  1.66365280e-01 -1.32755906e+00 -8.63011007e-01\n",
      "  2.55456241e+00 -8.35588603e-01]\n",
      "157/157 [==============================] - 1s 3ms/step\n"
     ]
    },
    {
     "name": "stderr",
     "output_type": "stream",
     "text": [
      "2023-06-19 21:22:22.316821: I tensorflow/core/grappler/optimizers/custom_graph_optimizer_registry.cc:113] Plugin optimizer for device_type GPU is enabled.\n"
     ]
    },
    {
     "name": "stdout",
     "output_type": "stream",
     "text": [
      "1/1 [==============================] - 0s 176ms/step\n"
     ]
    },
    {
     "name": "stderr",
     "output_type": "stream",
     "text": [
      "2023-06-19 21:22:30.103845: I tensorflow/core/grappler/optimizers/custom_graph_optimizer_registry.cc:113] Plugin optimizer for device_type GPU is enabled.\n"
     ]
    },
    {
     "name": "stdout",
     "output_type": "stream",
     "text": [
      "[-9.26558972e-02  1.69876531e+01  1.25389111e-01 -2.05558689e-03\n",
      "  2.12000000e-01  1.04000000e-01  1.71000000e-01  2.79000000e-01\n",
      "  1.41000000e-01  1.40000000e-02  1.00000000e-02  9.00000000e-03\n",
      "  2.90000000e-02  1.00000000e-02  2.26661544e-01  1.51363811e-01\n",
      "  2.27045716e-01  2.29350749e-01 -1.48133402e+00 -8.86560701e-01\n",
      " -9.92580209e-01  1.60254570e+00]\n",
      "157/157 [==============================] - 1s 3ms/step\n"
     ]
    },
    {
     "name": "stderr",
     "output_type": "stream",
     "text": [
      "2023-06-19 21:22:34.399201: I tensorflow/core/grappler/optimizers/custom_graph_optimizer_registry.cc:113] Plugin optimizer for device_type GPU is enabled.\n"
     ]
    },
    {
     "name": "stdout",
     "output_type": "stream",
     "text": [
      "1/1 [==============================] - 0s 138ms/step\n"
     ]
    },
    {
     "name": "stderr",
     "output_type": "stream",
     "text": [
      "2023-06-19 21:22:41.693963: I tensorflow/core/grappler/optimizers/custom_graph_optimizer_registry.cc:113] Plugin optimizer for device_type GPU is enabled.\n"
     ]
    },
    {
     "name": "stdout",
     "output_type": "stream",
     "text": [
      "[-3.99849808e-01  4.27146737e+01 -4.69361601e-01 -1.39415131e-03\n",
      "  1.49000000e-01  1.96000000e-01  1.25000000e-01  1.05000000e-01\n",
      "  7.40000000e-02  8.00000000e-03  2.70000000e-02  6.00000000e-03\n",
      "  6.00000000e-03  1.70000000e-02  2.08460822e-01  1.66422775e-01\n",
      "  2.03538646e-01  2.26287083e-01  1.63487900e+00  1.23591178e+00\n",
      " -6.40184557e-01 -5.83367813e-01]\n",
      "157/157 [==============================] - 1s 3ms/step\n"
     ]
    },
    {
     "name": "stderr",
     "output_type": "stream",
     "text": [
      "2023-06-19 21:22:46.628789: I tensorflow/core/grappler/optimizers/custom_graph_optimizer_registry.cc:113] Plugin optimizer for device_type GPU is enabled.\n"
     ]
    },
    {
     "name": "stdout",
     "output_type": "stream",
     "text": [
      "1/1 [==============================] - 0s 191ms/step\n"
     ]
    },
    {
     "name": "stderr",
     "output_type": "stream",
     "text": [
      "2023-06-19 21:22:54.648969: I tensorflow/core/grappler/optimizers/custom_graph_optimizer_registry.cc:113] Plugin optimizer for device_type GPU is enabled.\n"
     ]
    },
    {
     "name": "stdout",
     "output_type": "stream",
     "text": [
      "[ 7.01669290e-01 -4.51546143e+01  1.55552944e+00 -3.12011445e-03\n",
      "  1.81000000e-01  4.53000000e-01  2.29000000e-01  3.38000000e-01\n",
      "  2.74000000e-01  1.50000000e-02  6.70000000e-02  1.40000000e-02\n",
      "  2.20000000e-02  1.40000000e-02  1.27253446e-01  2.59278897e-01\n",
      "  1.14528102e-01  3.20784730e-01 -1.74623837e+00 -1.63004956e+00\n",
      "  1.12183029e+00 -2.47073427e-01]\n",
      "157/157 [==============================] - 1s 4ms/step\n"
     ]
    },
    {
     "name": "stderr",
     "output_type": "stream",
     "text": [
      "2023-06-19 21:22:59.297500: I tensorflow/core/grappler/optimizers/custom_graph_optimizer_registry.cc:113] Plugin optimizer for device_type GPU is enabled.\n"
     ]
    },
    {
     "name": "stdout",
     "output_type": "stream",
     "text": [
      "1/1 [==============================] - 0s 186ms/step\n"
     ]
    },
    {
     "name": "stderr",
     "output_type": "stream",
     "text": [
      "2023-06-19 21:23:07.499171: I tensorflow/core/grappler/optimizers/custom_graph_optimizer_registry.cc:113] Plugin optimizer for device_type GPU is enabled.\n"
     ]
    },
    {
     "name": "stdout",
     "output_type": "stream",
     "text": [
      "[ 7.46420272e-01 -2.72561868e+01  1.27643784e+00 -2.53266900e-03\n",
      "  2.72000000e-01  4.45000000e-01  2.45000000e-01  3.17000000e-01\n",
      "  1.91000000e-01  8.00000000e-03  8.00000000e-02  9.00000000e-03\n",
      "  2.00000000e-02  2.80000000e-02  1.64652568e-01  2.70644512e-01\n",
      "  1.49798590e-01  2.61581067e-01 -3.53655941e-01 -4.73627160e-01\n",
      "  1.59466128e-01 -5.83367813e-01]\n",
      "157/157 [==============================] - 1s 3ms/step\n"
     ]
    },
    {
     "name": "stderr",
     "output_type": "stream",
     "text": [
      "2023-06-19 21:23:12.151373: I tensorflow/core/grappler/optimizers/custom_graph_optimizer_registry.cc:113] Plugin optimizer for device_type GPU is enabled.\n"
     ]
    },
    {
     "name": "stdout",
     "output_type": "stream",
     "text": [
      "1/1 [==============================] - 0s 184ms/step\n"
     ]
    },
    {
     "name": "stderr",
     "output_type": "stream",
     "text": [
      "2023-06-19 21:23:19.776268: I tensorflow/core/grappler/optimizers/custom_graph_optimizer_registry.cc:113] Plugin optimizer for device_type GPU is enabled.\n"
     ]
    },
    {
     "name": "stdout",
     "output_type": "stream",
     "text": [
      "[-6.32607269e-01  6.05040975e+01 -8.11621655e-01 -1.14411663e-03\n",
      "  1.14000000e-01  9.60000000e-02  1.45000000e-01  7.70000000e-02\n",
      "  5.10000000e-02  6.00000000e-03  5.00000000e-03  1.50000000e-02\n",
      "  6.00000000e-03  1.20000000e-02  2.15204380e-01  2.48694766e-01\n",
      "  1.60448236e-01  2.34814720e-01  1.67526594e+00 -6.94514132e-01\n",
      " -3.74568182e-01 -8.35588603e-01]\n",
      "157/157 [==============================] - 1s 3ms/step\n"
     ]
    },
    {
     "name": "stderr",
     "output_type": "stream",
     "text": [
      "2023-06-19 21:23:23.973709: I tensorflow/core/grappler/optimizers/custom_graph_optimizer_registry.cc:113] Plugin optimizer for device_type GPU is enabled.\n"
     ]
    },
    {
     "name": "stdout",
     "output_type": "stream",
     "text": [
      "1/1 [==============================] - 0s 185ms/step\n"
     ]
    },
    {
     "name": "stderr",
     "output_type": "stream",
     "text": [
      "2023-06-19 21:23:31.694238: I tensorflow/core/grappler/optimizers/custom_graph_optimizer_registry.cc:113] Plugin optimizer for device_type GPU is enabled.\n"
     ]
    },
    {
     "name": "stdout",
     "output_type": "stream",
     "text": [
      "[ 3.40512081e-02  2.33307194e+01  3.42514134e-01 -2.32372755e-03\n",
      "  1.55000000e-01  1.96000000e-01  2.40000000e-01  1.13000000e-01\n",
      "  3.24000000e-01  1.10000000e-02  1.20000000e-02  1.50000000e-02\n",
      "  1.60000000e-02  5.60000000e-02  1.90011481e-01  2.07807118e-01\n",
      "  2.23306544e-01  2.20244929e-01  1.89836420e-01  6.68543272e-01\n",
      "  2.68041208e-01 -8.35588603e-01]\n",
      "157/157 [==============================] - 1s 3ms/step\n"
     ]
    },
    {
     "name": "stderr",
     "output_type": "stream",
     "text": [
      "2023-06-19 21:23:36.306477: I tensorflow/core/grappler/optimizers/custom_graph_optimizer_registry.cc:113] Plugin optimizer for device_type GPU is enabled.\n"
     ]
    },
    {
     "name": "stdout",
     "output_type": "stream",
     "text": [
      "1/1 [==============================] - 0s 160ms/step\n"
     ]
    },
    {
     "name": "stderr",
     "output_type": "stream",
     "text": [
      "2023-06-19 21:23:43.584420: I tensorflow/core/grappler/optimizers/custom_graph_optimizer_registry.cc:113] Plugin optimizer for device_type GPU is enabled.\n"
     ]
    },
    {
     "name": "stdout",
     "output_type": "stream",
     "text": [
      "[-5.94598109e-01  2.00342863e+01 -6.83698914e-01 -1.30928473e-03\n",
      "  1.31000000e-01  5.50000000e-02  1.07000000e-01  1.99000000e-01\n",
      "  8.20000000e-02  9.00000000e-03  1.10000000e-02  6.00000000e-03\n",
      "  4.90000000e-02  7.00000000e-03  1.53572698e-01  2.65908283e-01\n",
      "  1.69214362e-01  1.65303946e-01 -1.01957091e+00 -6.29596985e-03\n",
      "  1.35920427e+00 -8.35588603e-01]\n",
      "157/157 [==============================] - 1s 4ms/step\n"
     ]
    },
    {
     "name": "stderr",
     "output_type": "stream",
     "text": [
      "2023-06-19 21:23:48.808033: I tensorflow/core/grappler/optimizers/custom_graph_optimizer_registry.cc:113] Plugin optimizer for device_type GPU is enabled.\n"
     ]
    },
    {
     "name": "stdout",
     "output_type": "stream",
     "text": [
      "1/1 [==============================] - 0s 187ms/step\n"
     ]
    },
    {
     "name": "stderr",
     "output_type": "stream",
     "text": [
      "2023-06-19 21:23:56.562404: I tensorflow/core/grappler/optimizers/custom_graph_optimizer_registry.cc:113] Plugin optimizer for device_type GPU is enabled.\n"
     ]
    },
    {
     "name": "stdout",
     "output_type": "stream",
     "text": [
      "[ 2.10891966e-01 -5.91812583e+01  8.37202061e-01 -2.60713579e-03\n",
      "  1.27000000e-01  3.05000000e-01  2.32000000e-01  4.27000000e-01\n",
      "  1.81000000e-01  2.30000000e-02  2.60000000e-02  1.70000000e-02\n",
      "  6.00000000e-02  1.30000000e-02  1.94871795e-01  2.14871795e-01\n",
      "  2.41282051e-01  1.19358974e-01  1.44018315e+00 -5.56367700e-02\n",
      " -9.89442842e-01  1.73294556e-01]\n",
      "157/157 [==============================] - 1s 3ms/step\n"
     ]
    },
    {
     "name": "stderr",
     "output_type": "stream",
     "text": [
      "2023-06-19 21:24:00.845134: I tensorflow/core/grappler/optimizers/custom_graph_optimizer_registry.cc:113] Plugin optimizer for device_type GPU is enabled.\n"
     ]
    },
    {
     "name": "stdout",
     "output_type": "stream",
     "text": [
      "1/1 [==============================] - 0s 190ms/step\n"
     ]
    },
    {
     "name": "stderr",
     "output_type": "stream",
     "text": [
      "2023-06-19 21:24:08.962554: I tensorflow/core/grappler/optimizers/custom_graph_optimizer_registry.cc:113] Plugin optimizer for device_type GPU is enabled.\n"
     ]
    },
    {
     "name": "stdout",
     "output_type": "stream",
     "text": [
      "[-4.85401145e-02 -4.75139830e+00  2.45969996e-01 -2.14568247e-03\n",
      "  3.07000000e-01  1.79000000e-01  1.09000000e-01  2.55000000e-01\n",
      "  2.33000000e-01  2.20000000e-02  2.10000000e-02  2.20000000e-02\n",
      "  7.00000000e-03  9.00000000e-03  1.45390071e-01  2.89361702e-01\n",
      "  2.87234043e-01  1.29078014e-01 -1.83418107e+00 -1.69421682e+00\n",
      "  2.66835070e+00 -6.67441410e-01]\n",
      "157/157 [==============================] - 1s 4ms/step\n"
     ]
    }
   ],
   "source": [
    "lime_results_Trial_1 = get_lime_importance(explanatory_variables = np.array(all_Zscored_scale_explanatory_variables_t1_m5),\n",
    "                                           response_variables = all_Zscored_scale_hot_encode_response_variable_t1, \n",
    "                                           trial_name = 'Trial 1',\n",
    "                                           num_features = len(selected_columns_m5), \n",
    "                                           feature_names = all_Zscored_scale_explanatory_variables_t1_m5.columns.values.tolist())\n"
   ]
  },
  {
   "cell_type": "code",
   "execution_count": 42,
   "id": "770cf211",
   "metadata": {},
   "outputs": [],
   "source": [
    "lime_results_Trial_1.to_csv('../../output_data/New_data/lime_dnn_eegcoordinate_data.csv')"
   ]
  },
  {
   "cell_type": "markdown",
   "id": "27d233c9",
   "metadata": {},
   "source": [
    "### Coordinate data Trial 12"
   ]
  },
  {
   "cell_type": "code",
   "execution_count": 43,
   "id": "86155012",
   "metadata": {},
   "outputs": [],
   "source": [
    "selected_columns_m5 = ['MM_Intercept', 'MM_Hess', 'average_peak_magnitude', \n",
    "                       'average_peak_curvature', 'hmm5_mean.1',\n",
    "                       'hmm5_mean.2', 'hmm5_mean.3', 'hmm5_mean.4', 'hmm5_mean.5', 'hmm5_sd.1',\n",
    "                       'hmm5_sd.2', 'hmm5_sd.3', 'hmm5_sd.4', 'hmm5_sd.5', 'hmm5_p1',\n",
    "                       'hmm5_p2', 'hmm5_p3', 'hmm5_p4', 'dis_sum', 'angle_sum', 'average_speed', 'idle_time']\n",
    "selected_columns_m5_array = [elem in selected_columns_m5 for elem in all_Zscored_scale_explanatory_variables_t12.columns]"
   ]
  },
  {
   "cell_type": "code",
   "execution_count": 44,
   "id": "4b91f5fc",
   "metadata": {},
   "outputs": [],
   "source": [
    "all_Zscored_scale_explanatory_variables_t12_m5 = all_Zscored_scale_explanatory_variables_t12[selected_columns_m5]"
   ]
  },
  {
   "cell_type": "code",
   "execution_count": 45,
   "id": "db60f47f",
   "metadata": {},
   "outputs": [
    {
     "name": "stderr",
     "output_type": "stream",
     "text": [
      "2023-06-19 21:26:50.321572: I tensorflow/core/grappler/optimizers/custom_graph_optimizer_registry.cc:113] Plugin optimizer for device_type GPU is enabled.\n"
     ]
    },
    {
     "name": "stdout",
     "output_type": "stream",
     "text": [
      "1/1 [==============================] - 0s 169ms/step\n"
     ]
    },
    {
     "name": "stderr",
     "output_type": "stream",
     "text": [
      "2023-06-19 21:26:58.546920: I tensorflow/core/grappler/optimizers/custom_graph_optimizer_registry.cc:113] Plugin optimizer for device_type GPU is enabled.\n"
     ]
    },
    {
     "name": "stdout",
     "output_type": "stream",
     "text": [
      "[ 5.05831463e-01  3.73429373e+00  1.25488205e+00 -3.14013672e-03\n",
      "  3.39000000e-01  2.97000000e-01  2.00000000e-01  2.61000000e-01\n",
      "  4.47000000e-01  1.70000000e-02  8.00000000e-03  2.80000000e-02\n",
      "  1.40000000e-02  6.70000000e-02  1.94532072e-01  2.19768665e-01\n",
      "  2.56572029e-01  1.70347003e-01 -2.89336702e-02 -9.46109069e-02\n",
      "  4.93500586e-02 -5.23140701e-01]\n",
      "157/157 [==============================] - 1s 3ms/step\n"
     ]
    },
    {
     "name": "stderr",
     "output_type": "stream",
     "text": [
      "2023-06-19 21:27:03.760591: I tensorflow/core/grappler/optimizers/custom_graph_optimizer_registry.cc:113] Plugin optimizer for device_type GPU is enabled.\n"
     ]
    },
    {
     "name": "stdout",
     "output_type": "stream",
     "text": [
      "1/1 [==============================] - 0s 208ms/step\n"
     ]
    },
    {
     "name": "stderr",
     "output_type": "stream",
     "text": [
      "2023-06-19 21:27:11.723501: I tensorflow/core/grappler/optimizers/custom_graph_optimizer_registry.cc:113] Plugin optimizer for device_type GPU is enabled.\n"
     ]
    },
    {
     "name": "stdout",
     "output_type": "stream",
     "text": [
      "[ 1.54855168e-01 -9.06185246e+01  1.08262636e+00 -2.96800506e-03\n",
      "  1.87000000e-01  2.52000000e-01  2.16000000e-01  3.68000000e-01\n",
      "  6.33000000e-01  1.00000000e-02  1.40000000e-02  8.00000000e-03\n",
      "  4.40000000e-02  1.53000000e-01  1.49390244e-01  2.57113821e-01\n",
      "  1.83943089e-01  2.95731707e-01  7.02254084e-01 -3.70364131e-02\n",
      "  8.19298080e-01 -6.65551226e-01]\n",
      "157/157 [==============================] - 1s 4ms/step\n"
     ]
    },
    {
     "name": "stderr",
     "output_type": "stream",
     "text": [
      "2023-06-19 21:27:16.114472: I tensorflow/core/grappler/optimizers/custom_graph_optimizer_registry.cc:113] Plugin optimizer for device_type GPU is enabled.\n"
     ]
    },
    {
     "name": "stdout",
     "output_type": "stream",
     "text": [
      "1/1 [==============================] - 0s 192ms/step\n"
     ]
    },
    {
     "name": "stderr",
     "output_type": "stream",
     "text": [
      "2023-06-19 21:27:23.948387: I tensorflow/core/grappler/optimizers/custom_graph_optimizer_registry.cc:113] Plugin optimizer for device_type GPU is enabled.\n"
     ]
    },
    {
     "name": "stdout",
     "output_type": "stream",
     "text": [
      "[-3.81762792e-01 -1.08664622e+02 -5.10243748e-02 -1.87436761e-03\n",
      "  9.80000000e-02  1.28000000e-01  1.46000000e-01  2.07000000e-01\n",
      "  3.52000000e-01  1.60000000e-02  4.00000000e-03  7.00000000e-03\n",
      "  2.60000000e-02  9.10000000e-02  1.29734848e-01  1.88446970e-01\n",
      "  1.33522727e-01  3.57007576e-01 -6.07235685e-01 -6.24664967e-01\n",
      " -1.33864420e+00  6.16143493e-01]\n",
      "157/157 [==============================] - 1s 3ms/step\n"
     ]
    },
    {
     "name": "stderr",
     "output_type": "stream",
     "text": [
      "2023-06-19 21:27:28.389900: I tensorflow/core/grappler/optimizers/custom_graph_optimizer_registry.cc:113] Plugin optimizer for device_type GPU is enabled.\n"
     ]
    },
    {
     "name": "stdout",
     "output_type": "stream",
     "text": [
      "1/1 [==============================] - 0s 185ms/step\n"
     ]
    },
    {
     "name": "stderr",
     "output_type": "stream",
     "text": [
      "2023-06-19 21:27:37.224976: I tensorflow/core/grappler/optimizers/custom_graph_optimizer_registry.cc:113] Plugin optimizer for device_type GPU is enabled.\n"
     ]
    },
    {
     "name": "stdout",
     "output_type": "stream",
     "text": [
      "[-2.41154383e-02 -5.14782911e+01  3.85727043e-01 -2.21085397e-03\n",
      "  1.21000000e-01  1.88000000e-01  1.47000000e-01  2.59000000e-01\n",
      "  3.60000000e-01  6.00000000e-03  1.30000000e-02  9.00000000e-03\n",
      "  2.60000000e-02  4.80000000e-02  9.54504906e-02  3.29170384e-01\n",
      "  1.16859946e-01  2.66726137e-01 -5.27942894e-03  3.19632477e+00\n",
      "  1.30690822e-01 -2.38319653e-01]\n",
      "157/157 [==============================] - 1s 3ms/step\n"
     ]
    },
    {
     "name": "stderr",
     "output_type": "stream",
     "text": [
      "2023-06-19 21:27:41.778386: I tensorflow/core/grappler/optimizers/custom_graph_optimizer_registry.cc:113] Plugin optimizer for device_type GPU is enabled.\n"
     ]
    },
    {
     "name": "stdout",
     "output_type": "stream",
     "text": [
      "1/1 [==============================] - 0s 190ms/step\n"
     ]
    },
    {
     "name": "stderr",
     "output_type": "stream",
     "text": [
      "2023-06-19 21:27:49.680552: I tensorflow/core/grappler/optimizers/custom_graph_optimizer_registry.cc:113] Plugin optimizer for device_type GPU is enabled.\n"
     ]
    },
    {
     "name": "stdout",
     "output_type": "stream",
     "text": [
      "[ 2.89524218e-01 -9.92547890e+01  1.29510416e+00 -3.04307342e-03\n",
      "  3.37000000e-01  1.71000000e-01  2.51000000e-01  2.81000000e-01\n",
      "  4.68000000e-01  2.20000000e-02  2.60000000e-02  7.00000000e-03\n",
      "  1.10000000e-02  6.80000000e-02  2.62226847e-01  2.34131113e-01\n",
      "  1.23829344e-01  1.38397503e-01  7.44721488e-01 -7.73085244e-01\n",
      "  8.60735800e-01 -6.65551226e-01]\n",
      "157/157 [==============================] - 1s 3ms/step\n"
     ]
    },
    {
     "name": "stderr",
     "output_type": "stream",
     "text": [
      "2023-06-19 21:27:54.767385: I tensorflow/core/grappler/optimizers/custom_graph_optimizer_registry.cc:113] Plugin optimizer for device_type GPU is enabled.\n"
     ]
    },
    {
     "name": "stdout",
     "output_type": "stream",
     "text": [
      "1/1 [==============================] - 0s 196ms/step\n"
     ]
    },
    {
     "name": "stderr",
     "output_type": "stream",
     "text": [
      "2023-06-19 21:28:03.002675: I tensorflow/core/grappler/optimizers/custom_graph_optimizer_registry.cc:113] Plugin optimizer for device_type GPU is enabled.\n"
     ]
    },
    {
     "name": "stdout",
     "output_type": "stream",
     "text": [
      "[-1.69516368e-01  2.13525587e+01  2.21833416e-01 -2.56285488e-03\n",
      "  1.73000000e-01  3.22000000e-01  1.36000000e-01  2.18000000e-01\n",
      "  6.70000000e-02  9.00000000e-03  5.40000000e-02  1.50000000e-02\n",
      "  1.70000000e-02  2.30000000e-02  2.24405377e-01  1.85108583e-01\n",
      "  1.88210962e-01  3.04033092e-01  9.25510817e-02 -2.86097464e-01\n",
      " -5.69844969e-01  4.65013957e-02]\n",
      "157/157 [==============================] - 1s 3ms/step\n"
     ]
    },
    {
     "name": "stderr",
     "output_type": "stream",
     "text": [
      "2023-06-19 21:28:07.413648: I tensorflow/core/grappler/optimizers/custom_graph_optimizer_registry.cc:113] Plugin optimizer for device_type GPU is enabled.\n"
     ]
    },
    {
     "name": "stdout",
     "output_type": "stream",
     "text": [
      "1/1 [==============================] - 0s 213ms/step\n"
     ]
    },
    {
     "name": "stderr",
     "output_type": "stream",
     "text": [
      "2023-06-19 21:28:15.467048: I tensorflow/core/grappler/optimizers/custom_graph_optimizer_registry.cc:113] Plugin optimizer for device_type GPU is enabled.\n"
     ]
    },
    {
     "name": "stdout",
     "output_type": "stream",
     "text": [
      "[ 1.90227509e+00 -3.17910977e+00  2.59760783e+00 -2.84349941e-03\n",
      "  7.01000000e-01  3.53000000e-01  4.22000000e-01  4.69000000e-01\n",
      "  5.33000000e-01  7.90000000e-02  2.20000000e-02  1.10000000e-02\n",
      "  1.50000000e-02  2.50000000e-02  9.83783784e-02  1.03783784e-01\n",
      "  1.57837838e-01  3.31891892e-01  6.73316575e-01 -2.37063899e-02\n",
      "  8.05776032e-01 -6.65551226e-01]\n",
      "157/157 [==============================] - 1s 3ms/step\n"
     ]
    },
    {
     "name": "stderr",
     "output_type": "stream",
     "text": [
      "2023-06-19 21:28:20.002898: I tensorflow/core/grappler/optimizers/custom_graph_optimizer_registry.cc:113] Plugin optimizer for device_type GPU is enabled.\n"
     ]
    },
    {
     "name": "stdout",
     "output_type": "stream",
     "text": [
      "1/1 [==============================] - 0s 205ms/step\n"
     ]
    },
    {
     "name": "stderr",
     "output_type": "stream",
     "text": [
      "2023-06-19 21:28:28.448351: I tensorflow/core/grappler/optimizers/custom_graph_optimizer_registry.cc:113] Plugin optimizer for device_type GPU is enabled.\n"
     ]
    },
    {
     "name": "stdout",
     "output_type": "stream",
     "text": [
      "[-2.61899369e-01 -2.94178859e+01  6.98990999e-02 -2.18383429e-03\n",
      "  2.09000000e-01  1.01000000e-01  3.43000000e-01  2.53000000e-01\n",
      "  1.59000000e-01  1.30000000e-02  1.90000000e-02  4.10000000e-02\n",
      "  1.40000000e-02  1.30000000e-02  1.90529876e-01  3.04396843e-01\n",
      "  1.22886133e-01  1.49943630e-01  4.31922339e-01 -5.14590863e-01\n",
      "  1.04823774e-01 -3.80730177e-01]\n",
      "157/157 [==============================] - 1s 3ms/step\n"
     ]
    },
    {
     "name": "stderr",
     "output_type": "stream",
     "text": [
      "2023-06-19 21:28:32.921214: I tensorflow/core/grappler/optimizers/custom_graph_optimizer_registry.cc:113] Plugin optimizer for device_type GPU is enabled.\n"
     ]
    },
    {
     "name": "stdout",
     "output_type": "stream",
     "text": [
      "1/1 [==============================] - 0s 193ms/step\n"
     ]
    },
    {
     "name": "stderr",
     "output_type": "stream",
     "text": [
      "2023-06-19 21:28:40.792013: I tensorflow/core/grappler/optimizers/custom_graph_optimizer_registry.cc:113] Plugin optimizer for device_type GPU is enabled.\n"
     ]
    },
    {
     "name": "stdout",
     "output_type": "stream",
     "text": [
      "[ 2.19473404e-01  4.54306191e+00  4.61723181e-01 -2.09132392e-03\n",
      "  2.15000000e-01  3.38000000e-01  2.97000000e-01  1.55000000e-01\n",
      "  2.63000000e-01  1.40000000e-02  1.60000000e-02  1.00000000e-02\n",
      "  2.30000000e-02  1.00000000e-02  2.32026144e-01  1.88453159e-01\n",
      "  1.20915033e-01  2.76688453e-01  3.17357297e-01 -2.77108087e-01\n",
      " -1.49185817e-01 -2.38319653e-01]\n",
      "157/157 [==============================] - 1s 3ms/step\n"
     ]
    },
    {
     "name": "stderr",
     "output_type": "stream",
     "text": [
      "2023-06-19 21:28:46.012392: I tensorflow/core/grappler/optimizers/custom_graph_optimizer_registry.cc:113] Plugin optimizer for device_type GPU is enabled.\n"
     ]
    },
    {
     "name": "stdout",
     "output_type": "stream",
     "text": [
      "1/1 [==============================] - 0s 214ms/step\n"
     ]
    },
    {
     "name": "stderr",
     "output_type": "stream",
     "text": [
      "2023-06-19 21:28:54.431564: I tensorflow/core/grappler/optimizers/custom_graph_optimizer_registry.cc:113] Plugin optimizer for device_type GPU is enabled.\n"
     ]
    },
    {
     "name": "stdout",
     "output_type": "stream",
     "text": [
      "[ 1.17235737e+00  1.41080984e+02  1.39828117e+00 -2.80389123e-03\n",
      "  4.58000000e-01  2.86000000e-01  3.81000000e-01  1.87000000e-01\n",
      "  3.42000000e-01  4.20000000e-02  1.60000000e-02  1.00000000e-02\n",
      "  3.30000000e-02  1.40000000e-02  1.93920335e-01  2.49475891e-01\n",
      "  2.03354298e-01  1.50943396e-01  4.27339030e-01  1.22741519e+00\n",
      "  3.44671680e-02 -3.80730177e-01]\n",
      "157/157 [==============================] - 1s 3ms/step\n"
     ]
    },
    {
     "name": "stderr",
     "output_type": "stream",
     "text": [
      "2023-06-19 21:28:59.011540: I tensorflow/core/grappler/optimizers/custom_graph_optimizer_registry.cc:113] Plugin optimizer for device_type GPU is enabled.\n"
     ]
    },
    {
     "name": "stdout",
     "output_type": "stream",
     "text": [
      "1/1 [==============================] - 0s 190ms/step\n"
     ]
    },
    {
     "name": "stderr",
     "output_type": "stream",
     "text": [
      "2023-06-19 21:29:07.072076: I tensorflow/core/grappler/optimizers/custom_graph_optimizer_registry.cc:113] Plugin optimizer for device_type GPU is enabled.\n"
     ]
    },
    {
     "name": "stdout",
     "output_type": "stream",
     "text": [
      "[-4.75280336e-01  1.88364652e+01 -2.14525977e-01 -2.28806168e-03\n",
      "  2.78000000e-01  1.09000000e-01  1.54000000e-01  6.30000000e-02\n",
      "  2.00000000e-01  3.70000000e-02  1.20000000e-02  1.10000000e-02\n",
      "  1.50000000e-02  1.50000000e-02  1.49895178e-01  2.88259958e-01\n",
      "  2.31656184e-01  1.28930818e-01 -3.87210898e-01 -3.91120969e-01\n",
      " -1.12782345e+00  4.73732969e-01]\n",
      "157/157 [==============================] - 1s 3ms/step\n"
     ]
    },
    {
     "name": "stderr",
     "output_type": "stream",
     "text": [
      "2023-06-19 21:29:11.670806: I tensorflow/core/grappler/optimizers/custom_graph_optimizer_registry.cc:113] Plugin optimizer for device_type GPU is enabled.\n"
     ]
    },
    {
     "name": "stdout",
     "output_type": "stream",
     "text": [
      "1/1 [==============================] - 0s 175ms/step\n"
     ]
    },
    {
     "name": "stderr",
     "output_type": "stream",
     "text": [
      "2023-06-19 21:29:19.520309: I tensorflow/core/grappler/optimizers/custom_graph_optimizer_registry.cc:113] Plugin optimizer for device_type GPU is enabled.\n"
     ]
    },
    {
     "name": "stdout",
     "output_type": "stream",
     "text": [
      "[-6.66304328e-01 -2.13807507e+01 -4.42595925e-01 -2.03728841e-03\n",
      "  4.60000000e-02  1.34000000e-01  6.30000000e-02  8.30000000e-02\n",
      "  2.15000000e-01  6.00000000e-03  1.50000000e-02  4.00000000e-03\n",
      "  9.00000000e-03  6.10000000e-02  1.19072708e-01  2.77133825e-01\n",
      "  8.32455216e-02  2.16016860e-01  1.96985098e-01  1.15285942e+00\n",
      " -3.53295144e-01 -2.38319653e-01]\n",
      "157/157 [==============================] - 1s 4ms/step\n"
     ]
    },
    {
     "name": "stderr",
     "output_type": "stream",
     "text": [
      "2023-06-19 21:29:23.988410: I tensorflow/core/grappler/optimizers/custom_graph_optimizer_registry.cc:113] Plugin optimizer for device_type GPU is enabled.\n"
     ]
    },
    {
     "name": "stdout",
     "output_type": "stream",
     "text": [
      "1/1 [==============================] - 0s 187ms/step\n"
     ]
    },
    {
     "name": "stderr",
     "output_type": "stream",
     "text": [
      "2023-06-19 21:29:32.357632: I tensorflow/core/grappler/optimizers/custom_graph_optimizer_registry.cc:113] Plugin optimizer for device_type GPU is enabled.\n"
     ]
    },
    {
     "name": "stdout",
     "output_type": "stream",
     "text": [
      "[ 2.78815055e-01 -3.62734685e+01  9.47050473e-01 -2.76401542e-03\n",
      "  2.53000000e-01  3.16000000e-01  1.70000000e-01  2.21000000e-01\n",
      "  5.51000000e-01  1.00000000e-02  2.60000000e-02  2.30000000e-02\n",
      "  1.00000000e-02  1.07000000e-01  1.98321091e-01  2.00419727e-01\n",
      "  1.69989507e-01  2.73871983e-01 -1.91850077e-02  4.76497854e-01\n",
      " -6.86695465e-01  4.65013957e-02]\n",
      "157/157 [==============================] - 1s 3ms/step\n"
     ]
    },
    {
     "name": "stderr",
     "output_type": "stream",
     "text": [
      "2023-06-19 21:29:36.670329: I tensorflow/core/grappler/optimizers/custom_graph_optimizer_registry.cc:113] Plugin optimizer for device_type GPU is enabled.\n"
     ]
    },
    {
     "name": "stdout",
     "output_type": "stream",
     "text": [
      "1/1 [==============================] - 0s 174ms/step\n"
     ]
    },
    {
     "name": "stderr",
     "output_type": "stream",
     "text": [
      "2023-06-19 21:29:44.644393: I tensorflow/core/grappler/optimizers/custom_graph_optimizer_registry.cc:113] Plugin optimizer for device_type GPU is enabled.\n"
     ]
    },
    {
     "name": "stdout",
     "output_type": "stream",
     "text": [
      "[-4.74489117e-01  3.46343761e+01 -5.81767566e-01 -1.51983952e-03\n",
      "  9.60000000e-02  5.70000000e-02  1.36000000e-01  1.16000000e-01\n",
      "  1.87000000e-01  5.00000000e-03  1.80000000e-02  6.00000000e-03\n",
      "  6.00000000e-03  3.60000000e-02  1.36182903e-01  2.95228628e-01\n",
      "  2.14711730e-01  1.70974155e-01  6.77086895e-01 -3.52852285e-01\n",
      "  7.73437465e-01 -6.65551226e-01]\n",
      "157/157 [==============================] - 1s 3ms/step\n"
     ]
    },
    {
     "name": "stderr",
     "output_type": "stream",
     "text": [
      "2023-06-19 21:29:50.174395: I tensorflow/core/grappler/optimizers/custom_graph_optimizer_registry.cc:113] Plugin optimizer for device_type GPU is enabled.\n"
     ]
    },
    {
     "name": "stdout",
     "output_type": "stream",
     "text": [
      "1/1 [==============================] - 0s 195ms/step\n"
     ]
    },
    {
     "name": "stderr",
     "output_type": "stream",
     "text": [
      "2023-06-19 21:29:58.505360: I tensorflow/core/grappler/optimizers/custom_graph_optimizer_registry.cc:113] Plugin optimizer for device_type GPU is enabled.\n"
     ]
    },
    {
     "name": "stdout",
     "output_type": "stream",
     "text": [
      "[-4.81227079e-01  1.41351790e+01 -7.31579401e-01 -1.12953054e-03\n",
      "  1.22000000e-01  7.00000000e-02  9.20000000e-02  1.58000000e-01\n",
      "  1.05000000e-01  6.00000000e-03  7.00000000e-03  6.00000000e-03\n",
      "  2.00000000e-02  4.00000000e-03  2.22826087e-01  1.96739130e-01\n",
      "  1.26086957e-01  2.40217391e-01  4.30634979e-01  1.72841272e+00\n",
      "  1.73406003e-01 -6.65551226e-01]\n",
      "157/157 [==============================] - 1s 3ms/step\n"
     ]
    },
    {
     "name": "stderr",
     "output_type": "stream",
     "text": [
      "2023-06-19 21:30:02.779739: I tensorflow/core/grappler/optimizers/custom_graph_optimizer_registry.cc:113] Plugin optimizer for device_type GPU is enabled.\n"
     ]
    },
    {
     "name": "stdout",
     "output_type": "stream",
     "text": [
      "1/1 [==============================] - 0s 186ms/step\n"
     ]
    },
    {
     "name": "stderr",
     "output_type": "stream",
     "text": [
      "2023-06-19 21:30:10.832834: I tensorflow/core/grappler/optimizers/custom_graph_optimizer_registry.cc:113] Plugin optimizer for device_type GPU is enabled.\n"
     ]
    },
    {
     "name": "stdout",
     "output_type": "stream",
     "text": [
      "[ 1.06714810e-01 -8.96711684e+00  6.31890986e-01 -2.64587824e-03\n",
      "  3.83000000e-01  2.23000000e-01  1.90000000e-01  1.55000000e-01\n",
      "  2.63000000e-01  7.60000000e-02  9.00000000e-03  7.00000000e-03\n",
      "  1.70000000e-02  1.30000000e-02  2.89827255e-01  1.86180422e-01\n",
      "  1.35316699e-01  1.30518234e-01 -6.97803923e-01  1.47970198e+00\n",
      " -2.91274847e-01  3.31322444e-01]\n",
      "157/157 [==============================] - 1s 3ms/step\n"
     ]
    },
    {
     "name": "stderr",
     "output_type": "stream",
     "text": [
      "2023-06-19 21:30:15.287446: I tensorflow/core/grappler/optimizers/custom_graph_optimizer_registry.cc:113] Plugin optimizer for device_type GPU is enabled.\n"
     ]
    },
    {
     "name": "stdout",
     "output_type": "stream",
     "text": [
      "1/1 [==============================] - 0s 197ms/step\n"
     ]
    },
    {
     "name": "stderr",
     "output_type": "stream",
     "text": [
      "2023-06-19 21:30:23.445274: I tensorflow/core/grappler/optimizers/custom_graph_optimizer_registry.cc:113] Plugin optimizer for device_type GPU is enabled.\n"
     ]
    },
    {
     "name": "stdout",
     "output_type": "stream",
     "text": [
      "[ 3.03066702e-01 -1.45220382e+02  1.80555536e+00 -3.61447310e-03\n",
      "  1.38000000e-01  5.55000000e-01  2.63000000e-01  1.83000000e-01\n",
      "  3.39000000e-01  1.20000000e-02  1.97000000e-01  2.80000000e-02\n",
      "  1.40000000e-02  2.40000000e-02  1.24724062e-01  2.49448124e-01\n",
      "  1.84326711e-01  1.08167770e-01  4.72794589e-01  8.32700406e-01\n",
      "  2.55157963e-01 -6.65551226e-01]\n",
      "157/157 [==============================] - 1s 3ms/step\n"
     ]
    },
    {
     "name": "stderr",
     "output_type": "stream",
     "text": [
      "2023-06-19 21:30:27.995018: I tensorflow/core/grappler/optimizers/custom_graph_optimizer_registry.cc:113] Plugin optimizer for device_type GPU is enabled.\n",
      "2023-06-19 21:30:36.018180: I tensorflow/core/grappler/optimizers/custom_graph_optimizer_registry.cc:113] Plugin optimizer for device_type GPU is enabled.\n"
     ]
    },
    {
     "name": "stdout",
     "output_type": "stream",
     "text": [
      "1/1 [==============================] - 0s 238ms/step\n",
      "[-8.26804978e-02  3.02925583e+00  4.32339930e-01 -2.69830930e-03\n",
      "  3.97000000e-01  1.17000000e-01  1.70000000e-01  2.65000000e-01\n",
      "  5.05000000e-01  2.40000000e-02  1.90000000e-02  1.20000000e-02\n",
      "  4.90000000e-02  3.30000000e-02  6.21827411e-02  3.38832487e-01\n",
      "  3.13451777e-01  2.13197970e-01 -1.17401026e+00 -8.21079255e-01\n",
      "  1.68758511e-01 -2.38319653e-01]\n",
      "157/157 [==============================] - 1s 3ms/step\n"
     ]
    },
    {
     "name": "stderr",
     "output_type": "stream",
     "text": [
      "2023-06-19 21:30:41.210406: I tensorflow/core/grappler/optimizers/custom_graph_optimizer_registry.cc:113] Plugin optimizer for device_type GPU is enabled.\n"
     ]
    },
    {
     "name": "stdout",
     "output_type": "stream",
     "text": [
      "1/1 [==============================] - 0s 192ms/step\n"
     ]
    },
    {
     "name": "stderr",
     "output_type": "stream",
     "text": [
      "2023-06-19 21:30:49.373732: I tensorflow/core/grappler/optimizers/custom_graph_optimizer_registry.cc:113] Plugin optimizer for device_type GPU is enabled.\n"
     ]
    },
    {
     "name": "stdout",
     "output_type": "stream",
     "text": [
      "[ 3.46081364e-01 -1.26814691e+01  1.20228913e+00 -3.08114466e-03\n",
      "  5.68000000e-01  1.85000000e-01  3.68000000e-01  2.71000000e-01\n",
      "  3.12000000e-01  6.00000000e-02  3.20000000e-02  2.10000000e-02\n",
      "  1.30000000e-02  1.10000000e-02  8.18452381e-02  4.31547619e-01\n",
      "  1.39880952e-01  2.14285714e-01 -1.21360905e+00 -8.10879671e-01\n",
      " -6.13465520e-01  4.65013957e-02]\n",
      "157/157 [==============================] - 1s 3ms/step\n"
     ]
    },
    {
     "name": "stderr",
     "output_type": "stream",
     "text": [
      "2023-06-19 21:30:53.682078: I tensorflow/core/grappler/optimizers/custom_graph_optimizer_registry.cc:113] Plugin optimizer for device_type GPU is enabled.\n"
     ]
    },
    {
     "name": "stdout",
     "output_type": "stream",
     "text": [
      "1/1 [==============================] - 0s 193ms/step\n"
     ]
    },
    {
     "name": "stderr",
     "output_type": "stream",
     "text": [
      "2023-06-19 21:31:01.634783: I tensorflow/core/grappler/optimizers/custom_graph_optimizer_registry.cc:113] Plugin optimizer for device_type GPU is enabled.\n"
     ]
    },
    {
     "name": "stdout",
     "output_type": "stream",
     "text": [
      "[ 9.34320032e-01 -3.42366632e+01  2.58787186e+00 -4.18840040e-03\n",
      "  4.40000000e-01  6.26000000e-01  3.78000000e-01  2.64000000e-01\n",
      "  3.32000000e-01  2.10000000e-02  1.02000000e-01  1.40000000e-02\n",
      "  1.70000000e-02  1.40000000e-02  1.86440678e-01  2.32073012e-01\n",
      "  1.59061278e-01  2.35984355e-01 -2.18581142e-01  1.03462444e-01\n",
      "  4.96442184e-02 -2.38319653e-01]\n",
      "157/157 [==============================] - 1s 3ms/step\n"
     ]
    },
    {
     "name": "stderr",
     "output_type": "stream",
     "text": [
      "2023-06-19 21:31:05.895451: I tensorflow/core/grappler/optimizers/custom_graph_optimizer_registry.cc:113] Plugin optimizer for device_type GPU is enabled.\n"
     ]
    },
    {
     "name": "stdout",
     "output_type": "stream",
     "text": [
      "1/1 [==============================] - 0s 179ms/step\n"
     ]
    },
    {
     "name": "stderr",
     "output_type": "stream",
     "text": [
      "2023-06-19 21:31:14.513778: I tensorflow/core/grappler/optimizers/custom_graph_optimizer_registry.cc:113] Plugin optimizer for device_type GPU is enabled.\n"
     ]
    },
    {
     "name": "stdout",
     "output_type": "stream",
     "text": [
      "[-1.97571134e-01  7.23967248e+00 -2.64959466e-01 -1.43321412e-03\n",
      "  2.18000000e-01  1.26000000e-01  1.47000000e-01  1.72000000e-01\n",
      "  9.50000000e-02  2.30000000e-02  6.00000000e-03  5.00000000e-03\n",
      "  8.00000000e-03  1.30000000e-02  1.79788484e-01  2.71445358e-01\n",
      "  1.92714454e-01  1.85663925e-01 -9.25394691e-01 -7.78495758e-01\n",
      " -1.24489349e+00  6.16143493e-01]\n",
      "157/157 [==============================] - 1s 3ms/step\n"
     ]
    },
    {
     "name": "stderr",
     "output_type": "stream",
     "text": [
      "2023-06-19 21:31:18.810290: I tensorflow/core/grappler/optimizers/custom_graph_optimizer_registry.cc:113] Plugin optimizer for device_type GPU is enabled.\n"
     ]
    },
    {
     "name": "stdout",
     "output_type": "stream",
     "text": [
      "1/1 [==============================] - 0s 174ms/step\n"
     ]
    },
    {
     "name": "stderr",
     "output_type": "stream",
     "text": [
      "2023-06-19 21:31:26.513341: I tensorflow/core/grappler/optimizers/custom_graph_optimizer_registry.cc:113] Plugin optimizer for device_type GPU is enabled.\n"
     ]
    },
    {
     "name": "stdout",
     "output_type": "stream",
     "text": [
      "[ 0.04244935 -1.55560466  0.111461   -0.00161137  0.149       0.186\n",
      "  0.088       0.337       0.254       0.011       0.011       0.022\n",
      "  0.022       0.024       0.18628912  0.18926975  0.3099851   0.11028316\n",
      " -1.05724414 -0.46889733 -0.28278751 -0.09590913]\n",
      "157/157 [==============================] - 1s 4ms/step\n"
     ]
    },
    {
     "name": "stderr",
     "output_type": "stream",
     "text": [
      "2023-06-19 21:31:31.720304: I tensorflow/core/grappler/optimizers/custom_graph_optimizer_registry.cc:113] Plugin optimizer for device_type GPU is enabled.\n"
     ]
    },
    {
     "name": "stdout",
     "output_type": "stream",
     "text": [
      "1/1 [==============================] - 0s 200ms/step\n"
     ]
    },
    {
     "name": "stderr",
     "output_type": "stream",
     "text": [
      "2023-06-19 21:31:40.197098: I tensorflow/core/grappler/optimizers/custom_graph_optimizer_registry.cc:113] Plugin optimizer for device_type GPU is enabled.\n"
     ]
    },
    {
     "name": "stdout",
     "output_type": "stream",
     "text": [
      "[-1.78811503e-01  6.55234871e+00  2.77813318e-01 -2.59208476e-03\n",
      "  2.07000000e-01  2.60000000e-01  3.01000000e-01  7.30000000e-02\n",
      "  1.51000000e-01  1.60000000e-02  1.20000000e-02  1.40000000e-02\n",
      "  2.70000000e-02  1.70000000e-02  2.36547085e-01  1.45739910e-01\n",
      "  6.95067265e-02  1.58071749e-01 -6.03380598e-01 -5.21113809e-01\n",
      " -9.26014920e-01  4.65013957e-02]\n",
      "157/157 [==============================] - 1s 3ms/step\n"
     ]
    },
    {
     "name": "stderr",
     "output_type": "stream",
     "text": [
      "2023-06-19 21:31:44.573087: I tensorflow/core/grappler/optimizers/custom_graph_optimizer_registry.cc:113] Plugin optimizer for device_type GPU is enabled.\n"
     ]
    },
    {
     "name": "stdout",
     "output_type": "stream",
     "text": [
      "1/1 [==============================] - 0s 179ms/step\n"
     ]
    },
    {
     "name": "stderr",
     "output_type": "stream",
     "text": [
      "2023-06-19 21:31:52.519253: I tensorflow/core/grappler/optimizers/custom_graph_optimizer_registry.cc:113] Plugin optimizer for device_type GPU is enabled.\n"
     ]
    },
    {
     "name": "stdout",
     "output_type": "stream",
     "text": [
      "[ 8.02411425e-02 -2.93941097e+00  6.25742081e-01 -2.64054973e-03\n",
      "  1.25000000e-01  1.75000000e-01  2.04000000e-01  2.48000000e-01\n",
      "  3.55000000e-01  3.00000000e-02  9.00000000e-03  9.00000000e-03\n",
      "  1.60000000e-02  7.20000000e-02  2.30112666e-01  1.92045067e-01\n",
      "  1.54831000e-01  2.24479344e-01 -1.11515902e+00 -8.28732131e-01\n",
      " -7.85628879e-02 -9.59091286e-02]\n",
      "157/157 [==============================] - 1s 4ms/step\n"
     ]
    },
    {
     "name": "stderr",
     "output_type": "stream",
     "text": [
      "2023-06-19 21:31:56.822026: I tensorflow/core/grappler/optimizers/custom_graph_optimizer_registry.cc:113] Plugin optimizer for device_type GPU is enabled.\n"
     ]
    },
    {
     "name": "stdout",
     "output_type": "stream",
     "text": [
      "1/1 [==============================] - 0s 175ms/step\n"
     ]
    },
    {
     "name": "stderr",
     "output_type": "stream",
     "text": [
      "2023-06-19 21:32:04.660126: I tensorflow/core/grappler/optimizers/custom_graph_optimizer_registry.cc:113] Plugin optimizer for device_type GPU is enabled.\n"
     ]
    },
    {
     "name": "stdout",
     "output_type": "stream",
     "text": [
      "[-1.07002082e-01  3.92050420e+00 -1.73652082e-01 -1.42428975e-03\n",
      "  3.64000000e-01  2.81000000e-01  1.14000000e-01  6.20000000e-02\n",
      "  1.86000000e-01  8.00000000e-03  2.60000000e-02  1.10000000e-02\n",
      "  1.70000000e-02  2.70000000e-02  7.56811302e-02  9.68718466e-02\n",
      "  2.71442987e-01  4.12714430e-01 -5.24960018e-01 -2.01635514e-01\n",
      " -7.84551434e-01  3.31322444e-01]\n",
      "157/157 [==============================] - 1s 3ms/step\n"
     ]
    },
    {
     "name": "stderr",
     "output_type": "stream",
     "text": [
      "2023-06-19 21:32:08.894219: I tensorflow/core/grappler/optimizers/custom_graph_optimizer_registry.cc:113] Plugin optimizer for device_type GPU is enabled.\n"
     ]
    },
    {
     "name": "stdout",
     "output_type": "stream",
     "text": [
      "1/1 [==============================] - 0s 176ms/step\n"
     ]
    },
    {
     "name": "stderr",
     "output_type": "stream",
     "text": [
      "2023-06-19 21:32:16.667640: I tensorflow/core/grappler/optimizers/custom_graph_optimizer_registry.cc:113] Plugin optimizer for device_type GPU is enabled.\n"
     ]
    },
    {
     "name": "stdout",
     "output_type": "stream",
     "text": [
      "[-1.95437438e-01  7.16140303e+00 -5.97280952e-02 -1.87239973e-03\n",
      "  2.48000000e-01  1.73000000e-01  1.26000000e-01  1.54000000e-01\n",
      "  8.00000000e-02  5.40000000e-02  4.00000000e-03  6.00000000e-03\n",
      "  8.00000000e-03  2.70000000e-02  3.66666667e-01  1.34285714e-01\n",
      "  1.60952381e-01  1.34285714e-01 -1.15436396e+00 -5.94510471e-01\n",
      " -1.99527673e+00  1.75542769e+00]\n",
      "157/157 [==============================] - 2s 9ms/step\n"
     ]
    },
    {
     "name": "stderr",
     "output_type": "stream",
     "text": [
      "2023-06-19 21:32:21.897523: I tensorflow/core/grappler/optimizers/custom_graph_optimizer_registry.cc:113] Plugin optimizer for device_type GPU is enabled.\n"
     ]
    },
    {
     "name": "stdout",
     "output_type": "stream",
     "text": [
      "1/1 [==============================] - 0s 202ms/step\n"
     ]
    },
    {
     "name": "stderr",
     "output_type": "stream",
     "text": [
      "2023-06-19 21:32:30.293760: I tensorflow/core/grappler/optimizers/custom_graph_optimizer_registry.cc:113] Plugin optimizer for device_type GPU is enabled.\n"
     ]
    },
    {
     "name": "stdout",
     "output_type": "stream",
     "text": [
      "[-1.76064179e-01  6.45151805e+00 -2.61614541e-01 -1.41860548e-03\n",
      "  1.93000000e-01  1.03000000e-01  1.73000000e-01  2.24000000e-01\n",
      "  2.54000000e-01  9.00000000e-03  3.00000000e-02  6.00000000e-03\n",
      "  4.00000000e-03  1.00000000e-02  7.43243243e-02  6.26689189e-01\n",
      "  8.78378378e-02  1.45270270e-01 -1.07663650e+00 -8.21378945e-01\n",
      "  2.06965724e+00 -6.65551226e-01]\n",
      "157/157 [==============================] - 1s 4ms/step\n"
     ]
    },
    {
     "name": "stderr",
     "output_type": "stream",
     "text": [
      "2023-06-19 21:32:34.660685: I tensorflow/core/grappler/optimizers/custom_graph_optimizer_registry.cc:113] Plugin optimizer for device_type GPU is enabled.\n"
     ]
    },
    {
     "name": "stdout",
     "output_type": "stream",
     "text": [
      "1/1 [==============================] - 0s 193ms/step\n"
     ]
    },
    {
     "name": "stderr",
     "output_type": "stream",
     "text": [
      "2023-06-19 21:32:42.733719: I tensorflow/core/grappler/optimizers/custom_graph_optimizer_registry.cc:113] Plugin optimizer for device_type GPU is enabled.\n"
     ]
    },
    {
     "name": "stdout",
     "output_type": "stream",
     "text": [
      "[ 1.42295698e-01 -5.21464253e+00  8.07346827e-01 -2.86199729e-03\n",
      "  1.73000000e-01  1.05000000e-01  3.12000000e-01  2.27000000e-01\n",
      "  4.34000000e-01  1.30000000e-02  2.80000000e-02  2.70000000e-02\n",
      "  1.80000000e-02  3.80000000e-02  2.30398070e-01  2.91917973e-01\n",
      "  1.76115802e-01  1.58021713e-01  1.22120616e-01 -4.57700275e-01\n",
      "  1.15285940e+00 -6.65551226e-01]\n",
      "157/157 [==============================] - 1s 3ms/step\n"
     ]
    },
    {
     "name": "stderr",
     "output_type": "stream",
     "text": [
      "2023-06-19 21:32:47.388868: I tensorflow/core/grappler/optimizers/custom_graph_optimizer_registry.cc:113] Plugin optimizer for device_type GPU is enabled.\n"
     ]
    },
    {
     "name": "stdout",
     "output_type": "stream",
     "text": [
      "1/1 [==============================] - 0s 197ms/step\n"
     ]
    },
    {
     "name": "stderr",
     "output_type": "stream",
     "text": [
      "2023-06-19 21:32:55.393444: I tensorflow/core/grappler/optimizers/custom_graph_optimizer_registry.cc:113] Plugin optimizer for device_type GPU is enabled.\n"
     ]
    },
    {
     "name": "stdout",
     "output_type": "stream",
     "text": [
      "[-1.61590048e-01  5.92125118e+00 -8.43851177e-02 -1.74336183e-03\n",
      "  1.74000000e-01  1.43000000e-01  2.52000000e-01  2.05000000e-01\n",
      "  1.16000000e-01  7.00000000e-03  8.00000000e-03  1.90000000e-02\n",
      "  9.00000000e-03  1.10000000e-02  2.03389831e-01  2.17731421e-01\n",
      "  1.14732725e-01  1.81225554e-01 -3.01666358e-01 -4.23916039e-01\n",
      "  3.00391400e-01 -3.80730177e-01]\n",
      "157/157 [==============================] - 1s 3ms/step\n"
     ]
    },
    {
     "name": "stderr",
     "output_type": "stream",
     "text": [
      "2023-06-19 21:32:59.750735: I tensorflow/core/grappler/optimizers/custom_graph_optimizer_registry.cc:113] Plugin optimizer for device_type GPU is enabled.\n",
      "2023-06-19 21:33:09.043934: I tensorflow/core/grappler/optimizers/custom_graph_optimizer_registry.cc:113] Plugin optimizer for device_type GPU is enabled.\n"
     ]
    },
    {
     "name": "stdout",
     "output_type": "stream",
     "text": [
      "1/1 [==============================] - 1s 1s/step\n",
      "[-0.00815079  0.29824233  0.57378233 -0.00279406  0.305       0.193\n",
      "  0.154       0.507       0.231       0.027       0.009       0.016\n",
      "  0.065       0.01        0.15175097  0.35603113  0.21984436  0.08754864\n",
      " -1.09383242 -0.81800793  1.98815741 -0.66555123]\n",
      "157/157 [==============================] - 1s 3ms/step\n"
     ]
    },
    {
     "name": "stderr",
     "output_type": "stream",
     "text": [
      "2023-06-19 21:33:13.458942: I tensorflow/core/grappler/optimizers/custom_graph_optimizer_registry.cc:113] Plugin optimizer for device_type GPU is enabled.\n"
     ]
    },
    {
     "name": "stdout",
     "output_type": "stream",
     "text": [
      "1/1 [==============================] - 0s 200ms/step\n"
     ]
    },
    {
     "name": "stderr",
     "output_type": "stream",
     "text": [
      "2023-06-19 21:33:21.840036: I tensorflow/core/grappler/optimizers/custom_graph_optimizer_registry.cc:113] Plugin optimizer for device_type GPU is enabled.\n"
     ]
    },
    {
     "name": "stdout",
     "output_type": "stream",
     "text": [
      "[-0.04739674  1.73704303  0.28618139 -0.00222153  0.139       0.212\n",
      "  0.195       0.27        0.181       0.024       0.007       0.004\n",
      "  0.03        0.005       0.29710145  0.18115942  0.13647343  0.23067633\n",
      "  0.25721899 -0.43756924  1.0616246  -0.66555123]\n",
      "157/157 [==============================] - 1s 3ms/step\n"
     ]
    },
    {
     "name": "stderr",
     "output_type": "stream",
     "text": [
      "2023-06-19 21:33:26.209164: I tensorflow/core/grappler/optimizers/custom_graph_optimizer_registry.cc:113] Plugin optimizer for device_type GPU is enabled.\n"
     ]
    },
    {
     "name": "stdout",
     "output_type": "stream",
     "text": [
      "1/1 [==============================] - 0s 226ms/step\n"
     ]
    },
    {
     "name": "stderr",
     "output_type": "stream",
     "text": [
      "2023-06-19 21:33:34.460247: I tensorflow/core/grappler/optimizers/custom_graph_optimizer_registry.cc:113] Plugin optimizer for device_type GPU is enabled.\n"
     ]
    },
    {
     "name": "stdout",
     "output_type": "stream",
     "text": [
      "[-3.37779983e-01  1.23772795e+01 -5.05997478e-01 -1.35018810e-03\n",
      "  1.83000000e-01  8.50000000e-02  1.25000000e-01  2.01000000e-01\n",
      "  1.57000000e-01  8.00000000e-03  1.30000000e-02  1.00000000e-02\n",
      "  3.00000000e-03  7.00000000e-03  4.19681621e-02  4.48625181e-01\n",
      "  2.76410999e-01  3.61794501e-02 -6.63527542e-01 -6.55985688e-01\n",
      "  2.52739554e-01 -2.38319653e-01]\n",
      "157/157 [==============================] - 1s 4ms/step\n"
     ]
    },
    {
     "name": "stderr",
     "output_type": "stream",
     "text": [
      "2023-06-19 21:33:38.770086: I tensorflow/core/grappler/optimizers/custom_graph_optimizer_registry.cc:113] Plugin optimizer for device_type GPU is enabled.\n"
     ]
    },
    {
     "name": "stdout",
     "output_type": "stream",
     "text": [
      "1/1 [==============================] - 0s 215ms/step\n"
     ]
    },
    {
     "name": "stderr",
     "output_type": "stream",
     "text": [
      "2023-06-19 21:33:47.277433: I tensorflow/core/grappler/optimizers/custom_graph_optimizer_registry.cc:113] Plugin optimizer for device_type GPU is enabled.\n"
     ]
    },
    {
     "name": "stdout",
     "output_type": "stream",
     "text": [
      "[ 8.63091562e-01 -3.16259431e+01  1.80864507e+00 -3.22647721e-03\n",
      "  4.02000000e-01  2.68000000e-01  2.05000000e-01  5.50000000e-01\n",
      "  3.36000000e-01  2.10000000e-02  1.60000000e-02  3.00000000e-02\n",
      "  8.70000000e-02  1.80000000e-02  1.95166606e-01  2.35078726e-01\n",
      "  9.44708898e-02  2.32881728e-01  2.27541683e+00  3.61553858e+00\n",
      " -1.94781806e+00  4.17640660e+00]\n",
      "157/157 [==============================] - 1s 4ms/step\n"
     ]
    },
    {
     "name": "stderr",
     "output_type": "stream",
     "text": [
      "2023-06-19 21:33:51.655236: I tensorflow/core/grappler/optimizers/custom_graph_optimizer_registry.cc:113] Plugin optimizer for device_type GPU is enabled.\n"
     ]
    },
    {
     "name": "stdout",
     "output_type": "stream",
     "text": [
      "1/1 [==============================] - 0s 189ms/step\n"
     ]
    },
    {
     "name": "stderr",
     "output_type": "stream",
     "text": [
      "2023-06-19 21:33:59.984839: I tensorflow/core/grappler/optimizers/custom_graph_optimizer_registry.cc:113] Plugin optimizer for device_type GPU is enabled.\n"
     ]
    },
    {
     "name": "stdout",
     "output_type": "stream",
     "text": [
      "[ 1.46858493e-01 -5.38060613e+00  1.32842757e+00 -3.91449521e-03\n",
      "  3.31000000e-01  2.82000000e-01  2.08000000e-01  4.15000000e-01\n",
      "  2.52000000e-01  1.80000000e-02  9.00000000e-03  2.10000000e-02\n",
      "  3.50000000e-02  8.00000000e-03  2.16276477e-01  1.39353400e-01\n",
      "  2.74247492e-01  2.10702341e-01 -9.35962676e-02 -3.12773790e-01\n",
      " -7.62674747e-02 -3.80730177e-01]\n",
      "157/157 [==============================] - 1s 3ms/step\n"
     ]
    },
    {
     "name": "stderr",
     "output_type": "stream",
     "text": [
      "2023-06-19 21:34:05.268754: I tensorflow/core/grappler/optimizers/custom_graph_optimizer_registry.cc:113] Plugin optimizer for device_type GPU is enabled.\n"
     ]
    },
    {
     "name": "stdout",
     "output_type": "stream",
     "text": [
      "1/1 [==============================] - 0s 209ms/step\n"
     ]
    },
    {
     "name": "stderr",
     "output_type": "stream",
     "text": [
      "2023-06-19 21:34:13.703002: I tensorflow/core/grappler/optimizers/custom_graph_optimizer_registry.cc:113] Plugin optimizer for device_type GPU is enabled.\n"
     ]
    },
    {
     "name": "stdout",
     "output_type": "stream",
     "text": [
      "[-5.61540167e-01  2.05765777e+01 -7.85274824e-01 -1.13840827e-03\n",
      "  6.70000000e-02  8.40000000e-02  4.20000000e-02  1.05000000e-01\n",
      "  1.42000000e-01  5.00000000e-03  4.00000000e-03  1.40000000e-02\n",
      "  7.00000000e-03  1.60000000e-02  1.48003895e-01  2.38558909e-01\n",
      "  9.44498539e-02  3.07692308e-01  1.51377448e+00  1.36070565e+00\n",
      " -1.47650774e+00  2.46748031e+00]\n",
      "157/157 [==============================] - 1s 3ms/step\n"
     ]
    },
    {
     "name": "stderr",
     "output_type": "stream",
     "text": [
      "2023-06-19 21:34:17.980568: I tensorflow/core/grappler/optimizers/custom_graph_optimizer_registry.cc:113] Plugin optimizer for device_type GPU is enabled.\n"
     ]
    },
    {
     "name": "stdout",
     "output_type": "stream",
     "text": [
      "1/1 [==============================] - 0s 219ms/step\n"
     ]
    },
    {
     "name": "stderr",
     "output_type": "stream",
     "text": [
      "2023-06-19 21:34:26.165431: I tensorflow/core/grappler/optimizers/custom_graph_optimizer_registry.cc:113] Plugin optimizer for device_type GPU is enabled.\n"
     ]
    },
    {
     "name": "stdout",
     "output_type": "stream",
     "text": [
      "[ 0.03246073 -1.18954435  0.47916102 -0.0024411   0.322       0.132\n",
      "  0.21        0.098       0.163       0.094       0.01        0.017\n",
      "  0.011       0.01        0.16976917  0.18912882  0.32315711  0.14519732\n",
      "  0.00549956  1.0060776  -1.75915358  1.32819611]\n",
      "157/157 [==============================] - 1s 3ms/step\n"
     ]
    },
    {
     "name": "stderr",
     "output_type": "stream",
     "text": [
      "2023-06-19 21:34:30.490361: I tensorflow/core/grappler/optimizers/custom_graph_optimizer_registry.cc:113] Plugin optimizer for device_type GPU is enabled.\n"
     ]
    },
    {
     "name": "stdout",
     "output_type": "stream",
     "text": [
      "1/1 [==============================] - 0s 214ms/step\n"
     ]
    },
    {
     "name": "stderr",
     "output_type": "stream",
     "text": [
      "2023-06-19 21:34:38.702342: I tensorflow/core/grappler/optimizers/custom_graph_optimizer_registry.cc:113] Plugin optimizer for device_type GPU is enabled.\n"
     ]
    },
    {
     "name": "stdout",
     "output_type": "stream",
     "text": [
      "[-4.69226478e-01  1.71939190e+01 -5.05541892e-01 -1.52537785e-03\n",
      "  2.10000000e-01  1.14000000e-01  9.50000000e-02  1.43000000e-01\n",
      "  6.30000000e-02  4.90000000e-02  6.00000000e-03  6.00000000e-03\n",
      "  1.00000000e-02  1.50000000e-02  1.33213645e-01  2.15080790e-01\n",
      "  2.33752244e-01  2.49192101e-01  4.49880257e+00  1.39845785e+00\n",
      " -1.99371813e+00  3.17953293e+00]\n",
      "157/157 [==============================] - 1s 3ms/step\n"
     ]
    },
    {
     "name": "stderr",
     "output_type": "stream",
     "text": [
      "2023-06-19 21:34:43.141906: I tensorflow/core/grappler/optimizers/custom_graph_optimizer_registry.cc:113] Plugin optimizer for device_type GPU is enabled.\n"
     ]
    },
    {
     "name": "stdout",
     "output_type": "stream",
     "text": [
      "1/1 [==============================] - 0s 211ms/step\n"
     ]
    },
    {
     "name": "stderr",
     "output_type": "stream",
     "text": [
      "2023-06-19 21:34:51.165906: I tensorflow/core/grappler/optimizers/custom_graph_optimizer_registry.cc:113] Plugin optimizer for device_type GPU is enabled.\n"
     ]
    },
    {
     "name": "stdout",
     "output_type": "stream",
     "text": [
      "[ 2.13394826e-01 -7.81967379e+00  5.66486970e-01 -2.14662998e-03\n",
      "  1.45000000e-01  2.93000000e-01  2.14000000e-01  4.07000000e-01\n",
      "  1.90000000e-01  2.70000000e-02  3.00000000e-02  9.00000000e-03\n",
      "  5.00000000e-02  7.00000000e-03  2.48958333e-01  1.32291667e-01\n",
      "  1.68750000e-01  1.36458333e-01 -2.13153643e-01 -3.94138618e-01\n",
      " -2.78231920e-01 -2.38319653e-01]\n",
      "157/157 [==============================] - 1s 3ms/step\n"
     ]
    },
    {
     "name": "stderr",
     "output_type": "stream",
     "text": [
      "2023-06-19 21:34:56.459642: I tensorflow/core/grappler/optimizers/custom_graph_optimizer_registry.cc:113] Plugin optimizer for device_type GPU is enabled.\n",
      "2023-06-19 21:35:04.755745: I tensorflow/core/grappler/optimizers/custom_graph_optimizer_registry.cc:113] Plugin optimizer for device_type GPU is enabled.\n"
     ]
    },
    {
     "name": "stdout",
     "output_type": "stream",
     "text": [
      "1/1 [==============================] - 0s 371ms/step\n",
      "[-2.77942166e-01  1.01845428e+01 -2.37984942e-01 -1.80294034e-03\n",
      "  1.14000000e-01  1.34000000e-01  9.00000000e-02  2.47000000e-01\n",
      "  1.65000000e-01  3.00000000e-03  7.00000000e-03  1.00000000e-02\n",
      "  3.40000000e-02  8.00000000e-03  1.65811966e-01  1.36752137e-01\n",
      "  2.99145299e-01  2.05128205e-01 -1.15902825e+00 -8.14592721e-01\n",
      "  1.60406590e+00 -5.23140701e-01]\n",
      "157/157 [==============================] - 1s 4ms/step\n"
     ]
    }
   ],
   "source": [
    "lime_results_Trial_12 = get_lime_importance(explanatory_variables = np.array(all_Zscored_scale_explanatory_variables_t12_m5),\n",
    "                                           response_variables = all_Zscored_scale_hot_encode_response_variable_t12, \n",
    "                                           trial_name = 'Trial 1',\n",
    "                                           num_features = len(selected_columns_m5), \n",
    "                                           feature_names = all_Zscored_scale_explanatory_variables_t12_m5.columns.values.tolist())"
   ]
  },
  {
   "cell_type": "code",
   "execution_count": 46,
   "id": "f88cd37f",
   "metadata": {},
   "outputs": [
    {
     "data": {
      "text/html": [
       "<div>\n",
       "<style scoped>\n",
       "    .dataframe tbody tr th:only-of-type {\n",
       "        vertical-align: middle;\n",
       "    }\n",
       "\n",
       "    .dataframe tbody tr th {\n",
       "        vertical-align: top;\n",
       "    }\n",
       "\n",
       "    .dataframe thead th {\n",
       "        text-align: right;\n",
       "    }\n",
       "</style>\n",
       "<table border=\"1\" class=\"dataframe\">\n",
       "  <thead>\n",
       "    <tr style=\"text-align: right;\">\n",
       "      <th></th>\n",
       "      <th>Features</th>\n",
       "      <th>Local \\n Importance</th>\n",
       "      <th>Class</th>\n",
       "      <th>Trial</th>\n",
       "    </tr>\n",
       "  </thead>\n",
       "  <tbody>\n",
       "    <tr>\n",
       "      <th>0</th>\n",
       "      <td>-0.45 &lt; MM_Hess &lt;= 7.22</td>\n",
       "      <td>0.399624</td>\n",
       "      <td>Experiment</td>\n",
       "      <td>Trial 1</td>\n",
       "    </tr>\n",
       "    <tr>\n",
       "      <th>1</th>\n",
       "      <td>-0.63 &lt; idle_time &lt;= -0.24</td>\n",
       "      <td>-0.043337</td>\n",
       "      <td>Control</td>\n",
       "      <td>Trial 1</td>\n",
       "    </tr>\n",
       "    <tr>\n",
       "      <th>2</th>\n",
       "      <td>hmm5_sd.3 &gt; 0.02</td>\n",
       "      <td>-0.037397</td>\n",
       "      <td>Control</td>\n",
       "      <td>Trial 1</td>\n",
       "    </tr>\n",
       "    <tr>\n",
       "      <th>3</th>\n",
       "      <td>-0.37 &lt; angle_sum &lt;= 0.74</td>\n",
       "      <td>0.032715</td>\n",
       "      <td>Experiment</td>\n",
       "      <td>Trial 1</td>\n",
       "    </tr>\n",
       "    <tr>\n",
       "      <th>4</th>\n",
       "      <td>MM_Intercept &gt; 0.20</td>\n",
       "      <td>-0.032688</td>\n",
       "      <td>Control</td>\n",
       "      <td>Trial 1</td>\n",
       "    </tr>\n",
       "    <tr>\n",
       "      <th>...</th>\n",
       "      <td>...</td>\n",
       "      <td>...</td>\n",
       "      <td>...</td>\n",
       "      <td>...</td>\n",
       "    </tr>\n",
       "    <tr>\n",
       "      <th>853</th>\n",
       "      <td>hmm5_p3 &gt; 0.22</td>\n",
       "      <td>-0.008435</td>\n",
       "      <td>Control</td>\n",
       "      <td>Trial 1</td>\n",
       "    </tr>\n",
       "    <tr>\n",
       "      <th>854</th>\n",
       "      <td>0.12 &lt; hmm5_mean.2 &lt;= 0.19</td>\n",
       "      <td>0.007180</td>\n",
       "      <td>Experiment</td>\n",
       "      <td>Trial 1</td>\n",
       "    </tr>\n",
       "    <tr>\n",
       "      <th>855</th>\n",
       "      <td>hmm5_mean.1 &lt;= 0.15</td>\n",
       "      <td>-0.006009</td>\n",
       "      <td>Control</td>\n",
       "      <td>Trial 1</td>\n",
       "    </tr>\n",
       "    <tr>\n",
       "      <th>856</th>\n",
       "      <td>hmm5_sd.4 &gt; 0.03</td>\n",
       "      <td>0.004631</td>\n",
       "      <td>Experiment</td>\n",
       "      <td>Trial 1</td>\n",
       "    </tr>\n",
       "    <tr>\n",
       "      <th>857</th>\n",
       "      <td>hmm5_sd.2 &lt;= 0.01</td>\n",
       "      <td>0.004165</td>\n",
       "      <td>Experiment</td>\n",
       "      <td>Trial 1</td>\n",
       "    </tr>\n",
       "  </tbody>\n",
       "</table>\n",
       "<p>858 rows × 4 columns</p>\n",
       "</div>"
      ],
      "text/plain": [
       "                       Features  Local \\n Importance       Class    Trial\n",
       "0       -0.45 < MM_Hess <= 7.22             0.399624  Experiment  Trial 1\n",
       "1    -0.63 < idle_time <= -0.24            -0.043337     Control  Trial 1\n",
       "2              hmm5_sd.3 > 0.02            -0.037397     Control  Trial 1\n",
       "3     -0.37 < angle_sum <= 0.74             0.032715  Experiment  Trial 1\n",
       "4           MM_Intercept > 0.20            -0.032688     Control  Trial 1\n",
       "..                          ...                  ...         ...      ...\n",
       "853              hmm5_p3 > 0.22            -0.008435     Control  Trial 1\n",
       "854  0.12 < hmm5_mean.2 <= 0.19             0.007180  Experiment  Trial 1\n",
       "855         hmm5_mean.1 <= 0.15            -0.006009     Control  Trial 1\n",
       "856            hmm5_sd.4 > 0.03             0.004631  Experiment  Trial 1\n",
       "857           hmm5_sd.2 <= 0.01             0.004165  Experiment  Trial 1\n",
       "\n",
       "[858 rows x 4 columns]"
      ]
     },
     "execution_count": 46,
     "metadata": {},
     "output_type": "execute_result"
    }
   ],
   "source": [
    "lime_results_Trial_12"
   ]
  },
  {
   "cell_type": "code",
   "execution_count": 47,
   "id": "bfdc91a2",
   "metadata": {},
   "outputs": [],
   "source": [
    "lime_results_Trial_12.to_csv('../../output_data/New_data/lime_dnn_eegcoordinate_data_trial_12.csv')"
   ]
  }
 ],
 "metadata": {
  "kernelspec": {
   "display_name": "Python 3 (ipykernel)",
   "language": "python",
   "name": "python3"
  },
  "language_info": {
   "codemirror_mode": {
    "name": "ipython",
    "version": 3
   },
   "file_extension": ".py",
   "mimetype": "text/x-python",
   "name": "python",
   "nbconvert_exporter": "python",
   "pygments_lexer": "ipython3",
   "version": "3.9.13"
  }
 },
 "nbformat": 4,
 "nbformat_minor": 5
}
